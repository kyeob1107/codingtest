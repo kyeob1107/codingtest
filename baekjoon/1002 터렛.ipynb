{
 "cells": [
  {
   "cell_type": "markdown",
   "metadata": {},
   "source": [
    "# tc"
   ]
  },
  {
   "cell_type": "markdown",
   "metadata": {},
   "source": [
    "5\n",
    "0 0 13 40 0 37\n",
    "0 0 3 0 7 4\n",
    "1 1 1 1 1 5\n",
    "1 1 3 1 1 3\n",
    "0 0 10 1 0 1"
   ]
  },
  {
   "cell_type": "markdown",
   "metadata": {},
   "source": [
    "# 코드"
   ]
  },
  {
   "cell_type": "code",
   "execution_count": 17,
   "metadata": {},
   "outputs": [
    {
     "name": "stdout",
     "output_type": "stream",
     "text": [
      "['0 0 13 40 0 37', '0 0 3 0 7 4', '1 1 1 1 1 5']\n"
     ]
    }
   ],
   "source": [
    "import sys\n",
    "tc = open(\"input.txt\",\"rt\").read()\n",
    "# T = int(tc[0])\n",
    "# print(T)\n",
    "# print(\"----\")\n",
    "print(tc[2:].split(\"\\n\"))"
   ]
  },
  {
   "cell_type": "code",
   "execution_count": 2,
   "metadata": {},
   "outputs": [
    {
     "name": "stdout",
     "output_type": "stream",
     "text": [
      "2\n",
      "1\n",
      "0\n",
      "-1\n",
      "0\n"
     ]
    }
   ],
   "source": [
    "import sys\n",
    "\n",
    "def d(x1, y1, x2, y2):\n",
    "    result = ((x1 - x2)**2 + (y1 - y2)**2)**0.5\n",
    "    if result%1 == 0:\n",
    "        result = int(result)\n",
    "    return result\n",
    "\n",
    "# tc = sys.stdin.read()\n",
    "tc = open(\"input.txt\", \"rt\").read()\n",
    "lines = tc.split(\"\\n\")\n",
    "T = lines[0]\n",
    "for line in lines[1:]:\n",
    "    if line.strip():  # 공백 라인 무시\n",
    "        x1, y1, r1, x2, y2, r2 = map(int, line.split())\n",
    "        # print(x1, y1, r1, x2, y2, r2)\n",
    "        if (x1, y1) == (x2, y2):\n",
    "            if r1 == r2:\n",
    "                print(-1)\n",
    "            else:\n",
    "                print(0)\n",
    "        \n",
    "        else:\n",
    "            distance = d(x1, y1, x2, y2)\n",
    "            if distance < r1 + r2 and distance > abs(r1 - r2) :\n",
    "                print(2)\n",
    "            elif distance == r1 + r2 or distance == abs(r1 - r2):\n",
    "                print(1)\n",
    "            else:\n",
    "                print(0)"
   ]
  },
  {
   "cell_type": "code",
   "execution_count": 2,
   "metadata": {},
   "outputs": [
    {
     "name": "stdout",
     "output_type": "stream",
     "text": [
      "2\n",
      "1\n",
      "0\n",
      "-1\n",
      "0\n"
     ]
    }
   ],
   "source": [
    "import sys\n",
    "\n",
    "def d(x1, y1, x2, y2):\n",
    "    result = ((x1 - x2)**2 + (y1 - y2)**2)**0.5\n",
    "    if result%1 == 0:\n",
    "        result = int(result)\n",
    "    return result\n",
    "# input = sys.stdin.readline\n",
    "input = open(\"input.txt\", \"rt\").readline\n",
    "T = int(input())\n",
    "for t in range(T):\n",
    "    x1, y1, r1, x2, y2, r2 = map(int, input().split())\n",
    "    # print(x1, y1, r1, x2, y2, r2)\n",
    "    if (x1, y1) == (x2, y2):\n",
    "        if r1 == r2:\n",
    "            print(-1)\n",
    "        else:\n",
    "            print(0)\n",
    "    \n",
    "    else:\n",
    "        distance = d(x1, y1, x2, y2)\n",
    "        if distance < r1 + r2 and distance > abs(r1 - r2) :\n",
    "            print(2)\n",
    "        elif distance == r1 + r2 or distance == abs(r1 - r2):\n",
    "            print(1)\n",
    "        else:\n",
    "            print(0)"
   ]
  },
  {
   "cell_type": "code",
   "execution_count": null,
   "metadata": {},
   "outputs": [],
   "source": [
    "# 제출 기준 1등\n",
    "import sys\n",
    "input = sys.stdin.readline\n",
    "T = int(input())\n",
    "for t in range(T) :\n",
    "    x1, y1, r1, x2, y2, r2 = map(int,input().split())\n",
    "    dist = (x1-x2)**2+(y1-y2)**2\n",
    "    R = (r1 + r2)**2\n",
    "    if (x1==x2) & (y1==y2) & (r1==r2) :\n",
    "        if r1 == 0 :\n",
    "            print(1)\n",
    "        else :\n",
    "            print(-1)\n",
    "    elif ((x1==x2) & (y1==y2)) | (R < dist) | (dist**0.5+min(r1,r2) < max(r1,r2)):\n",
    "        print(0)\n",
    "    elif (R == dist) | (dist**0.5+min(r1,r2) == max(r1,r2)) :\n",
    "        print(1)\n",
    "    else :\n",
    "        print(2)"
   ]
  }
 ],
 "metadata": {
  "kernelspec": {
   "display_name": "Python 3",
   "language": "python",
   "name": "python3"
  },
  "language_info": {
   "codemirror_mode": {
    "name": "ipython",
    "version": 3
   },
   "file_extension": ".py",
   "mimetype": "text/x-python",
   "name": "python",
   "nbconvert_exporter": "python",
   "pygments_lexer": "ipython3",
   "version": "3.8.6"
  }
 },
 "nbformat": 4,
 "nbformat_minor": 2
}
