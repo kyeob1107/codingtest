{
 "cells": [
  {
   "cell_type": "markdown",
   "metadata": {},
   "source": [
    "https://www.acmicpc.net/problem/1021"
   ]
  },
  {
   "cell_type": "markdown",
   "metadata": {},
   "source": [
    "# tc"
   ]
  },
  {
   "cell_type": "markdown",
   "metadata": {},
   "source": [
    "10 3\n",
    "1 2 3"
   ]
  },
  {
   "cell_type": "markdown",
   "metadata": {},
   "source": [
    "10 3\n",
    "2 9 5"
   ]
  },
  {
   "cell_type": "markdown",
   "metadata": {},
   "source": [
    "32 6\n",
    "27 16 30 11 6 23"
   ]
  },
  {
   "cell_type": "markdown",
   "metadata": {},
   "source": [
    "10 10\n",
    "1 6 3 2 7 9 8 4 10 5"
   ]
  },
  {
   "cell_type": "markdown",
   "metadata": {},
   "source": [
    "# 코드"
   ]
  },
  {
   "cell_type": "code",
   "execution_count": 19,
   "metadata": {},
   "outputs": [
    {
     "name": "stdout",
     "output_type": "stream",
     "text": [
      "14\n"
     ]
    }
   ],
   "source": [
    "import sys\n",
    "# input = sys.stdin.readline\n",
    "input = open(\"input.txt\", \"rt\").readline\n",
    "N, M = map(int, input().split())\n",
    "pos = list(map(int, input().split()))\n",
    "for i in range(M):\n",
    "    for j in range(i + 1, M):\n",
    "        if pos[j] > pos[i]:\n",
    "            pos[j] -=1\n",
    "head = 1\n",
    "ans = 0\n",
    "for p in pos:\n",
    "    while True:\n",
    "        if head == p:\n",
    "            N-=1\n",
    "            break\n",
    "        else:\n",
    "            move = min((p - head) % N, (N - (p - head) % N))\n",
    "            head = p\n",
    "            ans += move\n",
    "        \n",
    "print(ans)"
   ]
  },
  {
   "cell_type": "code",
   "execution_count": null,
   "metadata": {},
   "outputs": [],
   "source": [
    "# 1등 코드\n",
    "def f(i,p,q):\n",
    "    if i==m:return 0\n",
    "    x=q.index(a[i])\n",
    "    y=min((x-p)%len(q),(p-x)%len(q))\n",
    "    q.pop(x)\n",
    "    return y+f(i+1,x,q)\n",
    "n,m,*a=map(int,open(0).read().split())\n",
    "q=[*range(1,n+1)]\n",
    "print(f(0,0,q))"
   ]
  },
  {
   "cell_type": "code",
   "execution_count": 23,
   "metadata": {},
   "outputs": [
    {
     "name": "stdout",
     "output_type": "stream",
     "text": [
      "[1, 6, 3, 2, 7, 9, 8, 4, 10, 5]\n",
      "14\n"
     ]
    }
   ],
   "source": [
    "# 1등 코드 이해하기 용\n",
    "\n",
    "def f(i,p,q):\n",
    "    if i==m:return 0\n",
    "    x=q.index(a[i])\n",
    "    y=min((x-p)%len(q),(p-x)%len(q))\n",
    "    q.pop(x)\n",
    "    return y+f(i+1,x,q)\n",
    "\n",
    "check = open(\"input.txt\", \"rt\").read()\n",
    "# n,m,*a=map(int,open(0).read().split())\n",
    "n,m,*a=map(int,check.split())\n",
    "# print(check)\n",
    "print(a)\n",
    "q=[*range(1,n+1)]\n",
    "print(f(0,0,q))"
   ]
  },
  {
   "cell_type": "code",
   "execution_count": 5,
   "metadata": {},
   "outputs": [
    {
     "name": "stdout",
     "output_type": "stream",
     "text": [
      "14\n"
     ]
    }
   ],
   "source": [
    "import sys\n",
    "from collections import deque\n",
    "\n",
    "# 입력 받기\n",
    "# input = sys.stdin.readline\n",
    "input = open(\"input.txt\", \"rt\").readline\n",
    "N, M = map(int, input().split())\n",
    "pos = list(map(int, input().split()))\n",
    "\n",
    "# 초기 큐 설정\n",
    "queue = deque(range(1, N + 1))\n",
    "ans = 0\n",
    "\n",
    "for p in pos:\n",
    "    # 목표 위치 p의 인덱스 찾기\n",
    "    idx = queue.index(p)\n",
    "    \n",
    "    # 왼쪽으로 이동하는 경우와 오른쪽으로 이동하는 경우 중 최소 이동 거리 선택\n",
    "    if idx < len(queue) - idx:\n",
    "        # 왼쪽으로 이동\n",
    "        ans += idx\n",
    "        queue.rotate(-idx)\n",
    "    else:\n",
    "        # 오른쪽으로 이동\n",
    "        ans += len(queue) - idx\n",
    "        queue.rotate(len(queue) - idx)\n",
    "    \n",
    "    # 목표 위치 제거\n",
    "    queue.popleft()\n",
    "\n",
    "print(ans)\n"
   ]
  },
  {
   "cell_type": "markdown",
   "metadata": {},
   "source": []
  }
 ],
 "metadata": {
  "kernelspec": {
   "display_name": "Python 3",
   "language": "python",
   "name": "python3"
  },
  "language_info": {
   "codemirror_mode": {
    "name": "ipython",
    "version": 3
   },
   "file_extension": ".py",
   "mimetype": "text/x-python",
   "name": "python",
   "nbconvert_exporter": "python",
   "pygments_lexer": "ipython3",
   "version": "3.8.6"
  }
 },
 "nbformat": 4,
 "nbformat_minor": 2
}
