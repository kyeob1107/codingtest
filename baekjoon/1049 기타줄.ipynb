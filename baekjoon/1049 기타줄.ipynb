{
 "cells": [
  {
   "cell_type": "markdown",
   "metadata": {},
   "source": [
    "https://www.acmicpc.net/problem/1049"
   ]
  },
  {
   "cell_type": "markdown",
   "metadata": {},
   "source": [
    "# tc"
   ]
  },
  {
   "cell_type": "markdown",
   "metadata": {},
   "source": [
    "4 2\n",
    "12 3\n",
    "15 4"
   ]
  },
  {
   "cell_type": "markdown",
   "metadata": {},
   "source": [
    "10 3\n",
    "20 8\n",
    "40 7\n",
    "60 4"
   ]
  },
  {
   "cell_type": "markdown",
   "metadata": {},
   "source": [
    "15 1\n",
    "100 40"
   ]
  },
  {
   "cell_type": "markdown",
   "metadata": {},
   "source": [
    "7 2\n",
    "10 3\n",
    "12 2"
   ]
  },
  {
   "cell_type": "markdown",
   "metadata": {},
   "source": [
    "9 16\n",
    "21 25\n",
    "77 23\n",
    "23 88\n",
    "95 43\n",
    "96 19\n",
    "59 36\n",
    "80 13\n",
    "51 24\n",
    "15 8\n",
    "25 61\n",
    "21 22\n",
    "3 9\n",
    "68 68\n",
    "67 100\n",
    "83 98\n",
    "96 57"
   ]
  },
  {
   "cell_type": "markdown",
   "metadata": {},
   "source": [
    "# 코드"
   ]
  },
  {
   "cell_type": "code",
   "execution_count": 16,
   "metadata": {},
   "outputs": [
    {
     "name": "stdout",
     "output_type": "stream",
     "text": [
      "6\n"
     ]
    }
   ],
   "source": [
    "import sys\n",
    "# input = sys.stdin.readline\n",
    "input = open(\"input.txt\", \"rt\").readline\n",
    "\n",
    "N, M = map(int, input().split())\n",
    "six_prices = []\n",
    "one_prices = []\n",
    "\n",
    "for _ in range(M):\n",
    "    six, one = map(int, input().split())\n",
    "    six_prices.append(six)\n",
    "    one_prices.append(one)\n",
    "# six_prices, one_prices = map(list, zip(*(map(int, input().split()) for _ in range(M)))) #한줄로 하고 싶다면\n",
    "\n",
    "six_min = min(six_prices)\n",
    "one_min = min(one_prices)\n",
    "money = 0\n",
    "\n",
    "if six_min > one_min * 6:\n",
    "    money += N * one_min\n",
    "\n",
    "else:\n",
    "    money += (N // 6) * six_min\n",
    "    \n",
    "    if six_min > one_min * (N % 6):\n",
    "        money += one_min * (N % 6)\n",
    "        \n",
    "    else:\n",
    "        money += six_min\n",
    "\n",
    "print(money)"
   ]
  },
  {
   "cell_type": "code",
   "execution_count": 18,
   "metadata": {},
   "outputs": [
    {
     "name": "stdout",
     "output_type": "stream",
     "text": [
      "6\n"
     ]
    }
   ],
   "source": [
    "import sys\n",
    "# input = sys.stdin.readline\n",
    "input = open(\"input.txt\", \"rt\").readline\n",
    "\n",
    "N, M = map(int, input().split())\n",
    "\n",
    "six_min = 1000\n",
    "one_min = 1000\n",
    "\n",
    "for _ in range(M):\n",
    "    six, one = map(int, input().split())\n",
    "    six_min = min(six, six_min)\n",
    "    one_min = min(one, one_min)\n",
    "    \n",
    "\n",
    "money = 0\n",
    "\n",
    "if six_min > one_min * 6:\n",
    "    money += N * one_min\n",
    "\n",
    "else:\n",
    "    money += (N // 6) * six_min\n",
    "    \n",
    "    if six_min > one_min * (N % 6):\n",
    "        money += one_min * (N % 6)\n",
    "        \n",
    "    else:\n",
    "        money += six_min\n",
    "\n",
    "print(money)"
   ]
  },
  {
   "cell_type": "code",
   "execution_count": null,
   "metadata": {},
   "outputs": [],
   "source": [
    "import sys\n",
    "# input = sys.stdin.readline\n",
    "input = open(\"input.txt\", \"rt\").readline\n",
    "\n",
    "N, M = map(int, input().split())\n",
    "six_min, one_min = map(min, zip(*(map(int, input().split()) for _ in range(M))))    \n",
    "\n",
    "money = 0\n",
    "\n",
    "if six_min > one_min * 6:\n",
    "    money += N * one_min\n",
    "\n",
    "else:\n",
    "    money += (N // 6) * six_min\n",
    "    \n",
    "    if six_min > one_min * (N % 6):\n",
    "        money += one_min * (N % 6)\n",
    "        \n",
    "    else:\n",
    "        money += six_min\n",
    "\n",
    "print(money)"
   ]
  },
  {
   "cell_type": "code",
   "execution_count": null,
   "metadata": {},
   "outputs": [],
   "source": [
    "# 1등 코드\n",
    "num, nm = map(int, input().split())\n",
    "lst = []\n",
    "for i in range(nm) :\n",
    "    lst.extend(map(int, input().split()))\n",
    "pck, prc = min(lst[::2]), min(lst[1::2])\n",
    "\n",
    "print(min(pck * ((num - 1) // 6 + 1), (pck * (num // 6)) + prc * (num % 6), prc * num))"
   ]
  }
 ],
 "metadata": {
  "kernelspec": {
   "display_name": "Python 3",
   "language": "python",
   "name": "python3"
  },
  "language_info": {
   "codemirror_mode": {
    "name": "ipython",
    "version": 3
   },
   "file_extension": ".py",
   "mimetype": "text/x-python",
   "name": "python",
   "nbconvert_exporter": "python",
   "pygments_lexer": "ipython3",
   "version": "3.8.6"
  }
 },
 "nbformat": 4,
 "nbformat_minor": 2
}
