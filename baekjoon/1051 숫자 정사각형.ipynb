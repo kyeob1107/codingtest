{
 "cells": [
  {
   "cell_type": "markdown",
   "metadata": {},
   "source": [
    "https://www.acmicpc.net/problem/1051"
   ]
  },
  {
   "cell_type": "markdown",
   "metadata": {},
   "source": [
    "# tc"
   ]
  },
  {
   "cell_type": "markdown",
   "metadata": {},
   "source": [
    "3 5\n",
    "42101\n",
    "22100\n",
    "22101   \n",
    "---------------\n",
    "2 2\n",
    "12\n",
    "34      \n",
    "---------------\n",
    "2 4\n",
    "1255\n",
    "3455\n",
    "---------------\n",
    "1 10\n",
    "1234567890\n",
    "---------------\n",
    "11 10\n",
    "9785409507\n",
    "2055103694\n",
    "0861396761\n",
    "3073207669\n",
    "1233049493\n",
    "2300248968\n",
    "9769239548\n",
    "7984130001\n",
    "1670020095\n",
    "8894239889\n",
    "4053971072"
   ]
  },
  {
   "cell_type": "markdown",
   "metadata": {},
   "source": [
    "# 코드"
   ]
  },
  {
   "cell_type": "code",
   "execution_count": 10,
   "metadata": {},
   "outputs": [
    {
     "name": "stdout",
     "output_type": "stream",
     "text": [
      "49\n"
     ]
    }
   ],
   "source": [
    "# 아이디어 안 떠올라서 일단했는데 통과는 했는데 개느림\n",
    "import sys\n",
    "# input = sys.stdin.readline\n",
    "input = open(\"input.txt\", \"rt\").readline\n",
    "\n",
    "N, M = map(int, input().split())\n",
    "rectangle = []\n",
    "selections = dict()\n",
    "for i in range(N):\n",
    "    row_temp = [int(n) for n in input().strip()]\n",
    "    rectangle.append(row_temp)\n",
    "    for j, val in enumerate(row_temp):\n",
    "        if val not in selections:\n",
    "            selections[val] = [(i, j)]\n",
    "        else:\n",
    "            selections[val].append((i, j))\n",
    "\n",
    "selections = {k: v for k, v in selections.items() if len(v)>3}\n",
    "ans = 1\n",
    "max_len = min(N, M)\n",
    "for positions in selections.values():\n",
    "    for pos in positions:\n",
    "        row, col = pos\n",
    "        for r in range(1, max_len):\n",
    "            if (row + r, col) in positions:\n",
    "                if (row, col + r) in positions and (row + r, col + r) in positions:\n",
    "                    ans = max(ans, r + 1)\n",
    "print(ans**2)"
   ]
  },
  {
   "cell_type": "code",
   "execution_count": 21,
   "metadata": {},
   "outputs": [
    {
     "name": "stdout",
     "output_type": "stream",
     "text": [
      "49\n"
     ]
    }
   ],
   "source": [
    "import sys\n",
    "# input = sys.stdin.readline\n",
    "input = open(\"input.txt\", \"rt\").readline\n",
    "\n",
    "N, M = map(int, input().split())\n",
    "rectangle = [[] for _ in range(10)]\n",
    "for i in range(N):\n",
    "    row_temp = [int(n) for n in input().strip()]\n",
    "    for j, val in enumerate(row_temp):\n",
    "        rectangle[val%10].append((i, j))\n",
    "\n",
    "ans = 1\n",
    "max_len = min(N, M)\n",
    "for positions in rectangle:\n",
    "    if len(positions) < 4:\n",
    "        continue\n",
    "    \n",
    "    for pos in positions:\n",
    "        row, col = pos\n",
    "        for r in range(max_len, 0, -1):\n",
    "            if (row + r, col) in positions:\n",
    "                if (row, col + r) in positions and (row + r, col + r) in positions:\n",
    "                    ans = max(ans, r + 1)\n",
    "                    break\n",
    "print(ans**2)"
   ]
  },
  {
   "cell_type": "code",
   "execution_count": 2,
   "metadata": {},
   "outputs": [
    {
     "name": "stdout",
     "output_type": "stream",
     "text": [
      "49\n"
     ]
    }
   ],
   "source": [
    "# 1등 것 참고하고 다시 생각해서 구축 해본 것\n",
    "import sys\n",
    "\n",
    "def square(N, M):\n",
    "    for r  in range(min(N, M), 0, -1):\n",
    "        for i in range(N - r):\n",
    "            for j in range(M - r):\n",
    "                if rectangle[i][j] == rectangle[i][j + r] == rectangle[i + r][j] == rectangle[i + r][j + r]:\n",
    "                    return (r + 1) ** 2\n",
    "    return 1\n",
    "# input = sys.stdin.readline\n",
    "input = open(\"input.txt\", \"rt\").readline\n",
    "\n",
    "N, M = map(int, input().split())\n",
    "rectangle = [[int(n) for n in input().strip()] for _ in range(N)]\n",
    "print(square(N, M))"
   ]
  },
  {
   "cell_type": "code",
   "execution_count": null,
   "metadata": {},
   "outputs": [],
   "source": [
    "#1등 코드\n",
    "N, M = map(int, input().split())\n",
    "li = [input() for i in range(N)]\n",
    "\n",
    "for s in range(min(N, M), -1, -1):\n",
    "    for i in range(N - s):\n",
    "        for j in range(M - s):\n",
    "            if li[i][j] == li[i][j + s] == li[i + s][j] == li[i + s][j + s]:\n",
    "                print((s + 1) ** 2)\n",
    "                exit()"
   ]
  }
 ],
 "metadata": {
  "kernelspec": {
   "display_name": "Python 3",
   "language": "python",
   "name": "python3"
  },
  "language_info": {
   "codemirror_mode": {
    "name": "ipython",
    "version": 3
   },
   "file_extension": ".py",
   "mimetype": "text/x-python",
   "name": "python",
   "nbconvert_exporter": "python",
   "pygments_lexer": "ipython3",
   "version": "3.8.6"
  }
 },
 "nbformat": 4,
 "nbformat_minor": 2
}
