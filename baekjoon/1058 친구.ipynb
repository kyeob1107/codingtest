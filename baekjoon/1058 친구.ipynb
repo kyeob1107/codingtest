{
 "cells": [
  {
   "cell_type": "markdown",
   "metadata": {},
   "source": [
    "https://www.acmicpc.net/problem/1058"
   ]
  },
  {
   "cell_type": "markdown",
   "metadata": {},
   "source": [
    "# tc"
   ]
  },
  {
   "cell_type": "markdown",
   "metadata": {},
   "source": [
    "3\n",
    "NYY\n",
    "YNY\n",
    "YYN"
   ]
  },
  {
   "cell_type": "markdown",
   "metadata": {},
   "source": [
    "3\n",
    "NNN\n",
    "NNN\n",
    "NNN"
   ]
  },
  {
   "cell_type": "markdown",
   "metadata": {},
   "source": [
    "5\n",
    "NYNNN\n",
    "YNYNN\n",
    "NYNYN\n",
    "NNYNY\n",
    "NNNYN"
   ]
  },
  {
   "cell_type": "markdown",
   "metadata": {},
   "source": [
    "10\n",
    "NNNNYNNNNN\n",
    "NNNNYNYYNN\n",
    "NNNYYYNNNN\n",
    "NNYNNNNNNN\n",
    "YYYNNNNNNY\n",
    "NNYNNNNNYN\n",
    "NYNNNNNYNN\n",
    "NYNNNNYNNN\n",
    "NNNNNYNNNN\n",
    "NNNNYNNNNN"
   ]
  },
  {
   "cell_type": "markdown",
   "metadata": {},
   "source": [
    "15\n",
    "NNNNNNNNNNNNNNY\n",
    "NNNNNNNNNNNNNNN\n",
    "NNNNNNNYNNNNNNN\n",
    "NNNNNNNYNNNNNNY\n",
    "NNNNNNNNNNNNNNY\n",
    "NNNNNNNNYNNNNNN\n",
    "NNNNNNNNNNNNNNN\n",
    "NNYYNNNNNNNNNNN\n",
    "NNNNNYNNNNNYNNN\n",
    "NNNNNNNNNNNNNNY\n",
    "NNNNNNNNNNNNNNN\n",
    "NNNNNNNNYNNNNNN\n",
    "NNNNNNNNNNNNNNN\n",
    "NNNNNNNNNNNNNNN\n",
    "YNNYYNNNNYNNNNN"
   ]
  },
  {
   "cell_type": "markdown",
   "metadata": {},
   "source": [
    "# 코드"
   ]
  },
  {
   "cell_type": "code",
   "execution_count": 45,
   "metadata": {},
   "outputs": [
    {
     "name": "stdout",
     "output_type": "stream",
     "text": [
      "8\n"
     ]
    }
   ],
   "source": [
    "import sys\n",
    "# input = sys.stdin.readline\n",
    "input = open(\"input.txt\", \"rt\").readline\n",
    "        \n",
    "N = int(input())\n",
    "graph = []\n",
    "for _ in range(N):\n",
    "    graph.append([0 if s=='N' else 1 for s in input().strip()])\n",
    "\n",
    "max_f = 0\n",
    "for p_n in graph:\n",
    "    cnt = 0\n",
    "    friends = p_n.copy()\n",
    "    plus_f = [i for i, c in enumerate(p_n) if c]\n",
    "    # print(\"plus\", plus_f)\n",
    "    for i in plus_f:\n",
    "        # print(i, graph[i])\n",
    "        for j in range(N):\n",
    "            if graph[i][j]:\n",
    "                friends[j] = 1\n",
    "    # print(\"friends\", friends)    \n",
    "    cnt = friends.count(1) - 1\n",
    "    max_f = max(cnt, max_f)\n",
    "print(max_f)"
   ]
  },
  {
   "cell_type": "code",
   "execution_count": null,
   "metadata": {},
   "outputs": [],
   "source": [
    "# 1등 코드\n",
    "k = int(input())\n",
    "arr = [[] for i in range (k)]\n",
    "for i in range (k):\n",
    "    cache = list(input())\n",
    "    for j in range (k):\n",
    "        if cache[j] == 'Y':\n",
    "            arr[i].append(j)\n",
    "            \n",
    "mxx = 0\n",
    "for i in range (k):\n",
    "    frd = []\n",
    "    for j in arr[i]:\n",
    "        frd += arr[j]\n",
    "        \n",
    "    if len(set(frd + arr[i]))-1 > mxx:\n",
    "        mxx = len(set(frd + arr[i]))-1\n",
    "        \n",
    "print(mxx)"
   ]
  },
  {
   "cell_type": "code",
   "execution_count": 46,
   "metadata": {},
   "outputs": [
    {
     "name": "stdout",
     "output_type": "stream",
     "text": [
      "8\n"
     ]
    }
   ],
   "source": [
    "# 뤼튼 bfs\n",
    "import sys\n",
    "from collections import deque\n",
    "\n",
    "# input = sys.stdin.readline\n",
    "input = open(\"input.txt\", \"rt\").readline\n",
    "\n",
    "N = int(input())\n",
    "graph = []\n",
    "for _ in range(N):\n",
    "    graph.append([0 if s == 'N' else 1 for s in input().strip()])\n",
    "\n",
    "def bfs(node):\n",
    "    visited = [False] * N\n",
    "    queue = deque([node])\n",
    "    visited[node] = True\n",
    "    friend_count = 0\n",
    "    level = 0\n",
    "    \n",
    "    while queue and level < 2:  # 친구와 친구의 친구까지만 탐색\n",
    "        level += 1\n",
    "        for _ in range(len(queue)):\n",
    "            curr = queue.popleft()\n",
    "            for neighbor in range(N):\n",
    "                if graph[curr][neighbor] and not visited[neighbor]:\n",
    "                    visited[neighbor] = True\n",
    "                    queue.append(neighbor)\n",
    "                    friend_count += 1\n",
    "    return friend_count\n",
    "\n",
    "max_friends = 0\n",
    "for i in range(N):\n",
    "    max_friends = max(max_friends, bfs(i))\n",
    "\n",
    "print(max_friends)\n"
   ]
  },
  {
   "cell_type": "code",
   "execution_count": 53,
   "metadata": {},
   "outputs": [
    {
     "name": "stdout",
     "output_type": "stream",
     "text": [
      "8\n"
     ]
    }
   ],
   "source": [
    "# 뤼튼 dfs -> 제출하니까 또 틀렸음\n",
    "import sys\n",
    "\n",
    "# input = sys.stdin.readline\n",
    "input = open(\"input.txt\", \"rt\").readline\n",
    "\n",
    "N = int(input())\n",
    "graph = []\n",
    "for _ in range(N):\n",
    "    graph.append([0 if s == 'N' else 1 for s in input().strip()])\n",
    "\n",
    "def dfs(node, depth, visited):\n",
    "    if depth == 2:\n",
    "        return 0\n",
    "    friend_count = 0\n",
    "    for neighbor in range(N):\n",
    "        if graph[node][neighbor] and not visited[neighbor]:\n",
    "            visited[neighbor] = True\n",
    "            friend_count += 1 + dfs(neighbor, depth + 1, visited)\n",
    "            visited[neighbor] = False\n",
    "    return friend_count\n",
    "\n",
    "max_friends = 0\n",
    "for i in range(N):\n",
    "    visited = [False] * N\n",
    "    visited[i] = True\n",
    "    friend_count = 0\n",
    "    for j in range(N):\n",
    "        if graph[i][j] and not visited[j]:\n",
    "            visited[j] = True\n",
    "            friend_count += 1 + dfs(j, 1, visited)\n",
    "    max_friends = max(max_friends, friend_count)\n",
    "\n",
    "print(max_friends)\n",
    "\n",
    "# 뤼튼 dfs -> 수정한 버전인데 이것도 제출하니 틀림\n",
    "import sys\n",
    "\n",
    "# input = sys.stdin.readline\n",
    "input = open(\"input.txt\", \"rt\").readline\n",
    "\n",
    "N = int(input())\n",
    "graph = []\n",
    "for _ in range(N):\n",
    "    graph.append([0 if s == 'N' else 1 for s in input().strip()])\n",
    "\n",
    "def dfs(node, depth, visited):\n",
    "    if depth == 2:\n",
    "        return 0\n",
    "    friend_count = 0\n",
    "    for neighbor in range(N):\n",
    "        if graph[node][neighbor] and not visited[neighbor]:\n",
    "            visited[neighbor] = True\n",
    "            friend_count += 1\n",
    "            friend_count += dfs(neighbor, depth + 1, visited)\n",
    "    return friend_count\n",
    "\n",
    "max_friends = 0\n",
    "for i in range(N):\n",
    "    visited = [False] * N\n",
    "    visited[i] = True\n",
    "    max_friends = max(max_friends, dfs(i, 0, visited))\n",
    "\n",
    "print(max_friends)\n"
   ]
  },
  {
   "cell_type": "code",
   "execution_count": 48,
   "metadata": {},
   "outputs": [
    {
     "name": "stdout",
     "output_type": "stream",
     "text": [
      "8\n"
     ]
    }
   ],
   "source": [
    "# 뤼튼 bfs2\n",
    "import sys\n",
    "from collections import deque\n",
    "\n",
    "# input = sys.stdin.readline\n",
    "input = open(\"input.txt\", \"rt\").readline\n",
    "\n",
    "N = int(input())\n",
    "graph = []\n",
    "for _ in range(N):\n",
    "    graph.append([0 if s == 'N' else 1 for s in input().strip()])\n",
    "\n",
    "def bfs(start_node):\n",
    "    visited = [False] * N\n",
    "    queue = deque([(start_node, 0)])  # (노드, 깊이)\n",
    "    visited[start_node] = True\n",
    "    friend_count = 0\n",
    "    \n",
    "    while queue:\n",
    "        node, depth = queue.popleft()\n",
    "        if depth < 2:\n",
    "            for neighbor in range(N):\n",
    "                if graph[node][neighbor] and not visited[neighbor]:\n",
    "                    visited[neighbor] = True\n",
    "                    queue.append((neighbor, depth + 1))\n",
    "                    friend_count += 1\n",
    "    return friend_count\n",
    "\n",
    "max_friends = 0\n",
    "for i in range(N):\n",
    "    max_friends = max(max_friends, bfs(i))\n",
    "\n",
    "print(max_friends)\n"
   ]
  }
 ],
 "metadata": {
  "kernelspec": {
   "display_name": "Python 3",
   "language": "python",
   "name": "python3"
  },
  "language_info": {
   "codemirror_mode": {
    "name": "ipython",
    "version": 3
   },
   "file_extension": ".py",
   "mimetype": "text/x-python",
   "name": "python",
   "nbconvert_exporter": "python",
   "pygments_lexer": "ipython3",
   "version": "3.8.6"
  }
 },
 "nbformat": 4,
 "nbformat_minor": 2
}
