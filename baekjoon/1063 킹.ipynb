{
 "cells": [
  {
   "cell_type": "markdown",
   "metadata": {},
   "source": [
    "https://www.acmicpc.net/problem/1063"
   ]
  },
  {
   "cell_type": "markdown",
   "metadata": {},
   "source": [
    "# tc"
   ]
  },
  {
   "cell_type": "markdown",
   "metadata": {},
   "source": [
    "A1 A2 5\n",
    "B\n",
    "L\n",
    "LB\n",
    "RB\n",
    "LT\n",
    "\n",
    "A1 H8 1\n",
    "T\n",
    "\n",
    "A1 A2 1\n",
    "T\n",
    "\n",
    "A1 A2 2\n",
    "T\n",
    "R\n",
    "\n",
    "A8 B7 18\n",
    "RB\n",
    "RB\n",
    "RB\n",
    "RB\n",
    "RB\n",
    "RB\n",
    "RB\n",
    "RB\n",
    "RB\n",
    "RB\n",
    "RB\n",
    "RB\n",
    "RB\n",
    "RB\n",
    "RB\n",
    "RB\n",
    "RB\n",
    "RB\n",
    "\n",
    "C1 B1 3\n",
    "L\n",
    "T\n",
    "LB"
   ]
  },
  {
   "cell_type": "markdown",
   "metadata": {},
   "source": [
    "# 코드"
   ]
  },
  {
   "cell_type": "code",
   "execution_count": 41,
   "metadata": {},
   "outputs": [
    {
     "name": "stdout",
     "output_type": "stream",
     "text": [
      "B2\n",
      "A1\n"
     ]
    }
   ],
   "source": [
    "import sys\n",
    "# input = sys.stdin.readline\n",
    "input = open(\"input.txt\", \"rt\").readline\n",
    "\n",
    "def move(pos_king, pos_stone, string):\n",
    "    # 숫자로 변환 부분\n",
    "    col = col_encoding.index(pos_king[0]) + 1\n",
    "    row = int(pos_king[1])\n",
    "    col_s = col_encoding.index(pos_stone[0]) + 1\n",
    "    row_s = int(pos_stone[1])\n",
    "    \n",
    "    # 이동 해석 및 반영 부분\n",
    "    mc, mr = 0, 0\n",
    "    if 'R' in string:\n",
    "        mc += 1\n",
    "    if 'L' in string:\n",
    "        mc -= 1\n",
    "    if 'T' in string:\n",
    "        mr += 1\n",
    "    if 'B' in string:\n",
    "        mr -= 1\n",
    "    \n",
    "    col += mc\n",
    "    row += mr\n",
    "    \n",
    "    if row > 8 or row < 1  or col > 8 or col < 1:\n",
    "        return pos_king, pos_stone\n",
    "    \n",
    "    if col == col_s and row == row_s:\n",
    "        col_s += mc\n",
    "        row_s += mr\n",
    "        if row_s > 8 or row_s < 1  or col_s > 8 or col_s < 1:\n",
    "            return pos_king, pos_stone\n",
    "    \n",
    "    # 문자로 변환 부분\n",
    "    return col_encoding[col - 1] + str(row), col_encoding[col_s - 1] + str(row_s)\n",
    "\n",
    "king, stone, N = input().split()\n",
    "N = int(N)\n",
    "col_encoding = ['A', 'B', 'C', 'D', 'E', 'F', 'G', 'H']\n",
    "\n",
    "for _ in range(N):\n",
    "    king, stone = move(king, stone, input().strip())\n",
    "\n",
    "print(king, stone, sep='\\n')"
   ]
  },
  {
   "cell_type": "code",
   "execution_count": null,
   "metadata": {},
   "outputs": [],
   "source": [
    "# 디버깅 버전\n",
    "import sys\n",
    "# input = sys.stdin.readline\n",
    "input = open(\"input.txt\", \"rt\").readline\n",
    "\n",
    "def move(pos_king, pos_stone, string):\n",
    "    print(\"디버깅: \", pos_king, pos_stone, string, end=':::')\n",
    "    # 숫자로 변환 부분\n",
    "    col = col_encoding.index(pos_king[0]) + 1\n",
    "    row = int(pos_king[1])\n",
    "    col_s = col_encoding.index(pos_stone[0]) + 1\n",
    "    row_s = int(pos_stone[1])\n",
    "    \n",
    "    # 이동 해석 및 반영 부분\n",
    "    mc, mr = 0, 0\n",
    "    if 'R' in string:\n",
    "        mc += 1\n",
    "    if 'L' in string:\n",
    "        mc -= 1\n",
    "    if 'T' in string:\n",
    "        mr += 1\n",
    "    if 'B' in string:\n",
    "        mr -= 1\n",
    "    \n",
    "    col += mc\n",
    "    row += mr\n",
    "    \n",
    "    print(col, row, col_s, row_s)\n",
    "    if row > 8 or row < 1  or col > 8 or col < 1:\n",
    "        print(\"응 아니야 돌아가:\", col, row)\n",
    "        return pos_king, pos_stone\n",
    "    \n",
    "    if col == col_s and row == row_s:\n",
    "        col_s += mc\n",
    "        row_s += mr\n",
    "        if row_s > 8 or row_s < 1  or col_s > 8 or col_s < 1:\n",
    "            print(\"응 아니야 돌아가2:\", col_s, row_s)\n",
    "            return pos_king, pos_stone\n",
    "    \n",
    "    # 문자로 변환 부분\n",
    "    return col_encoding[col - 1] + str(row), col_encoding[col_s - 1] + str(row_s)\n",
    "\n",
    "king, stone, N = input().split()\n",
    "N = int(N)\n",
    "col_encoding = ['A', 'B', 'C', 'D', 'E', 'F', 'G', 'H']\n",
    "# 벽 만들어서 -1로 할까하다가 효율이 없을 것 같아서 일단 보류\n",
    "\n",
    "for _ in range(N):\n",
    "    king, stone = move(king, stone, input().strip())\n",
    "    print(\"디버깅2: \", king, stone)\n",
    "\n",
    "print(king, stone, sep='\\n')"
   ]
  },
  {
   "cell_type": "code",
   "execution_count": null,
   "metadata": {},
   "outputs": [],
   "source": [
    "# 1등 코드\n",
    "import sys\n",
    "input = sys.stdin.readline\n",
    "c = {chr(i+64):i for i in range(1,9)}\n",
    "c_r = {i:chr(i+64) for i in range(1,9)}\n",
    "dir = {\"R\": (0,1),\"L\": (0,-1),\"B\": (-1,0),\"T\": (1,0),\n",
    "       \"RT\": (1,1),\"LT\": (1,-1),\"RB\": (-1,1),\"LB\": (-1,-1)}\n",
    "\n",
    "k,s,n = input().split()\n",
    "kx, ky = int(k[1]),c[k[0]]\n",
    "sx, sy = int(s[1]),c[s[0]]\n",
    "for _ in range(int(n)):\n",
    "    i,j = dir[input().strip()]\n",
    "    nkx, nky = kx + i, ky + j\n",
    "    if nkx == sx and nky == sy:\n",
    "        nsx, nsy = sx + i, sy + j\n",
    "        if 0 < nsx <= 8 and 0 < nsy <= 8:\n",
    "            kx, ky, sx, sy = nkx, nky, nsx, nsy\n",
    "    elif 0 < nkx <= 8 and 0 < nky <= 8:\n",
    "        kx, ky = nkx, nky\n",
    "print(\"\".join(map(str,[c_r[ky],kx])))\n",
    "print(\"\".join(map(str,[c_r[sy],sx])))"
   ]
  },
  {
   "cell_type": "code",
   "execution_count": 43,
   "metadata": {},
   "outputs": [
    {
     "name": "stdout",
     "output_type": "stream",
     "text": [
      "B2\n",
      "A1\n"
     ]
    }
   ],
   "source": [
    "# 1등 코드 참고하여 다시\n",
    "import sys\n",
    "# input = sys.stdin.readline\n",
    "input = open(\"input.txt\", \"rt\").readline\n",
    "king, stone, N = input().split()\n",
    "N = int(N)\n",
    "c = {chr(i+64):i for i in range(1,9)}\n",
    "c_r = {i:chr(i+64) for i in range(1,9)}\n",
    "move = {\"R\": (1,0),\"L\": (-1,0),\"B\": (0,-1),\"T\": (0,1),\n",
    "       \"RT\": (1,1),\"LT\": (-1,1),\"RB\": (1,-1),\"LB\": (-1,-1)} # (c,r)\n",
    "\n",
    "kc, kr = c[king[0]], int(king[1])\n",
    "sc, sr = c[stone[0]], int(stone[1])\n",
    "for _ in range(N):\n",
    "    dc, dr = move[input().strip()]\n",
    "    nkc, nkr = kc + dc, kr + dr\n",
    "    if nkc == sc and nkr == sr:\n",
    "        nsc, nsr = sc + dc, sr + dr\n",
    "        if 0 < nsc <= 8 and 0 < nsr <= 8:\n",
    "            kc, kr, sc, sr = nkc, nkr, nsc, nsr\n",
    "    elif 0 < nkc <= 8 and 0 < nkr <= 8:\n",
    "        kc, kr = nkc, nkr\n",
    "        \n",
    "print(c_r[kc] + str(kr), c_r[sc] + str(sr), sep='\\n')"
   ]
  }
 ],
 "metadata": {
  "kernelspec": {
   "display_name": "Python 3",
   "language": "python",
   "name": "python3"
  },
  "language_info": {
   "codemirror_mode": {
    "name": "ipython",
    "version": 3
   },
   "file_extension": ".py",
   "mimetype": "text/x-python",
   "name": "python",
   "nbconvert_exporter": "python",
   "pygments_lexer": "ipython3",
   "version": "3.8.6"
  }
 },
 "nbformat": 4,
 "nbformat_minor": 2
}
