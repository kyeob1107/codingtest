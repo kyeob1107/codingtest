{
 "cells": [
  {
   "cell_type": "markdown",
   "metadata": {},
   "source": [
    "https://www.acmicpc.net/problem/1064"
   ]
  },
  {
   "cell_type": "markdown",
   "metadata": {},
   "source": [
    "# tc"
   ]
  },
  {
   "cell_type": "markdown",
   "metadata": {},
   "source": [
    "0 0 0 1 1 0\n",
    "\n",
    "0 0 4 0 0 3\n",
    "\n",
    "0 0 1 0 47 0\n",
    "\n",
    "1 2 3 4 8 7\n",
    "\n",
    "2 -1 -7 2 -1 0"
   ]
  },
  {
   "cell_type": "markdown",
   "metadata": {},
   "source": [
    "Input 1\n",
    "-5000 -5000 -2 -1 4997 4999\n",
    "\n",
    "Output 1\n",
    "14140.72148088632569472\n",
    "\n",
    "Input 2\n",
    "-5000 -5000 4988 4988 4999 4999\n",
    "\n",
    "Output 2\n",
    "-1\n",
    "\n",
    "Input 3\n",
    "-5000 -5000 2073 2073 5000 5000\n",
    "\n",
    "Output 3\n",
    "-1"
   ]
  },
  {
   "cell_type": "markdown",
   "metadata": {},
   "source": [
    "# 코드"
   ]
  },
  {
   "cell_type": "code",
   "execution_count": 6,
   "metadata": {},
   "outputs": [
    {
     "name": "stdout",
     "output_type": "stream",
     "text": [
      "14140.721480886326\n"
     ]
    }
   ],
   "source": [
    "import sys\n",
    "# input = sys.stdin.readline\n",
    "input = open(\"input.txt\", \"rt\").readline\n",
    "\n",
    "xa, ya, xb, yb, xc, yc = map(int, input().split())\n",
    "r1 = ((xa - xb)**2 + (ya - yb)**2)**0.5\n",
    "r2 = ((xc - xb)**2 + (yc - yb)**2)**0.5\n",
    "r3 = ((xc - xa)**2 + (yc - ya)**2)**0.5\n",
    "r = [r1, r2, r3]\n",
    "\n",
    "if sum(r) - max(r) <= max(r):\n",
    "   print(-1.0) \n",
    "if ((xa-xb)*(ya-yc)==(ya-yb)*(xa-xc)):\n",
    "    print(-1.0)\n",
    "else:\n",
    "    print((max(r) - min(r)) * 2)"
   ]
  }
 ],
 "metadata": {
  "kernelspec": {
   "display_name": "Python 3",
   "language": "python",
   "name": "python3"
  },
  "language_info": {
   "codemirror_mode": {
    "name": "ipython",
    "version": 3
   },
   "file_extension": ".py",
   "mimetype": "text/x-python",
   "name": "python",
   "nbconvert_exporter": "python",
   "pygments_lexer": "ipython3",
   "version": "3.8.6"
  }
 },
 "nbformat": 4,
 "nbformat_minor": 2
}
