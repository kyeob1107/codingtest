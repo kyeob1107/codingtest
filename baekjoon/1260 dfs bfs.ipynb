{
 "cells": [
  {
   "cell_type": "markdown",
   "metadata": {},
   "source": [
    "# 문제\n",
    "https://www.acmicpc.net/problem/1260    \n",
    "그래프를 DFS로 탐색한 결과와 BFS로 탐색한 결과를 출력하는 프로그램을 작성하시오. 단, 방문할 수 있는 정점이 여러 개인 경우에는 정점 번호가 작은 것을 먼저 방문하고, 더 이상 방문할 수 있는 점이 없는 경우 종료한다. 정점 번호는 1번부터 N번까지이다.     \n",
    "\n",
    "입력:   \n",
    "첫째 줄에 정점의 개수 N(1 ≤ N ≤ 1,000), 간선의 개수 M(1 ≤ M ≤ 10,000), 탐색을 시작할 정점의 번호 V가 주어진다. 다음 M개의 줄에는 간선이 연결하는 두 정점의 번호가 주어진다. 어떤 두 정점 사이에 여러 개의 간선이 있을 수 있다. 입력으로 주어지는 간선은 양방향이다.     \n",
    "\n",
    "출력:   \n",
    "첫째 줄에 DFS를 수행한 결과를, 그 다음 줄에는 BFS를 수행한 결과를 출력한다. V부터 방문된 점을 순서대로 출력하면 된다."
   ]
  },
  {
   "cell_type": "markdown",
   "metadata": {},
   "source": [
    "## 문제 푸는 방식 관련 찾은 글\n",
    "https://www.acmicpc.net/board/view/87996"
   ]
  },
  {
   "cell_type": "code",
   "execution_count": 3,
   "metadata": {},
   "outputs": [
    {
     "name": "stdout",
     "output_type": "stream",
     "text": [
      "55 33\n"
     ]
    }
   ],
   "source": [
    "# # 입력 예시\n",
    "# # example1 = [[4 5 1],\n",
    "# #             [1 2],\n",
    "# #             [1 3],\n",
    "# #             [1 4],\n",
    "# #             [2 4],\n",
    "# #             [3 4]]\n",
    "# input_data = input()\n",
    "# print(input_data)"
   ]
  },
  {
   "cell_type": "code",
   "execution_count": 4,
   "metadata": {},
   "outputs": [],
   "source": [
    "# def set_open(input_):\n",
    "#     class open:\n",
    "#         def __init__(self, x):\n",
    "#             self.read = lambda: input_\n",
    "#         def __iter__(self):\n",
    "#             return iter(input_.split(\"\\n\"))\n",
    "#     return open\n",
    "\n",
    "# def set_input(input_):\n",
    "#     return iter(input_.split(\"\\n\")).__next__\n",
    "\n",
    "# input = set_input(\n",
    "#     \"\"\"4 5 1\n",
    "#     1 2\n",
    "#     1 3\n",
    "#     1 4\n",
    "#     2 4\n",
    "#     3 4\"\"\"\n",
    "#     )\n",
    "# print(input())"
   ]
  },
  {
   "cell_type": "markdown",
   "metadata": {},
   "source": [
    "4 5 1   \n",
    "1 2     \n",
    "1 3     \n",
    "1 4     \n",
    "2 4     \n",
    "3 4"
   ]
  },
  {
   "cell_type": "markdown",
   "metadata": {},
   "source": [
    "5 5 3       \n",
    "5 4     \n",
    "5 2     \n",
    "1 2     \n",
    "3 4     \n",
    "3 1     "
   ]
  },
  {
   "cell_type": "markdown",
   "metadata": {},
   "source": [
    "1000 1 1000     \n",
    "999 1000"
   ]
  },
  {
   "cell_type": "markdown",
   "metadata": {},
   "source": [
    "3 3 1   \n",
    "1 2     \n",
    "2 3     \n",
    "3 1     "
   ]
  },
  {
   "cell_type": "code",
   "execution_count": 14,
   "metadata": {},
   "outputs": [
    {
     "name": "stdout",
     "output_type": "stream",
     "text": [
      "4, 5, 1\n",
      "1 2\n",
      "1 3\n",
      "1 4\n",
      "2 4\n",
      "3 4\n",
      "[[1, 2], [1, 3], [1, 4], [2, 4], [3, 4]]\n",
      "[1, 2, 4, 3]\n",
      "[1, 2, 3, 4]\n"
     ]
    }
   ],
   "source": [
    "from sys import stdin as s\n",
    "from collections import deque\n",
    "\n",
    "line_data = []\n",
    "nodes_list = deque()\n",
    "answer = []\n",
    "answer2 = []\n",
    "# 읽어오는 부분\n",
    "s = open(\"input1260.txt\",\"rt\") #절대 경로도 되고, 상대 경로도 된다.\n",
    "                         # r read t text \n",
    "\n",
    "n, m, v = map(int, s.readline().split())\n",
    "print(f\"{n}, {m}, {v}\") # 확인용\n",
    "\n",
    "for i in range(m):\n",
    "    start, end = map(int,s.readline().split())\n",
    "    print(start, end) #확인용\n",
    "    line_data.append([start, end]) # [[1, 2], [1, 3], [1, 4], [2, 4], [3, 4]]\n",
    "print(line_data) #확인용\n",
    "\n",
    "# dfs\n",
    "nodes_list.append(v)\n",
    "while nodes_list:\n",
    "    node = nodes_list.pop()\n",
    "    \n",
    "    if node not in answer:\n",
    "        answer.append(node)\n",
    "        need_nodes=[]\n",
    "        \n",
    "        for elem in line_data:\n",
    "            if node in elem:\n",
    "                for value in elem:\n",
    "                    if value != node:\n",
    "                        need_nodes.append(value)\n",
    "        need_nodes.sort(reverse=True)\n",
    "        nodes_list.extend(need_nodes)\n",
    "\n",
    "print(answer)\n",
    "\n",
    "# bfs\n",
    "nodes_list.append(v)\n",
    "while nodes_list:\n",
    "    node = nodes_list.popleft()\n",
    "    \n",
    "    if node not in answer2:\n",
    "        answer2.append(node)\n",
    "        need_nodes=[]\n",
    "        \n",
    "        for elem in line_data:\n",
    "            if node in elem:\n",
    "                for value in elem:\n",
    "                    if value != node:\n",
    "                        need_nodes.append(value)\n",
    "        need_nodes.sort()\n",
    "        nodes_list.extend(need_nodes)\n",
    "\n",
    "print(answer2)"
   ]
  },
  {
   "cell_type": "code",
   "execution_count": 16,
   "metadata": {},
   "outputs": [
    {
     "name": "stdout",
     "output_type": "stream",
     "text": [
      "1 2 4 3\n",
      "1 2 3 4\n"
     ]
    }
   ],
   "source": [
    "from sys import stdin as s\n",
    "from collections import deque\n",
    "\n",
    "line_data = []\n",
    "nodes_list = deque()\n",
    "answer = []\n",
    "answer2 = []\n",
    "# 읽어오는 부분\n",
    "s = open(\"input1260.txt\",\"rt\") #절대 경로도 되고, 상대 경로도 된다.\n",
    "                         # r read t text \n",
    "\n",
    "n, m, v = map(int, s.readline().split())\n",
    "for i in range(m):\n",
    "    start, end = map(int,s.readline().split())\n",
    "    line_data.append([start, end]) # [[1, 2], [1, 3], [1, 4], [2, 4], [3, 4]]\n",
    "\n",
    "# dfs\n",
    "nodes_list.append(v)\n",
    "while nodes_list:\n",
    "    node = nodes_list.pop()\n",
    "    \n",
    "    if node not in answer:\n",
    "        answer.append(node)\n",
    "        need_nodes=[]\n",
    "        \n",
    "        for elem in line_data:\n",
    "            if node in elem:\n",
    "                for value in elem:\n",
    "                    if value != node:\n",
    "                        need_nodes.append(value)\n",
    "        need_nodes.sort(reverse=True)\n",
    "        nodes_list.extend(need_nodes)\n",
    "\n",
    "# for i in answer:\n",
    "#     print(i, end=\" \")\n",
    "# print()\n",
    "print(*answer)\n",
    "\n",
    "# bfs\n",
    "nodes_list.append(v)\n",
    "while nodes_list:\n",
    "    node = nodes_list.popleft()\n",
    "    \n",
    "    if node not in answer2:\n",
    "        answer2.append(node)\n",
    "        need_nodes=[]\n",
    "        \n",
    "        for elem in line_data:\n",
    "            if node in elem:\n",
    "                for value in elem:\n",
    "                    if value != node:\n",
    "                        need_nodes.append(value)\n",
    "        need_nodes.sort()\n",
    "        nodes_list.extend(need_nodes)\n",
    "\n",
    "# for i in answer2:\n",
    "#     print(i, end=\" \")\n",
    "print(*answer2)"
   ]
  },
  {
   "cell_type": "code",
   "execution_count": 17,
   "metadata": {},
   "outputs": [
    {
     "name": "stdout",
     "output_type": "stream",
     "text": [
      "1 2 4 3\n",
      "1 2 3 4\n"
     ]
    }
   ],
   "source": [
    "# DFS와 BFS\n",
    "import sys\n",
    "# input = sys.stdin.readline\n",
    "input = open(\"input1260.txt\",\"rt\").readline\n",
    "\n",
    "def dfs(n):\n",
    "    visited[n] = True\n",
    "    dfs_list.append(n)\n",
    "    for w in sorted(adj_list[n]):\n",
    "        if not visited[w]:\n",
    "            dfs(w)\n",
    "\n",
    "\n",
    "def bfs(n):\n",
    "    visited[n] = True\n",
    "    queue = [n]\n",
    "    while queue:\n",
    "        v = queue.pop(0)\n",
    "        bfs_list.append(v)\n",
    "        for w in sorted(adj_list[v]):\n",
    "            if not visited[w]:\n",
    "                visited[w] = True\n",
    "                queue.append(w)\n",
    "\n",
    "\n",
    "N, M, V = map(int, input().split())\n",
    "adj_list = [[] for _ in range(N + 1)]\n",
    "visited = [False] * (N + 1)\n",
    "\n",
    "for _ in range(M):\n",
    "    a, b = map(int, input().split())\n",
    "    adj_list[a].append(b)\n",
    "    adj_list[b].append(a)\n",
    "\n",
    "dfs_list = []\n",
    "bfs_list = []\n",
    "\n",
    "dfs(V)\n",
    "visited = [False] * (N + 1)\n",
    "bfs(V)\n",
    "\n",
    "print(*dfs_list)\n",
    "print(*bfs_list)"
   ]
  },
  {
   "cell_type": "code",
   "execution_count": 4,
   "metadata": {},
   "outputs": [
    {
     "name": "stdout",
     "output_type": "stream",
     "text": [
      "1 2 4 3\n",
      "1 2 3 4\n"
     ]
    }
   ],
   "source": [
    "# 다른 1등 코드 보고 이해 후 모방해서 해보기\n",
    "from collections import deque\n",
    "from sys import stdin\n",
    "\n",
    "# input = stdin.readline\n",
    "input = open(\"input1260.txt\",\"rt\").readline\n",
    "\n",
    "def dfs(s):\n",
    "    visited[s-1] = True\n",
    "    dfs_list.append(s)\n",
    "    for e in sorted(adj_list[s-1]):\n",
    "        if not visited[e-1]:\n",
    "            dfs(e)\n",
    "            \n",
    "def bfs(s):\n",
    "    visited[s-1] = True\n",
    "    queue = deque([s])\n",
    "    while queue:\n",
    "        v = queue.popleft()\n",
    "        bfs_list.append(v)\n",
    "        for e in sorted(adj_list[v-1]):\n",
    "            if not visited[e-1]:\n",
    "                visited[e-1] = True\n",
    "                queue.append(e)\n",
    "    \n",
    "N, M, V = map(int, input().split())\n",
    "adj_list = [[] for _ in range(N)]\n",
    "visited = [False] * (N)\n",
    "\n",
    "for _ in range(M):\n",
    "    a, b = map(int, input().split())\n",
    "    adj_list[a - 1].append(b)\n",
    "    adj_list[b - 1].append(a)\n",
    "\n",
    "dfs_list = []\n",
    "bfs_list = []\n",
    "\n",
    "dfs(V)\n",
    "visited = [False] * (N)\n",
    "bfs(V)\n",
    "\n",
    "print(*dfs_list)\n",
    "print(*bfs_list)"
   ]
  }
 ],
 "metadata": {
  "kernelspec": {
   "display_name": "Python 3",
   "language": "python",
   "name": "python3"
  },
  "language_info": {
   "codemirror_mode": {
    "name": "ipython",
    "version": 3
   },
   "file_extension": ".py",
   "mimetype": "text/x-python",
   "name": "python",
   "nbconvert_exporter": "python",
   "pygments_lexer": "ipython3",
   "version": "3.8.6"
  }
 },
 "nbformat": 4,
 "nbformat_minor": 2
}
