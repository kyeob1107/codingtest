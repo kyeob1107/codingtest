{
 "cells": [
  {
   "cell_type": "markdown",
   "metadata": {},
   "source": [
    "# 숨바꼭질\n",
    "https://www.acmicpc.net/problem/1697    \n",
    "수빈이는 동생과 숨바꼭질을 하고 있다. 수빈이는 현재 점 N(0 ≤ N ≤ 100,000)에 있고, 동생은 점 K(0 ≤ K ≤ 100,000)에 있다. 수빈이는 걷거나 순간이동을 할 수 있다. 만약, 수빈이의 위치가 X일 때 걷는다면 1초 후에 X-1 또는 X+1로 이동하게 된다. 순간이동을 하는 경우에는 1초 후에 2*X의 위치로 이동하게 된다.\n",
    "\n",
    "수빈이와 동생의 위치가 주어졌을 때, 수빈이가 동생을 찾을 수 있는 가장 빠른 시간이 몇 초 후인지 구하는 프로그램을 작성하시오.\n",
    "\n",
    "입력:   \n",
    "첫 번째 줄에 수빈이가 있는 위치 N과 동생이 있는 위치 K가 주어진다. N과 K는 정수이다.    \n",
    "\n",
    "출력:    \n",
    "수빈이가 동생을 찾는 가장 빠른 시간을 출력한다."
   ]
  },
  {
   "cell_type": "code",
   "execution_count": 93,
   "metadata": {},
   "outputs": [
    {
     "name": "stdout",
     "output_type": "stream",
     "text": [
      "5 17 4\n",
      "35 123 7\n",
      "0 3 3\n",
      "25000 49999 2\n",
      "6 11 2\n",
      "0 0 0\n",
      "0 1 1\n",
      "5 0 5\n",
      "1 15 5\n",
      "10007 98767 2343\n",
      "1 100000 21\n",
      "15964 89498 4781\n",
      "1 0 1\n",
      "5 35 5\n",
      "10 40 2\n",
      "3482 45592 637\n",
      "0 99999 23\n",
      "50000 100000 1\n",
      "5 12 2\n",
      "100 0 100\n",
      "6 16 3\n",
      "8 20 3\n",
      "3 43 6\n",
      "4 27 5\n",
      "6 43 5\n",
      "7 43 6\n",
      "100 1 99\n",
      "10 19 2\n",
      "5 19 3\n",
      "1 20 5\n",
      "0 100000 22\n",
      "9 5 4\n"
     ]
    }
   ],
   "source": [
    "# 한번에 비교용\n",
    "\"\"\"\n",
    "원리 설명\n",
    "\n",
    "\"\"\"\n",
    "\n",
    "from sys import stdin\n",
    "\n",
    "def Hide_and_seek(N,K):\n",
    "    print(N, K, end=' ')\n",
    "    if N == K:\n",
    "        print(0)\n",
    "\n",
    "    else:\n",
    "        zero = 0\n",
    "        loan = 0\n",
    "        if N == 0:\n",
    "            N += 1\n",
    "            zero = 1\n",
    "            \n",
    "        num = len(bin(K//N)[2:]) - 1\n",
    "\n",
    "        # if (bin(K - (N * 2**num)).count('1') > bin(K - (N * 2**(num+1))).count('1') \n",
    "        #     or abs(K - (N * 2**num)) > abs(K - (N * 2**(num+1)))):\n",
    "        #     num += 1\n",
    "        answer = []\n",
    "        for n_i in [num, num+1]:\n",
    "            if ((bin(K - N*2**n_i).count('1') - bin((K-1) - N*2**n_i).count('1') > 2) \n",
    "            or (bin(K - N*2**n_i).count('1') - bin((K+1) - N*2**n_i).count('1') > 2)):\n",
    "                loan += 1\n",
    "                if bin((K-1) - N*2**n_i).count('1') < bin((K+1) - N*2**n_i).count('1'):\n",
    "                    K -= 1\n",
    "                elif bin((K-1) - N*2**n_i).count('1') > bin((K+1) - N*2**n_i).count('1'):\n",
    "                    K += 1\n",
    "            mod = K - N*2**n_i\n",
    "            div = mod//2**n_i\n",
    "            if ((bin(mod - div*2**n_i).count('1') > bin(mod - (div+1)*2**n_i).count('1')) \n",
    "                or (div<0 and (bin(mod - div*2**n_i).count('1') == bin(mod - (div+1)*2**n_i).count('1')))):\n",
    "                div +=1\n",
    "            mod = mod - div*2**n_i\n",
    "            answer.append(zero + loan + n_i + abs(div) + bin(mod).count('1'))\n",
    "        #print(zero + num + abs(div) + bin(mod).count('1'))\n",
    "        print(min(answer))\n",
    "\n",
    "# input = stdin.readline\n",
    "# input = open(\"input1697.txt\",\"rt\").readline\n",
    "# N, K = map(int, input().split())\n",
    "# input 파일을 열고 한 줄씩 읽어서 처리합니다.\n",
    "with open(\"input1697.txt\", \"rt\") as file:\n",
    "    for line in file:\n",
    "        N, K = map(int, line.split())\n",
    "        Hide_and_seek(N, K)"
   ]
  },
  {
   "cell_type": "code",
   "execution_count": 1,
   "metadata": {},
   "outputs": [
    {
     "name": "stdout",
     "output_type": "stream",
     "text": [
      "5 17 4\n",
      "35 123 7\n",
      "0 3 3\n",
      "25000 49999 2\n",
      "6 11 2\n",
      "0 0 0\n",
      "0 1 1\n",
      "5 0 5\n",
      "1 15 5\n",
      "10007 98767 2343\n",
      "1 100000 21\n",
      "15964 89498 4781\n",
      "1 0 1\n",
      "5 35 5\n",
      "10 40 2\n",
      "3482 45592 637\n",
      "0 99999 23\n",
      "50000 100000 1\n",
      "5 12 2\n",
      "100 0 100\n",
      "6 16 3\n",
      "8 20 3\n",
      "3 43 6\n",
      "4 27 5\n",
      "6 43 5\n",
      "7 43 6\n",
      "100 1 99\n",
      "10 19 2\n",
      "5 19 3\n",
      "1 20 5\n",
      "0 100000 22\n",
      "9 5 4\n"
     ]
    }
   ],
   "source": [
    "# 한번에 비교용\n",
    "\"\"\"\n",
    "원리 설명\n",
    "\n",
    "\"\"\"\n",
    "\n",
    "from collections import deque\n",
    "from sys import stdin\n",
    "\n",
    "def Hide_and_seek(N,K):\n",
    "    print(N, K, end=' ')\n",
    "    if N >= K:\n",
    "        print(N - K)\n",
    "        \n",
    "    else:\n",
    "        queue = deque([(N, 0)])\n",
    "        visited = [False] * 100001\n",
    "        visited[N] =True\n",
    "        \n",
    "        while queue:\n",
    "            current, time = queue.popleft()\n",
    "            \n",
    "            if current == K:\n",
    "                print(time)\n",
    "                break\n",
    "            \n",
    "            next_positions = [current - 1, current + 1, current * 2]\n",
    "            for next_pos in next_positions:\n",
    "                if 0 <= next_pos <= 100000 and not visited[next_pos]:\n",
    "                    visited[next_pos] = True\n",
    "                    queue.append((next_pos, time + 1))\n",
    "\n",
    "# input = stdin.readline\n",
    "# input = open(\"input1697.txt\",\"rt\").readline\n",
    "# N, K = map(int, input().split())\n",
    "# input 파일을 열고 한 줄씩 읽어서 처리합니다.\n",
    "with open(\"input1697.txt\", \"rt\") as file:\n",
    "    for line in file:\n",
    "        N, K = map(int, line.split())\n",
    "        Hide_and_seek(N, K)"
   ]
  },
  {
   "cell_type": "markdown",
   "metadata": {},
   "source": [
    "예시    \n",
    "5 17 -> 4    \n",
    "35 123 -> 7  \n",
    "0 3 -> 3    \n",
    "25000 49999 -> 2     "
   ]
  },
  {
   "cell_type": "markdown",
   "metadata": {},
   "source": [
    "6 11 -> 2   \n",
    "0 0 -> 0    \n",
    "0 1 -> 1    \n",
    "5 0 -> 5    \n",
    "1 15 -> 5   \n",
    "10007 98767 -> 2343     \n",
    "1 100000 -> 21  \n",
    "15964 89498 -> 4781     \n",
    "1 0 -> 1    \n",
    "5 35 -> 5   \n",
    "10 40 -> 2      \n",
    "3482 45592 -> 637   \n",
    "0 99999 -> 23   \n",
    "50000 100000 -> 1   \n",
    "5 12 -> 2   \n",
    "100 0 -> 100    \n",
    "6 16 -> 3   \n",
    "8 20 -> 3   \n",
    "3 43 -> 6   \n",
    "4 27 -> 5   \n",
    "6 43 -> 5   \n",
    "7 43 -> 6   \n",
    "100 1 -> 99     \n",
    "10 19 -> 2      \n",
    "5 19 ->3    \n",
    "1 20 -> 5   \n",
    "0 100000 ->22   \n",
    "9 5 -> 4    "
   ]
  },
  {
   "cell_type": "code",
   "execution_count": 89,
   "metadata": {},
   "outputs": [
    {
     "name": "stdout",
     "output_type": "stream",
     "text": [
      "1 1 16 0 34464 5\n",
      "1 1 17 -1 100000 6\n",
      "23\n"
     ]
    }
   ],
   "source": [
    "\"\"\"\n",
    "원리 설명\n",
    "\n",
    "\"\"\"\n",
    "\n",
    "from sys import stdin\n",
    "\n",
    "# input = stdin.readline\n",
    "N, K = map(int, input().split())\n",
    "\n",
    "if N == K:\n",
    "    print(0)\n",
    "\n",
    "else:\n",
    "    zero = 0\n",
    "    loan = 0\n",
    "    if N == 0:\n",
    "        N += 1\n",
    "        zero = 1\n",
    "        \n",
    "    num = len(bin(K//N)[2:]) - 1\n",
    "\n",
    "    # if (bin(K - (N * 2**num)).count('1') > bin(K - (N * 2**(num+1))).count('1') \n",
    "    #     or abs(K - (N * 2**num)) > abs(K - (N * 2**(num+1)))):\n",
    "    #     num += 1\n",
    "    answer = []\n",
    "    for n_i in [num, num+1]:\n",
    "        if ((bin(K - N*2**n_i).count('1') - bin((K-1) - N*2**n_i).count('1') > 2) \n",
    "            or (bin(K - N*2**n_i).count('1') - bin((K+1) - N*2**n_i).count('1') > 2)):\n",
    "            loan += 1\n",
    "            if bin((K-1) - N*2**n_i).count('1') < bin((K+1) - N*2**n_i).count('1'):\n",
    "                K -= 1\n",
    "            elif bin((K-1) - N*2**n_i).count('1') > bin((K+1) - N*2**n_i).count('1'):\n",
    "                K += 1\n",
    "        mod = K - N*2**n_i\n",
    "        div = mod//2**n_i\n",
    "        if ((bin(mod - div*2**n_i).count('1') > bin(mod - (div+1)*2**n_i).count('1')) \n",
    "            or (div<0 and (bin(mod - div*2**n_i).count('1') == bin(mod - (div+1)*2**n_i).count('1')))\n",
    "            ):\n",
    "            div +=1\n",
    "        mod = mod - div*2**n_i\n",
    "        answer.append(zero+ loan + n_i + abs(div) + bin(mod).count('1'))\n",
    "        print(zero, loan, n_i, div, mod, bin(mod).count('1'))\n",
    "    print(min(answer))"
   ]
  },
  {
   "cell_type": "code",
   "execution_count": 34,
   "metadata": {},
   "outputs": [
    {
     "data": {
      "text/plain": [
       "-31072"
      ]
     },
     "execution_count": 34,
     "metadata": {},
     "output_type": "execute_result"
    }
   ],
   "source": [
    "100000 - 2**17"
   ]
  },
  {
   "cell_type": "code",
   "execution_count": 19,
   "metadata": {},
   "outputs": [
    {
     "data": {
      "text/plain": [
       "-1"
      ]
     },
     "execution_count": 19,
     "metadata": {},
     "output_type": "execute_result"
    }
   ],
   "source": [
    "-5//8"
   ]
  },
  {
   "cell_type": "code",
   "execution_count": 92,
   "metadata": {},
   "outputs": [
    {
     "name": "stdout",
     "output_type": "stream",
     "text": [
      "0b1111100\n"
     ]
    },
    {
     "data": {
      "text/plain": [
       "5"
      ]
     },
     "execution_count": 92,
     "metadata": {},
     "output_type": "execute_result"
    }
   ],
   "source": [
    "print(bin(124))\n",
    "bin(124)[2:].count('1')"
   ]
  },
  {
   "cell_type": "code",
   "execution_count": 68,
   "metadata": {},
   "outputs": [
    {
     "data": {
      "text/plain": [
       "16"
      ]
     },
     "execution_count": 68,
     "metadata": {},
     "output_type": "execute_result"
    }
   ],
   "source": [
    "len(bin(99999)[2:])-1"
   ]
  },
  {
   "cell_type": "code",
   "execution_count": null,
   "metadata": {},
   "outputs": [],
   "source": [
    "# bfs방식\n",
    "from collections import deque\n",
    "from sys import stdin\n",
    "\n",
    "# input = stdin.readline\n",
    "\n",
    "N, K = map(int, input().split())\n",
    "\n",
    "if N >= K:\n",
    "    print(N - K)\n",
    "    \n",
    "else:\n",
    "    queue = deque([(N, 0)])\n",
    "    visited = [False] * 100001\n",
    "    visited[N] =True\n",
    "    \n",
    "    while queue:\n",
    "        current, time = queue.popleft()\n",
    "        \n",
    "        if current == K:\n",
    "            print(time)\n",
    "            break\n",
    "        \n",
    "        next_positions = [current - 1, current + 1, current * 2]\n",
    "        for next_pos in next_positions:\n",
    "            if 0 <= next_pos <= 100000 and not visited[next_pos]:\n",
    "                visited[next_pos] = True\n",
    "                queue.append((next_pos, time + 1))"
   ]
  },
  {
   "cell_type": "code",
   "execution_count": 2,
   "metadata": {},
   "outputs": [
    {
     "name": "stdout",
     "output_type": "stream",
     "text": [
      "4\n"
     ]
    }
   ],
   "source": [
    "# 단순 무식하게 하기 -> 메모리 초과 뜸\n",
    "from sys import stdin\n",
    "\n",
    "# input = stdin.readline\n",
    "\n",
    "N, K = map(int, input().split())\n",
    "t = 0\n",
    "recode = {0:{N}}\n",
    "\n",
    "while True:\n",
    "    if any(abs(K - r) <= 1 for r in recode[t]):\n",
    "        break\n",
    "    temp = set()\n",
    "    for N_i in recode[t]:\n",
    "        temp.add(N_i - 1)\n",
    "        temp.add(N_i + 1)\n",
    "        temp.add(N_i * 2)\n",
    "        if (abs(K - (N_i-1)) <= 1) or (abs(K - (N_i+1)) <= 1) or (abs(K - (N_i*2)) <= 1):\n",
    "            break\n",
    "    t += 1\n",
    "    recode[t] = temp\n",
    "    \n",
    "if min([abs(K - r) for r in recode[t]]) != 0:\n",
    "    t += 1\n",
    "\n",
    "print(t)"
   ]
  },
  {
   "cell_type": "code",
   "execution_count": 69,
   "metadata": {},
   "outputs": [
    {
     "name": "stdout",
     "output_type": "stream",
     "text": [
      "4\n"
     ]
    }
   ],
   "source": [
    "# 단순 무식하게 하기 -> 마찬가지로 메모리 초과 뜸\n",
    "from sys import stdin\n",
    "\n",
    "# input = stdin.readline\n",
    "\n",
    "N, K = map(int, input().split())\n",
    "t = 0\n",
    "recode = {0:{N}}\n",
    "\n",
    "while True:\n",
    "    if any(abs(K - r) <= 1 for r in recode[t]):\n",
    "        break\n",
    "    temp = set()\n",
    "    for N_i in recode[t]:\n",
    "        temp.add(N_i - 1)\n",
    "        temp.add(N_i + 1)\n",
    "        temp.add(N_i * 2)\n",
    "        if (abs(K - (N_i-1)) <= 1) or (abs(K - (N_i+1)) <= 1) or (abs(K - (N_i*2)) <= 1):\n",
    "            break\n",
    "    t += 1\n",
    "    recode[t] = temp\n",
    "    del recode[t-1]\n",
    "    #print(recode)\n",
    "    if t%100 == 0:\n",
    "        print(t)\n",
    "    \n",
    "if min([abs(K - r) for r in recode[t]]) != 0:\n",
    "    t += 1\n",
    "\n",
    "print(t)"
   ]
  },
  {
   "cell_type": "code",
   "execution_count": 6,
   "metadata": {},
   "outputs": [
    {
     "name": "stdout",
     "output_type": "stream",
     "text": [
      "23\n"
     ]
    }
   ],
   "source": [
    "#  1등 공개X라서 2등\n",
    "import sys\n",
    "def f(n,k):\n",
    "  if n>=k:return n-k\n",
    "  if k==1:return 1\n",
    "  if k%2:return min(f(n,k+1),f(n,k-1))+1     \n",
    "  return min(k-n,f(n,k//2)+1)\n",
    "\n",
    "# input = sys.stdin.readline()\n",
    "\n",
    "print(f(*map(int,input().split())))"
   ]
  }
 ],
 "metadata": {
  "kernelspec": {
   "display_name": "Python 3",
   "language": "python",
   "name": "python3"
  },
  "language_info": {
   "codemirror_mode": {
    "name": "ipython",
    "version": 3
   },
   "file_extension": ".py",
   "mimetype": "text/x-python",
   "name": "python",
   "nbconvert_exporter": "python",
   "pygments_lexer": "ipython3",
   "version": "3.8.6"
  }
 },
 "nbformat": 4,
 "nbformat_minor": 2
}
