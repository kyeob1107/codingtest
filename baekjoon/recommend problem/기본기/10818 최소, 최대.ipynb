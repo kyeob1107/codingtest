{
 "cells": [
  {
   "cell_type": "markdown",
   "metadata": {},
   "source": [
    "https://www.acmicpc.net/problem/10818"
   ]
  },
  {
   "cell_type": "markdown",
   "metadata": {},
   "source": [
    "# tc"
   ]
  },
  {
   "cell_type": "markdown",
   "metadata": {},
   "source": [
    "5\n",
    "20 10 35 30 7"
   ]
  },
  {
   "cell_type": "markdown",
   "metadata": {},
   "source": [
    "# 코드"
   ]
  },
  {
   "cell_type": "code",
   "execution_count": 3,
   "metadata": {},
   "outputs": [
    {
     "name": "stdout",
     "output_type": "stream",
     "text": [
      "7 35\n"
     ]
    }
   ],
   "source": [
    "# 내장함수 이용방식\n",
    "import sys\n",
    "# input = sys.stdin.readline\n",
    "input = open(\"../../input.txt\", \"rt\").readline\n",
    "N = int(input())\n",
    "data = list(map(int, input().split()))\n",
    "print(min(data), max(data))"
   ]
  },
  {
   "cell_type": "code",
   "execution_count": 4,
   "metadata": {},
   "outputs": [
    {
     "name": "stdout",
     "output_type": "stream",
     "text": [
      "7 35\n"
     ]
    }
   ],
   "source": [
    "# 직접 비교 방식\n",
    "import sys\n",
    "# input = sys.stdin.readline\n",
    "input = open(\"../../input.txt\", \"rt\").readline\n",
    "N = int(input())\n",
    "data = list(map(int, input().split()))\n",
    "min_num = 1_000_000\n",
    "max_num = -1_000_000\n",
    "for n in data:\n",
    "    if min_num > n:\n",
    "        min_num = n\n",
    "    if max_num < n:\n",
    "        max_num = n\n",
    "\n",
    "print(min_num, max_num)"
   ]
  },
  {
   "cell_type": "code",
   "execution_count": null,
   "metadata": {},
   "outputs": [],
   "source": [
    "# 1등 코드\n",
    "def main():\n",
    "    import os\n",
    "    x = os.read(0, os.fstat(0).st_size)\n",
    "    a = 1 << 30\n",
    "    b = -a\n",
    "    c = 0\n",
    "    mul = 1\n",
    "    for xi in x[x.find(10) + 1:]:\n",
    "        if xi == 45:\n",
    "            mul = -1\n",
    "        elif xi > 32:\n",
    "            c = c * 10 + (xi & 15)\n",
    "        else:\n",
    "            c *= mul\n",
    "            if c < a: a = c\n",
    "            if c > b: b = c\n",
    "            c = 0\n",
    "            mul = 1\n",
    "    os.write(1, (str(a) + ' ' + str(b)).encode())\n",
    "    os._exit(0)\n",
    "\n",
    "main()"
   ]
  },
  {
   "cell_type": "code",
   "execution_count": 43,
   "metadata": {},
   "outputs": [
    {
     "name": "stdout",
     "output_type": "stream",
     "text": [
      "7 35\n"
     ]
    }
   ],
   "source": [
    "# 1등 코드 직접 확인용으로 하기 위한 것 pypy3\n",
    "# 그런데 입력버퍼? 읽어오는 방식이 조금 다른지 끝이 공백문자로 안끝나면 빼고 체크를 해서 읽어올땐 공백넣어주는게 맞을듯?\n",
    "# 근데 공백으로 끝났는데 이런 식으로 공백하면 0으로 판단해서 답 다르게 나와버림\n",
    "import os\n",
    "\n",
    "# 텍스트 파일을 읽어옵니다.\n",
    "with open('../../input.txt', 'rt', encoding='utf-8') as file:\n",
    "    x = (file.read() + ' ').encode()  # 문자열을 바이트로 인코딩\n",
    "# print(x)\n",
    "# print(x.find(10))\n",
    "# print(x[2:])\n",
    "# for p in x[2:]:\n",
    "#     print(p)\n",
    "a = 1 << 30\n",
    "b = -a\n",
    "c = 0\n",
    "mul = 1\n",
    "for xi in x[x.find(10) + 1:]:\n",
    "    # print(xi, chr(xi))\n",
    "    if xi == 45:\n",
    "        mul = -1\n",
    "    elif xi > 32:\n",
    "        c = c * 10 + (xi & 15)\n",
    "    else:\n",
    "        c *= mul\n",
    "        if c < a: a = c\n",
    "        if c > b: b = c\n",
    "        c = 0\n",
    "        mul = 1\n",
    "\n",
    "# 결과를 출력합니다.\n",
    "result = (str(a) + ' ' + str(b))\n",
    "print(result)"
   ]
  },
  {
   "cell_type": "code",
   "execution_count": null,
   "metadata": {},
   "outputs": [],
   "source": [
    "# 4등 코드 pypy3\n",
    "import os, sys\n",
    "from itertools import zip_longest\n",
    "\n",
    "\n",
    "def main():\n",
    "    stream = map(int, os.read(0, os.fstat(0).st_size).lstrip(b\"0123456789\").split())\n",
    "\n",
    "    lo = hi = next(stream)\n",
    "    for x, y in zip_longest(stream, stream, fillvalue=lo):\n",
    "        if x > y:\n",
    "            x, y = y, x\n",
    "        if x < lo:\n",
    "            lo = x\n",
    "        if y > hi:\n",
    "            hi = y\n",
    "    print(lo, hi)\n",
    "\n",
    "\n",
    "if __name__ == \"__main__\":\n",
    "    sys.exit(main())"
   ]
  },
  {
   "cell_type": "markdown",
   "metadata": {},
   "source": [
    "https://happybplus.tistory.com/250"
   ]
  },
  {
   "cell_type": "code",
   "execution_count": null,
   "metadata": {},
   "outputs": [],
   "source": [
    "# 그 이후, 그리고 파이썬3의 상위권\n",
    "import os\n",
    "\n",
    "\n",
    "def main():\n",
    "    tokens = map(int, iter(os.read(0, os.stat(0).st_size).split()))\n",
    "    next(tokens)\n",
    "    a = 1 << 29\n",
    "    b = -a\n",
    "    for x in tokens:\n",
    "        if x < a:\n",
    "            a = x\n",
    "        if x > b:\n",
    "            b = x\n",
    "    os.write(1, (str(a) + ' ' + str(b)).encode())\n",
    "    os._exit(0)\n",
    "\n",
    "\n",
    "main()"
   ]
  }
 ],
 "metadata": {
  "kernelspec": {
   "display_name": "Python 3",
   "language": "python",
   "name": "python3"
  },
  "language_info": {
   "codemirror_mode": {
    "name": "ipython",
    "version": 3
   },
   "file_extension": ".py",
   "mimetype": "text/x-python",
   "name": "python",
   "nbconvert_exporter": "python",
   "pygments_lexer": "ipython3",
   "version": "3.8.6"
  }
 },
 "nbformat": 4,
 "nbformat_minor": 2
}
