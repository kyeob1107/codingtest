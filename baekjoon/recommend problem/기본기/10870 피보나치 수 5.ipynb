{
 "cells": [
  {
   "cell_type": "markdown",
   "metadata": {},
   "source": [
    "https://www.acmicpc.net/problem/10870"
   ]
  },
  {
   "cell_type": "markdown",
   "metadata": {},
   "source": [
    "# tc"
   ]
  },
  {
   "cell_type": "markdown",
   "metadata": {},
   "source": [
    "10"
   ]
  },
  {
   "cell_type": "markdown",
   "metadata": {},
   "source": [
    "# 코드"
   ]
  },
  {
   "cell_type": "code",
   "execution_count": 9,
   "metadata": {},
   "outputs": [
    {
     "name": "stdout",
     "output_type": "stream",
     "text": [
      "1597\n"
     ]
    }
   ],
   "source": [
    "import sys\n",
    "# input = sys.stdin.readline\n",
    "input = open(\"../../input.txt\", \"rt\").readline\n",
    "n = int(input())\n",
    "second = 0\n",
    "first = 1\n",
    "if n == 0: print(0)\n",
    "elif n == 1: print(1)\n",
    "else:\n",
    "    for _ in range(n - 1):\n",
    "        res = second + first\n",
    "        second, first = first, res\n",
    "    print(res)"
   ]
  },
  {
   "cell_type": "code",
   "execution_count": null,
   "metadata": {},
   "outputs": [],
   "source": [
    "# 1등 코드 재귀방식인듯\n",
    "#재귀적인 구조를 가지고 있는지\n",
    "\n",
    "n = int(input())\n",
    "\n",
    "def fibo(n):\n",
    "\tif n==0:\n",
    "\t\treturn 0\n",
    "\telif n==1:\n",
    "\t\treturn 1\n",
    "\treturn fibo(n-1)+fibo(n-2)\n",
    "\n",
    "print(fibo(n))"
   ]
  },
  {
   "cell_type": "code",
   "execution_count": null,
   "metadata": {},
   "outputs": [],
   "source": [
    "# 2등 코드\n",
    "n = int(input())\n",
    "dp = [0,1]\n",
    "\n",
    "for i in range(1,n):\n",
    "    dp.append(dp[i]+dp[i-1])\n",
    "print(dp[n])"
   ]
  },
  {
   "cell_type": "code",
   "execution_count": null,
   "metadata": {},
   "outputs": [],
   "source": [
    "# 5등 코드 1등과 같은데 이게 더 간단\n",
    "def fibo(n):\n",
    "    if n<=1: return n\n",
    "    else: return fibo(n-1)+fibo(n-2)\n",
    "\n",
    "print(fibo(int(input())))"
   ]
  },
  {
   "cell_type": "code",
   "execution_count": null,
   "metadata": {},
   "outputs": [],
   "source": [
    "# 6등 코드 나랑 비슷한데 while문으로 한 느낌?\n",
    "N = int(input())\n",
    "\n",
    "a = 0\n",
    "b = 1\n",
    "\n",
    "while N > 0:\n",
    "    tmp = a\n",
    "    a = b\n",
    "    b = b + tmp\n",
    "    N -= 1\n",
    "print(a)"
   ]
  },
  {
   "cell_type": "code",
   "execution_count": null,
   "metadata": {},
   "outputs": [],
   "source": [
    "# 몇등인지도 몰겠다 메모리제이션 방식인듯 사실 dp와 동일한듯?\n",
    "n = int(input())\n",
    "\n",
    "d = [0] * 22\n",
    "d[:3] = [0, 0, 1]\n",
    "for i in range(3, 22):\n",
    "    d[i] = d[i - 1] + d[i - 2]\n",
    "print(d[n + 1])"
   ]
  }
 ],
 "metadata": {
  "kernelspec": {
   "display_name": "Python 3",
   "language": "python",
   "name": "python3"
  },
  "language_info": {
   "codemirror_mode": {
    "name": "ipython",
    "version": 3
   },
   "file_extension": ".py",
   "mimetype": "text/x-python",
   "name": "python",
   "nbconvert_exporter": "python",
   "pygments_lexer": "ipython3",
   "version": "3.8.6"
  }
 },
 "nbformat": 4,
 "nbformat_minor": 2
}
