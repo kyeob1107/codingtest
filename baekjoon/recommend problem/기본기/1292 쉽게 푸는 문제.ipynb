{
 "cells": [
  {
   "cell_type": "markdown",
   "metadata": {},
   "source": [
    "https://www.acmicpc.net/problem/1292"
   ]
  },
  {
   "cell_type": "markdown",
   "metadata": {},
   "source": [
    "# tc"
   ]
  },
  {
   "cell_type": "markdown",
   "metadata": {},
   "source": [
    "3 7"
   ]
  },
  {
   "cell_type": "code",
   "execution_count": 10,
   "metadata": {},
   "outputs": [
    {
     "name": "stdout",
     "output_type": "stream",
     "text": [
      "[1, 2, 2, 3, 3, 3, 4, 4, 4, 4]\n",
      "15\n"
     ]
    }
   ],
   "source": [
    "# 단순 무식하게\n",
    "import sys\n",
    "# input = sys.stdin.readline\n",
    "input = open(\"../../input.txt\", \"rt\").readline\n",
    "\n",
    "A, B = map(int, input().split())\n",
    "\n",
    "series = []\n",
    "for i in range(int((2*B)**0.5 + 1) + 1):\n",
    "    series += [i] * i\n",
    "print(sum(series[A-1:B]))"
   ]
  },
  {
   "cell_type": "code",
   "execution_count": 26,
   "metadata": {},
   "outputs": [
    {
     "name": "stdout",
     "output_type": "stream",
     "text": [
      "15\n"
     ]
    }
   ],
   "source": [
    "# 수학적으로 바로 계산해보려는 것 일단 정리 바로 안되서 프로토타입\n",
    "import sys\n",
    "\n",
    "def sum_square(n):\n",
    "    return n * (n + 1) * (2*n + 1) //6\n",
    "\n",
    "# input = sys.stdin.readline\n",
    "input = open(\"../../input.txt\", \"rt\").readline\n",
    "\n",
    "A, B = map(int, input().split())\n",
    "\n",
    "number = [n * (n + 1) //2 for n in range(1, 46)] # 최대 1000까지면 45까지 등장함\n",
    "# print(number)\n",
    "a_check = True\n",
    "for num in range(len(number)):\n",
    "    if number[num] >= A and a_check:\n",
    "        a_n = num + 1\n",
    "        a_check = False\n",
    "    if number[num] >= B:\n",
    "        b_n = num + 1\n",
    "        break\n",
    "# print(a_n, b_n)\n",
    "# print(sum_square(b_n), sum_square(a_n), (number[b_n - 1] - B) * b_n, (number[a_n - 1] - A + 1) * a_n)\n",
    "print(sum_square(b_n) - sum_square(a_n) - (number[b_n - 1] - B) * b_n + (number[a_n - 1] - A + 1) * a_n)"
   ]
  },
  {
   "cell_type": "code",
   "execution_count": 2,
   "metadata": {},
   "outputs": [
    {
     "name": "stdout",
     "output_type": "stream",
     "text": [
      "15\n"
     ]
    }
   ],
   "source": [
    "# 수학적으로 바로 계산해보려는 것, 추가로 정리해서 해보는 것\n",
    "import sys\n",
    "\n",
    "def sum_n(n):\n",
    "    return n * (n + 1) //2\n",
    "\n",
    "def sum_square(n):\n",
    "    return n * (n + 1) * (2*n + 1) //6\n",
    "\n",
    "# input = sys.stdin.readline\n",
    "input = open(\"../../input.txt\", \"rt\").readline\n",
    "\n",
    "A, B = map(int, input().split())\n",
    "\n",
    "a_check = True\n",
    "for n in range(1, 46):\n",
    "    if sum_n(n) >= A and a_check:\n",
    "        a_n = n\n",
    "        a_check = False\n",
    "    if sum_n(n) >= B:\n",
    "        b_n = n\n",
    "        break\n",
    "\n",
    "print(sum_square(b_n) - sum_square(a_n) - (sum_n(b_n) - B) * b_n + (sum_n(a_n) - A + 1) * a_n)"
   ]
  },
  {
   "cell_type": "code",
   "execution_count": null,
   "metadata": {},
   "outputs": [],
   "source": [
    "# 1등 코드\n",
    "a,b = map(int,input().split())\n",
    "l = []\n",
    "for i in range(1,50):\n",
    "    for j in range(i):\n",
    "        l.append(i)\n",
    "s = 0\n",
    "for i in range(a-1,b):\n",
    "    s+=l[i]\n",
    "print(s)"
   ]
  },
  {
   "cell_type": "code",
   "execution_count": null,
   "metadata": {},
   "outputs": [],
   "source": [
    "# 2등 코드\n",
    "a, b = map(int, input().split())\n",
    "sum = 0\n",
    "cnt = 1\n",
    "num = 1\n",
    "i = 1\n",
    "\n",
    "while 1:\n",
    "    if i >= a and i <= b:\n",
    "        sum += cnt\n",
    "    i += 1\n",
    "    num += 1\n",
    "    if num > cnt:\n",
    "        num = 1\n",
    "        cnt += 1\n",
    "    if i > 1000:\n",
    "        break\n",
    "\n",
    "print(sum)"
   ]
  },
  {
   "cell_type": "code",
   "execution_count": null,
   "metadata": {},
   "outputs": [],
   "source": [
    "# 3등 코드\n",
    "A, B = map(int, input().split())\n",
    "my_list = [0] * (B + 1)\n",
    "my_number, cnt = 1, 1\n",
    "for _ in range(1, B + 1):\n",
    "    my_list[_] = my_number\n",
    "    cnt -= 1\n",
    "    if cnt == 0:\n",
    "        my_number += 1\n",
    "        cnt = my_number\n",
    "print(sum(my_list[i] for i in range(A, B + 1)))"
   ]
  },
  {
   "cell_type": "code",
   "execution_count": 1,
   "metadata": {},
   "outputs": [
    {
     "name": "stdout",
     "output_type": "stream",
     "text": [
      "15\n"
     ]
    }
   ],
   "source": [
    "# 2등 코드 수정\n",
    "import sys\n",
    "# input = sys.stdin.readline\n",
    "input = open(\"../../input.txt\", \"rt\").readline\n",
    "a, b = map(int, input().split())\n",
    "sum = 0\n",
    "cnt = 1\n",
    "num = 1\n",
    "i = 1\n",
    "\n",
    "while i <=b:\n",
    "    if i >= a and i <= b:\n",
    "        sum += cnt\n",
    "    i += 1\n",
    "    num += 1\n",
    "    if num > cnt:\n",
    "        num = 1\n",
    "        cnt += 1\n",
    "\n",
    "print(sum)"
   ]
  }
 ],
 "metadata": {
  "kernelspec": {
   "display_name": "Python 3",
   "language": "python",
   "name": "python3"
  },
  "language_info": {
   "codemirror_mode": {
    "name": "ipython",
    "version": 3
   },
   "file_extension": ".py",
   "mimetype": "text/x-python",
   "name": "python",
   "nbconvert_exporter": "python",
   "pygments_lexer": "ipython3",
   "version": "3.8.6"
  }
 },
 "nbformat": 4,
 "nbformat_minor": 2
}
