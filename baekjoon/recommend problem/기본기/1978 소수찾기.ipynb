{
 "cells": [
  {
   "cell_type": "markdown",
   "metadata": {},
   "source": [
    "https://www.acmicpc.net/problem/1978"
   ]
  },
  {
   "cell_type": "markdown",
   "metadata": {},
   "source": [
    "# tc"
   ]
  },
  {
   "cell_type": "markdown",
   "metadata": {},
   "source": [
    "4\n",
    "1 3 5 7"
   ]
  },
  {
   "cell_type": "markdown",
   "metadata": {},
   "source": [
    "# 코드"
   ]
  },
  {
   "cell_type": "code",
   "execution_count": 1,
   "metadata": {},
   "outputs": [
    {
     "name": "stdout",
     "output_type": "stream",
     "text": [
      "3\n"
     ]
    }
   ],
   "source": [
    "import sys\n",
    "\n",
    "def sieve(max_num):\n",
    "    is_prime = [True] * (max_num + 1)\n",
    "    is_prime[0] = is_prime[1] = False\n",
    "    for i in range(2, int((max_num)**0.5) + 1):\n",
    "        if is_prime[i]:\n",
    "            for j in range(i * i, max_num + 1, i):\n",
    "                is_prime[j] = False\n",
    "    return [x for x in range(max_num + 1) if is_prime[x]]\n",
    "\n",
    "# input = sys.stdin.readline\n",
    "input = open(\"../../input.txt\", \"rt\").readline\n",
    "\n",
    "primes = sieve(1000)\n",
    "N = int(input())\n",
    "data = list(map(int, input().split()))\n",
    "cnt = 0\n",
    "for n in data:\n",
    "    if n in primes:\n",
    "        cnt += 1\n",
    "print(cnt)"
   ]
  },
  {
   "cell_type": "code",
   "execution_count": null,
   "metadata": {},
   "outputs": [],
   "source": [
    "# 1등 코드\n",
    "def is_Prime(n):\n",
    "    if n == 1:\n",
    "        return False\n",
    "    elif n == 2:\n",
    "        return True\n",
    "    for i in range(2, n):\n",
    "        if n % i == 0:\n",
    "            return False\n",
    "    return True\n",
    "\n",
    "N = int(input())\n",
    "arr = [*map(int, input().split())]\n",
    "\n",
    "count = 0\n",
    "for n in arr:\n",
    "    if is_Prime(n):\n",
    "        count += 1\n",
    "print(count)"
   ]
  },
  {
   "cell_type": "code",
   "execution_count": null,
   "metadata": {},
   "outputs": [],
   "source": [
    "# 2등 코드\n",
    "import sys\n",
    "from math import sqrt\n",
    "input = sys.stdin.readline\n",
    "N = int(input())\n",
    "arr = [int(x) for x in input().split()]\n",
    "cnt = 0\n",
    "\n",
    "for i in arr:\n",
    "    if i < 2:\n",
    "        continue\n",
    "    isprime = True\n",
    "    for j in range(2,int(sqrt(i))+1):\n",
    "        if i%j ==0:\n",
    "            isprime = False\n",
    "            break    \n",
    "    if isprime:\n",
    "        cnt+=1\n",
    "print(cnt)"
   ]
  }
 ],
 "metadata": {
  "kernelspec": {
   "display_name": "Python 3",
   "language": "python",
   "name": "python3"
  },
  "language_info": {
   "codemirror_mode": {
    "name": "ipython",
    "version": 3
   },
   "file_extension": ".py",
   "mimetype": "text/x-python",
   "name": "python",
   "nbconvert_exporter": "python",
   "pygments_lexer": "ipython3",
   "version": "3.8.6"
  }
 },
 "nbformat": 4,
 "nbformat_minor": 2
}
