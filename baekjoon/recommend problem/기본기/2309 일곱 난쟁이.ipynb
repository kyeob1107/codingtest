{
 "cells": [
  {
   "cell_type": "markdown",
   "metadata": {},
   "source": [
    "https://www.acmicpc.net/problem/2309"
   ]
  },
  {
   "cell_type": "markdown",
   "metadata": {},
   "source": [
    "# tc"
   ]
  },
  {
   "cell_type": "markdown",
   "metadata": {},
   "source": [
    "20\n",
    "7\n",
    "23\n",
    "19\n",
    "10\n",
    "15\n",
    "25\n",
    "8\n",
    "13"
   ]
  },
  {
   "cell_type": "markdown",
   "metadata": {},
   "source": [
    "# 코드"
   ]
  },
  {
   "cell_type": "code",
   "execution_count": 2,
   "metadata": {},
   "outputs": [
    {
     "name": "stdout",
     "output_type": "stream",
     "text": [
      "7\n",
      "8\n",
      "10\n",
      "13\n",
      "19\n",
      "20\n",
      "23\n"
     ]
    }
   ],
   "source": [
    "import sys\n",
    "# input = sys.stdin.readline\n",
    "input = open(\"../../input.txt\", \"rt\").readline\n",
    "\n",
    "data = sorted([int(input()) for _ in range(9)])\n",
    "\n",
    "total = sum(data)\n",
    "switch = False\n",
    "for i in range(9):\n",
    "    for j in range(i + 1, 9):\n",
    "        if (total - 100) == (data[i] + data[j]):\n",
    "            for index, p in enumerate(data):\n",
    "                if index not in [i, j]:\n",
    "                    print(p)\n",
    "            switch = True\n",
    "            break\n",
    "    if switch:\n",
    "        break"
   ]
  },
  {
   "cell_type": "code",
   "execution_count": null,
   "metadata": {},
   "outputs": [],
   "source": [
    "# 1등 코드 6등까지 공개된 것 다 combinations 사용\n",
    "import itertools \n",
    "stature = []\n",
    "\n",
    "for _ in range(9):\n",
    "    stature.append(int(input()))\n",
    "\n",
    "for i in itertools.combinations(stature,7):\n",
    "  if sum(i) == 100:\n",
    "    for j in sorted(i):\n",
    "        print(j)\n",
    "    break"
   ]
  },
  {
   "cell_type": "code",
   "execution_count": null,
   "metadata": {},
   "outputs": [],
   "source": [
    "# 7등 코드 나랑 비슷\n",
    "n = []\n",
    "result = []\n",
    "for i in range(9):\n",
    "    n.append(int(input()))\n",
    "\n",
    "for i in range(9):\n",
    "    m = n[:i] + n[i+1:]\n",
    "    for j in range(8):\n",
    "        k = m[:j] + m[j+1:]\n",
    "        if (sum(k) == 100):\n",
    "            result = k\n",
    "\n",
    "result.sort()\n",
    "for i in result:\n",
    "    print(i)"
   ]
  },
  {
   "cell_type": "code",
   "execution_count": null,
   "metadata": {},
   "outputs": [],
   "source": [
    "# 9등 코드 나랑 비슷\n",
    "h = []\n",
    "\n",
    "for i in range(9):\n",
    "    a = int(input())\n",
    "    h.append(a)\n",
    "\n",
    "for i in range(9):\n",
    "    for s in range(i + 1 , 9):\n",
    "        if sum(h) - (h[i] + h[s]) == 100:\n",
    "            x1 = h[i]\n",
    "            y1 = h[s]\n",
    "\n",
    "h.remove(x1)\n",
    "h.remove(y1)\n",
    "\n",
    "print('\\n'.join(map(str, sorted(h))))"
   ]
  }
 ],
 "metadata": {
  "kernelspec": {
   "display_name": "Python 3",
   "language": "python",
   "name": "python3"
  },
  "language_info": {
   "codemirror_mode": {
    "name": "ipython",
    "version": 3
   },
   "file_extension": ".py",
   "mimetype": "text/x-python",
   "name": "python",
   "nbconvert_exporter": "python",
   "pygments_lexer": "ipython3",
   "version": "3.8.6"
  }
 },
 "nbformat": 4,
 "nbformat_minor": 2
}
