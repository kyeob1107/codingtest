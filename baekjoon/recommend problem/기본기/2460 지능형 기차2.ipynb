{
 "cells": [
  {
   "cell_type": "markdown",
   "metadata": {},
   "source": [
    "https://www.acmicpc.net/problem/2460"
   ]
  },
  {
   "cell_type": "markdown",
   "metadata": {},
   "source": [
    "# tc"
   ]
  },
  {
   "cell_type": "markdown",
   "metadata": {},
   "source": [
    "0 32\n",
    "3 13\n",
    "28 25\n",
    "17 5\n",
    "21 20\n",
    "11 0\n",
    "12 12\n",
    "4 2\n",
    "0 8\n",
    "21 0"
   ]
  },
  {
   "cell_type": "markdown",
   "metadata": {},
   "source": [
    "# 코드"
   ]
  },
  {
   "cell_type": "code",
   "execution_count": 2,
   "metadata": {},
   "outputs": [
    {
     "name": "stdout",
     "output_type": "stream",
     "text": [
      "42\n"
     ]
    }
   ],
   "source": [
    "import sys\n",
    "# input = sys.stdin.readline\n",
    "input = open(\"../../input.txt\", \"rt\").readline\n",
    "\n",
    "num = 0\n",
    "max_num = 0\n",
    "for _ in range(10):\n",
    "    down, up = map(int, input().split())\n",
    "    num = num - down + up\n",
    "    if max_num < num:\n",
    "        max_num = num\n",
    "\n",
    "print(max_num)"
   ]
  },
  {
   "cell_type": "code",
   "execution_count": null,
   "metadata": {},
   "outputs": [],
   "source": [
    "# 1등 코드\n",
    "p = [0 for row in range(10)]\n",
    "\n",
    "for i in range(10):\n",
    "    a,b = map(int, input().split())\n",
    "    p[i] = p[i-1]+b-a\n",
    "    \n",
    "print(max(p))"
   ]
  },
  {
   "cell_type": "code",
   "execution_count": null,
   "metadata": {},
   "outputs": [],
   "source": [
    "# 2등 코드, 나랑 같은 방식 좀 더 간단하게 표현\n",
    "p = 0\n",
    "maximum = 0\n",
    "for _ in range(10):\n",
    "    a, b = map(int, input().split())\n",
    "    p += b - a\n",
    "\n",
    "    if maximum < p:\n",
    "        maximum = p\n",
    "\n",
    "print(maximum)"
   ]
  }
 ],
 "metadata": {
  "kernelspec": {
   "display_name": "Python 3",
   "language": "python",
   "name": "python3"
  },
  "language_info": {
   "codemirror_mode": {
    "name": "ipython",
    "version": 3
   },
   "file_extension": ".py",
   "mimetype": "text/x-python",
   "name": "python",
   "nbconvert_exporter": "python",
   "pygments_lexer": "ipython3",
   "version": "3.8.6"
  }
 },
 "nbformat": 4,
 "nbformat_minor": 2
}
