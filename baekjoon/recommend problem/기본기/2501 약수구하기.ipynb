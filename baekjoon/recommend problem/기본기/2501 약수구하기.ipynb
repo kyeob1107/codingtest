{
 "cells": [
  {
   "cell_type": "markdown",
   "metadata": {},
   "source": [
    "https://www.acmicpc.net/problem/2501"
   ]
  },
  {
   "cell_type": "markdown",
   "metadata": {},
   "source": [
    "# tc"
   ]
  },
  {
   "cell_type": "markdown",
   "metadata": {},
   "source": [
    "6 3\n",
    "\n",
    "25 4\n",
    "\n",
    "2735 1"
   ]
  },
  {
   "cell_type": "markdown",
   "metadata": {},
   "source": [
    "# 코드"
   ]
  },
  {
   "cell_type": "markdown",
   "metadata": {},
   "source": [
    "한번에 다 추가하고 정렬하는 것과 일단 일부만 한 다음에 후에 순서 반대로 해서 짝을 추가해주는 것     \n",
    "~~, 그리고 필요한 것만 추가로 하는 것 비교 ->복잡해서 구현 힘들듯~~"
   ]
  },
  {
   "cell_type": "code",
   "execution_count": 7,
   "metadata": {},
   "outputs": [
    {
     "name": "stdout",
     "output_type": "stream",
     "text": [
      "[1, 3, 9]\n",
      "9\n"
     ]
    }
   ],
   "source": [
    "# 다 추가하고 정렬\n",
    "import sys\n",
    "# input = sys.stdin.readline\n",
    "input = open(\"../../input.txt\", \"rt\").readline\n",
    "\n",
    "N, K = map(int,input().split())\n",
    "divisors = []\n",
    "for i in range(1, N//2 + 1): \n",
    "    if N % i == 0 and i not in divisors:\n",
    "        divisors.append(i)\n",
    "        if i != N//i:\n",
    "            divisors.append(N//i)\n",
    "\n",
    "divisors.sort()\n",
    "# print(divisors)\n",
    "if K <= len(divisors):\n",
    "    print(divisors[K - 1])\n",
    "else:\n",
    "    print(0)"
   ]
  },
  {
   "cell_type": "code",
   "execution_count": 10,
   "metadata": {},
   "outputs": [
    {
     "name": "stdout",
     "output_type": "stream",
     "text": [
      "[1, 3, 9]\n",
      "9\n"
     ]
    }
   ],
   "source": [
    "# 일부만하고 순서 반대로 해서 추가\n",
    "import sys\n",
    "# input = sys.stdin.readline\n",
    "input = open(\"../../input.txt\", \"rt\").readline\n",
    "\n",
    "N, K = map(int,input().split())\n",
    "divisors = []\n",
    "for i in range(1, N//2 + 1): \n",
    "    if N % i == 0:\n",
    "        divisors.append(i)\n",
    "\n",
    "for j in reversed(divisors):\n",
    "    if N // j not in divisors:\n",
    "        divisors.append(N // j)\n",
    "\n",
    "# print(divisors)\n",
    "if K <= len(divisors):\n",
    "    print(divisors[K - 1])\n",
    "else:\n",
    "    print(0)"
   ]
  },
  {
   "cell_type": "code",
   "execution_count": null,
   "metadata": {},
   "outputs": [],
   "source": [
    "# 절반만 하고 필요하면 계산해서 출력\n",
    "import sys\n",
    "# input = sys.stdin.readline\n",
    "input = open(\"../../input.txt\", \"rt\").readline\n",
    "\n",
    "N, K = map(int,input().split())\n",
    "divisors = []\n",
    "for i in range(1, N//2 + 1): \n",
    "    if N % i == 0:\n",
    "        divisors.append(i)\n",
    "\n",
    "print(divisors)\n",
    "if K <= len(divisors):\n",
    "    print(divisors[K - 1])\n",
    "elif len(divisors) < K <= 2 * len(divisors): #중복 있으면 2배까지 안됨, 그리고 추가 계산하기도 상황따라 많이 달라져서...\n",
    "    \n",
    "else:\n",
    "    print(0)"
   ]
  },
  {
   "cell_type": "code",
   "execution_count": null,
   "metadata": {},
   "outputs": [],
   "source": [
    "# 1등 코드 넘 단출해서 그닥\n",
    "n,k=map(int,input().split())\n",
    "lst=[]\n",
    "for i in range(1,n+1):\n",
    "    if n % i == 0:\n",
    "        lst.append(i)\n",
    "if len(lst)<k:\n",
    "    print(0)\n",
    "else:\n",
    "    print(lst[k-1])"
   ]
  },
  {
   "cell_type": "code",
   "execution_count": 4,
   "metadata": {},
   "outputs": [
    {
     "name": "stdout",
     "output_type": "stream",
     "text": [
      "['1', '3', '9', 0, 0, 0]\n",
      "9\n"
     ]
    }
   ],
   "source": [
    "# 3등 코드\n",
    "import sys\n",
    "# input = sys.stdin.readline\n",
    "input = open(\"../../input.txt\", \"rt\").readline\n",
    "a,b=map(int,input().split())\n",
    "print(([f'{i}'for i in range(1,a+1)if a%i<1]+[0]*10000)[b-1])"
   ]
  },
  {
   "cell_type": "code",
   "execution_count": 1,
   "metadata": {},
   "outputs": [
    {
     "name": "stdout",
     "output_type": "stream",
     "text": [
      "9\n"
     ]
    }
   ],
   "source": [
    "# 3등 코드 이해용\n",
    "a,b=map(int,input().split())\n",
    "print((\n",
    "    [f'{i}'for i in range(1,a+1)if a%i<1]\n",
    "       +[0]*10000)\n",
    "      [b-1]\n",
    "      )"
   ]
  },
  {
   "cell_type": "code",
   "execution_count": null,
   "metadata": {},
   "outputs": [],
   "source": [
    "# 4등 코드\n",
    "a,b=map(int,input().split())\n",
    "c=0\n",
    "while b and c<a:\n",
    "    c+=1\n",
    "    if a%c==0:\n",
    "        b-=1\n",
    "print(0 if b else c)"
   ]
  }
 ],
 "metadata": {
  "kernelspec": {
   "display_name": "Python 3",
   "language": "python",
   "name": "python3"
  },
  "language_info": {
   "codemirror_mode": {
    "name": "ipython",
    "version": 3
   },
   "file_extension": ".py",
   "mimetype": "text/x-python",
   "name": "python",
   "nbconvert_exporter": "python",
   "pygments_lexer": "ipython3",
   "version": "3.8.6"
  }
 },
 "nbformat": 4,
 "nbformat_minor": 2
}
