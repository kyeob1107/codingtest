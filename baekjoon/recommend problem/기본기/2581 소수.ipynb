{
 "cells": [
  {
   "cell_type": "markdown",
   "metadata": {},
   "source": [
    "https://www.acmicpc.net/problem/2581"
   ]
  },
  {
   "cell_type": "markdown",
   "metadata": {},
   "source": [
    "# tc"
   ]
  },
  {
   "cell_type": "markdown",
   "metadata": {},
   "source": [
    "60\n",
    "100\n",
    "\n",
    "64\n",
    "65"
   ]
  },
  {
   "cell_type": "code",
   "execution_count": 5,
   "metadata": {},
   "outputs": [
    {
     "name": "stdout",
     "output_type": "stream",
     "text": [
      "-1\n"
     ]
    }
   ],
   "source": [
    "import sys\n",
    "\n",
    "def sieve(max_num):\n",
    "    is_prime = [True] * (max_num + 1)\n",
    "    is_prime[0] = is_prime[1] = False\n",
    "    for i in range(2, int(max_num ** 0.5) + 1):\n",
    "        if is_prime[i]:\n",
    "            for j in range(i * i, max_num + 1, i):\n",
    "                is_prime[j] = False\n",
    "    return [x for x in range(2, max_num + 1) if is_prime[x]]\n",
    "\n",
    "# input = sys.stdin.readline\n",
    "input = open(\"../../input.txt\", \"rt\").readline\n",
    "\n",
    "M = int(input())\n",
    "N = int(input())\n",
    "primes = [x for x in sieve(N) if x >= M and x <= N]\n",
    "if primes:\n",
    "    print(sum(primes))\n",
    "    print(primes[0])\n",
    "else:\n",
    "    print(-1)\n"
   ]
  },
  {
   "cell_type": "code",
   "execution_count": null,
   "metadata": {},
   "outputs": [],
   "source": [
    "# 1등 코드\n",
    "M, N = map(int, [input(), input()])\n",
    "\n",
    "# 에라토스테네스의 체 초기화\n",
    "List = list(range(N + 1))\n",
    "List[1] = 0  # 1은 소수가 아님\n",
    "\n",
    "# 에라토스테네스의 체 알고리즘\n",
    "for i in range(2, int(N**0.5) + 1):\n",
    "    if List[i] != 0:\n",
    "        for k in range(i * i, N + 1, i):\n",
    "            List[k] = 0\n",
    "\n",
    "# 소수의 합과 최솟값 찾기\n",
    "Sum = 0\n",
    "Min = None\n",
    "for x in range(M, N + 1):\n",
    "    if List[x] != 0:\n",
    "        if Min is None:\n",
    "            Min = List[x]\n",
    "        Sum += List[x]\n",
    "\n",
    "# 결과 출력\n",
    "if Sum != 0:\n",
    "    print(Sum)\n",
    "    print(Min)\n",
    "else:\n",
    "    print(-1)"
   ]
  }
 ],
 "metadata": {
  "kernelspec": {
   "display_name": "Python 3",
   "language": "python",
   "name": "python3"
  },
  "language_info": {
   "codemirror_mode": {
    "name": "ipython",
    "version": 3
   },
   "file_extension": ".py",
   "mimetype": "text/x-python",
   "name": "python",
   "nbconvert_exporter": "python",
   "pygments_lexer": "ipython3",
   "version": "3.8.6"
  }
 },
 "nbformat": 4,
 "nbformat_minor": 2
}
