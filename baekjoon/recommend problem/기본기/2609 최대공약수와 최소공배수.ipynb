{
 "cells": [
  {
   "cell_type": "markdown",
   "metadata": {},
   "source": [
    "https://www.acmicpc.net/problem/2609"
   ]
  },
  {
   "cell_type": "markdown",
   "metadata": {},
   "source": [
    "# tc"
   ]
  },
  {
   "cell_type": "markdown",
   "metadata": {},
   "source": [
    "24 18"
   ]
  },
  {
   "cell_type": "markdown",
   "metadata": {},
   "source": [
    "# 코드"
   ]
  },
  {
   "cell_type": "code",
   "execution_count": 1,
   "metadata": {},
   "outputs": [
    {
     "name": "stdout",
     "output_type": "stream",
     "text": [
      "6\n",
      "72\n"
     ]
    }
   ],
   "source": [
    "import sys\n",
    "\n",
    "def gcdlcm(a, b):\n",
    "    if a > b: \n",
    "        c, d = a, b\n",
    "    else: \n",
    "        c, d = b, a\n",
    "    r = 1\n",
    "    while r > 0:\n",
    "        r = c%d\n",
    "        c, d = d, r\n",
    "    return c, int(a * b / c)\n",
    "\n",
    "# input = sys.stdin.readline\n",
    "input = open(\"../../input.txt\", \"rt\").readline\n",
    "a, b =  map(int, input().split())\n",
    "gcd, lcm = gcdlcm(a, b)\n",
    "print(gcd)\n",
    "print(lcm)"
   ]
  },
  {
   "cell_type": "code",
   "execution_count": null,
   "metadata": {},
   "outputs": [],
   "source": [
    "# 1등 코드\n",
    "def gcd(a, b):\n",
    "    while b != 0:\n",
    "        r = a % b\n",
    "        a = b\n",
    "        b = r\n",
    "    return a\n",
    "a, b = map(int, input().split())\n",
    "print(gcd(a, b))\n",
    "print(a*b // gcd(a, b))"
   ]
  },
  {
   "cell_type": "code",
   "execution_count": null,
   "metadata": {},
   "outputs": [],
   "source": [
    "# 3등 코드 (비교용으로 가져옴)\n",
    "# 최대공약수\n",
    "def gcd(a, b):\n",
    "    while b>0:\n",
    "        a, b = b, a%b\n",
    "    return a\n",
    "\n",
    "# 최소공배수\n",
    "def lcm(a, b):\n",
    "    return int(a*b/gcd(a,b))\n",
    "\n",
    "a, b = map(int, input().split())\n",
    "print(gcd(a, b))\n",
    "print(lcm(a,b))"
   ]
  }
 ],
 "metadata": {
  "kernelspec": {
   "display_name": "Python 3",
   "language": "python",
   "name": "python3"
  },
  "language_info": {
   "codemirror_mode": {
    "name": "ipython",
    "version": 3
   },
   "file_extension": ".py",
   "mimetype": "text/x-python",
   "name": "python",
   "nbconvert_exporter": "python",
   "pygments_lexer": "ipython3",
   "version": "3.8.6"
  }
 },
 "nbformat": 4,
 "nbformat_minor": 2
}
