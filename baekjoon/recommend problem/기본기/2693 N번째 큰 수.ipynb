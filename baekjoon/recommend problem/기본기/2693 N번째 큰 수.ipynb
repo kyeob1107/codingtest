{
 "cells": [
  {
   "cell_type": "markdown",
   "metadata": {},
   "source": [
    "https://www.acmicpc.net/problem/2693"
   ]
  },
  {
   "cell_type": "markdown",
   "metadata": {},
   "source": [
    "# tc"
   ]
  },
  {
   "cell_type": "markdown",
   "metadata": {},
   "source": [
    "4\n",
    "1 2 3 4 5 6 7 8 9 1000\n",
    "338 304 619 95 343 496 489 116 98 127\n",
    "931 240 986 894 826 640 965 833 136 138\n",
    "940 955 364 188 133 254 501 122 768 408"
   ]
  },
  {
   "cell_type": "markdown",
   "metadata": {},
   "source": [
    "# 코드"
   ]
  },
  {
   "cell_type": "code",
   "execution_count": 1,
   "metadata": {},
   "outputs": [
    {
     "name": "stdout",
     "output_type": "stream",
     "text": [
      "8\n",
      "489\n",
      "931\n",
      "768\n"
     ]
    }
   ],
   "source": [
    "# 제일 단순 무식하게 # 출력도 바로바로\n",
    "import sys\n",
    "\n",
    "def n_largest(array):\n",
    "    return sorted(array, reverse= True)[2]\n",
    "\n",
    "# input = sys.stdin.readline\n",
    "input = open(\"../../input.txt\", \"rt\").readline\n",
    "T = int(input())\n",
    "for _ in range(T):\n",
    "    print(n_largest(list(map(int, input().split()))))\n"
   ]
  },
  {
   "cell_type": "code",
   "execution_count": 4,
   "metadata": {},
   "outputs": [
    {
     "name": "stdout",
     "output_type": "stream",
     "text": [
      "8\n",
      "489\n",
      "931\n",
      "768\n"
     ]
    }
   ],
   "source": [
    "# 제일 단순 무식하게 # 출력 모아뒀다가 한번에\n",
    "import sys\n",
    "\n",
    "def n_largest(array):\n",
    "    return sorted(array, reverse= True)[2]\n",
    "\n",
    "# input = sys.stdin.readline\n",
    "input = open(\"../../input.txt\", \"rt\").readline\n",
    "T = int(input())\n",
    "ans = []\n",
    "for _ in range(T):\n",
    "    ans.append(n_largest(list(map(int, input().split()))))\n",
    "for p in ans:\n",
    "    print(p)\n"
   ]
  },
  {
   "cell_type": "code",
   "execution_count": 2,
   "metadata": {},
   "outputs": [
    {
     "name": "stdout",
     "output_type": "stream",
     "text": [
      "8\n",
      "489\n",
      "931\n",
      "768\n"
     ]
    }
   ],
   "source": [
    "# 내장 함수 최대한 안쓰고 해보기\n",
    "import sys\n",
    "\n",
    "def n_largest(array):\n",
    "    largest = []\n",
    "    for i in array:\n",
    "        if len(largest) < 3:\n",
    "            if not largest:\n",
    "                largest.append(i)\n",
    "            else:\n",
    "                if i >= largest[0]:\n",
    "                    largest.insert(0, i)\n",
    "                elif i < largest[-1]:\n",
    "                    largest.append(i)\n",
    "                else:\n",
    "                    largest.insert(1, i)\n",
    "                    \n",
    "        else:\n",
    "            if i >= largest[0]:\n",
    "                largest.insert(0, i)\n",
    "            elif i >= largest[1]:\n",
    "                largest.insert(1, i)\n",
    "            elif i >= largest[2]:\n",
    "                largest.insert(2, i)\n",
    "            \n",
    "            if len(largest) > 3:\n",
    "                largest.pop()\n",
    "    return largest[-1]\n",
    "\n",
    "# input = sys.stdin.readline\n",
    "input = open(\"../../input.txt\", \"rt\").readline\n",
    "T = int(input())\n",
    "for _ in range(T):\n",
    "    print(n_largest(list(map(int, input().split()))))"
   ]
  },
  {
   "cell_type": "code",
   "execution_count": 3,
   "metadata": {},
   "outputs": [
    {
     "name": "stdout",
     "output_type": "stream",
     "text": [
      "8\n",
      "489\n",
      "931\n",
      "768\n"
     ]
    }
   ],
   "source": [
    "# 내장 함수 최대한 안쓰고 해보기 # 모아뒀다가 프린트 따로\n",
    "import sys\n",
    "\n",
    "def n_largest(array):\n",
    "    largest = []\n",
    "    for i in array:\n",
    "        if len(largest) < 3:\n",
    "            if not largest:\n",
    "                largest.append(i)\n",
    "            else:\n",
    "                if i >= largest[0]:\n",
    "                    largest.insert(0, i)\n",
    "                elif i < largest[-1]:\n",
    "                    largest.append(i)\n",
    "                else:\n",
    "                    largest.insert(1, i)\n",
    "                    \n",
    "        else:\n",
    "            if i >= largest[0]:\n",
    "                largest.insert(0, i)\n",
    "            elif i >= largest[1]:\n",
    "                largest.insert(1, i)\n",
    "            elif i >= largest[2]:\n",
    "                largest.insert(2, i)\n",
    "            \n",
    "            if len(largest) > 3:\n",
    "                largest.pop()\n",
    "    return largest[-1]\n",
    "\n",
    "# input = sys.stdin.readline\n",
    "input = open(\"../../input.txt\", \"rt\").readline\n",
    "T = int(input())\n",
    "ans = []\n",
    "for _ in range(T):\n",
    "    ans.append(n_largest(list(map(int, input().split()))))\n",
    "\n",
    "for p in ans:\n",
    "    print(p)"
   ]
  },
  {
   "cell_type": "code",
   "execution_count": null,
   "metadata": {},
   "outputs": [],
   "source": [
    "# 뤼튼보고 개선시켜보라고 한 것\n",
    "import sys\n",
    "\n",
    "def n_largest(array):\n",
    "    largest = []\n",
    "    for i in array:\n",
    "        if len(largest) < 3:\n",
    "            largest.append(i)\n",
    "            largest.sort(reverse=True)\n",
    "        else:\n",
    "            if i > largest[-1]:\n",
    "                largest[-1] = i\n",
    "                largest.sort(reverse=True)\n",
    "    return largest[-1]\n",
    "\n",
    "# input = sys.stdin.readline\n",
    "input = open(\"../../input.txt\", \"rt\").readline\n",
    "T = int(input())\n",
    "ans = []\n",
    "for _ in range(T):\n",
    "    ans.append(n_largest(list(map(int, input().split()))))\n",
    "\n",
    "for p in ans:\n",
    "    print(p)"
   ]
  },
  {
   "cell_type": "code",
   "execution_count": 5,
   "metadata": {},
   "outputs": [
    {
     "name": "stdout",
     "output_type": "stream",
     "text": [
      "8\n",
      "489\n",
      "931\n",
      "768\n"
     ]
    }
   ],
   "source": [
    "# 뤼튼보고 정렬함수 안쓰고 개선시켜보라고 한 것\n",
    "import sys\n",
    "\n",
    "def n_largest(array):\n",
    "    first = second = third = -float('inf')\n",
    "    \n",
    "    for i in array:\n",
    "        if i > first:\n",
    "            third = second\n",
    "            second = first\n",
    "            first = i\n",
    "        elif i > second:\n",
    "            third = second\n",
    "            second = i\n",
    "        elif i > third:\n",
    "            third = i\n",
    "    \n",
    "    return third\n",
    "\n",
    "# input = sys.stdin.readline\n",
    "input = open(\"../../input.txt\", \"rt\").readline\n",
    "T = int(input())\n",
    "ans = []\n",
    "for _ in range(T):\n",
    "    ans.append(n_largest(list(map(int, input().split()))))\n",
    "\n",
    "for p in ans:\n",
    "    print(p)\n"
   ]
  },
  {
   "cell_type": "code",
   "execution_count": null,
   "metadata": {},
   "outputs": [],
   "source": [
    "# 1등 코드\n",
    "import sys\n",
    "input = sys.stdin.readline\n",
    "\n",
    "T = int(input())\n",
    "\n",
    "for _ in range(T):\n",
    "    arr = list(map(int, input().split()))\n",
    "    arr.sort(reverse=True)\n",
    "    print(arr[2])"
   ]
  }
 ],
 "metadata": {
  "kernelspec": {
   "display_name": "Python 3",
   "language": "python",
   "name": "python3"
  },
  "language_info": {
   "codemirror_mode": {
    "name": "ipython",
    "version": 3
   },
   "file_extension": ".py",
   "mimetype": "text/x-python",
   "name": "python",
   "nbconvert_exporter": "python",
   "pygments_lexer": "ipython3",
   "version": "3.8.6"
  }
 },
 "nbformat": 4,
 "nbformat_minor": 2
}
