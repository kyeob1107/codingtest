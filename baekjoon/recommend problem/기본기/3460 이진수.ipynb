{
 "cells": [
  {
   "cell_type": "markdown",
   "metadata": {},
   "source": [
    "https://www.acmicpc.net/problem/3460"
   ]
  },
  {
   "cell_type": "markdown",
   "metadata": {},
   "source": [
    "# tc"
   ]
  },
  {
   "cell_type": "markdown",
   "metadata": {},
   "source": [
    "1\n",
    "13"
   ]
  },
  {
   "cell_type": "markdown",
   "metadata": {},
   "source": [
    "# 코드"
   ]
  },
  {
   "cell_type": "code",
   "execution_count": 23,
   "metadata": {},
   "outputs": [
    {
     "name": "stdout",
     "output_type": "stream",
     "text": [
      "0 2 3 "
     ]
    }
   ],
   "source": [
    "# 내장함수 이용\n",
    "import sys\n",
    "# input = sys.stdin.readline\n",
    "input = open(\"../../input.txt\", \"rt\").readline\n",
    "T = int(input())\n",
    "for _ in range(T):\n",
    "    ans = bin(int(input()))\n",
    "    # print(ans)\n",
    "    for i, s in enumerate(ans[::-1][:-2]):\n",
    "        if s == '1':\n",
    "           print(i, end=' ') "
   ]
  },
  {
   "cell_type": "code",
   "execution_count": 27,
   "metadata": {},
   "outputs": [
    {
     "name": "stdout",
     "output_type": "stream",
     "text": [
      "1101\n",
      "0 2 3 "
     ]
    }
   ],
   "source": [
    "# 2진수 직접 구현(함수 안에 내장함수 사용)\n",
    "import sys\n",
    "\n",
    "def con_n(n,q): #n진법 변환기 (conversion to base n)\n",
    "    rev_base = ''\n",
    "\n",
    "    while n > 0:\n",
    "        n, mod = divmod(n, q)\n",
    "        rev_base += str(mod)\n",
    "\n",
    "    return rev_base[::-1]\n",
    "\n",
    "# input = sys.stdin.readline\n",
    "input = open(\"../../input.txt\", \"rt\").readline\n",
    "T = int(input())\n",
    "for _ in range(T):\n",
    "    ans = con_n(int(input()), 2)\n",
    "    # print(ans)\n",
    "    for i, s in enumerate(ans[::-1]):\n",
    "        if s == '1':\n",
    "           print(i, end=' ')"
   ]
  },
  {
   "cell_type": "code",
   "execution_count": 1,
   "metadata": {},
   "outputs": [
    {
     "name": "stdout",
     "output_type": "stream",
     "text": [
      "0 2 3 "
     ]
    }
   ],
   "source": [
    "# 2진수 아예 내장함수 안 쓰고 구현\n",
    "import sys\n",
    "\n",
    "def con_n_not_builtin(n,q): #n진법 변환기 (conversion to base n)\n",
    "    rev_base = ''\n",
    "\n",
    "    while n > 0:\n",
    "        n, mod = n//q, n%q\n",
    "        rev_base += str(mod)\n",
    "\n",
    "    return rev_base[::-1]\n",
    "\n",
    "# input = sys.stdin.readline\n",
    "input = open(\"../../input.txt\", \"rt\").readline\n",
    "T = int(input())\n",
    "for _ in range(T):\n",
    "    ans = con_n_not_builtin(int(input()), 2)\n",
    "    # print(ans)\n",
    "    for i, s in enumerate(ans[::-1]):\n",
    "        if s == '1':\n",
    "           print(i, end=' ')"
   ]
  },
  {
   "cell_type": "code",
   "execution_count": null,
   "metadata": {},
   "outputs": [],
   "source": [
    "# 1등 코드\n",
    "T = int(input())\n",
    "\n",
    "for _ in range(T):\n",
    "    n = int(input())\n",
    "    print(\" \".join([str(i) for i, j in enumerate(bin(n)[:1:-1]) if j == \"1\"]))"
   ]
  },
  {
   "cell_type": "code",
   "execution_count": null,
   "metadata": {},
   "outputs": [],
   "source": [
    "# 3등 코드\n",
    "for _ in range(int(input())):\n",
    "    n = int(input())\n",
    "    cnt=0\n",
    "    while n > 0:\n",
    "        if n%2 == 1:\n",
    "            print(cnt,end=' ')\n",
    "        n=n//2\n",
    "        cnt+=1"
   ]
  },
  {
   "cell_type": "code",
   "execution_count": 7,
   "metadata": {},
   "outputs": [
    {
     "name": "stdout",
     "output_type": "stream",
     "text": [
      "0 2 3 \n",
      "0 1 3 \n",
      "3 \n"
     ]
    }
   ],
   "source": [
    "# 3등 코드 확인용\n",
    "import sys\n",
    "# input = sys.stdin.readline\n",
    "input = open(\"../../input.txt\", \"rt\").readline\n",
    "\n",
    "for _ in range(int(input())):\n",
    "    n = int(input())\n",
    "    cnt=0\n",
    "    while n > 0:\n",
    "        if n%2 == 1:\n",
    "            print(cnt,end=' ')\n",
    "        n=n//2\n",
    "        cnt+=1\n",
    "    print()"
   ]
  },
  {
   "cell_type": "code",
   "execution_count": null,
   "metadata": {},
   "outputs": [],
   "source": [
    "# 2진수 직접 구현(함수 안에 내장함수 사용) - 뒤집기 부분 제거\n",
    "import sys\n",
    "\n",
    "def con_n(n,q): #n진법 변환기 (conversion to base n)\n",
    "    rev_base = ''\n",
    "\n",
    "    while n > 0:\n",
    "        n, mod = divmod(n, q)\n",
    "        rev_base += str(mod)\n",
    "\n",
    "    return rev_base\n",
    "\n",
    "# input = sys.stdin.readline\n",
    "input = open(\"../../input.txt\", \"rt\").readline\n",
    "T = int(input())\n",
    "for _ in range(T):\n",
    "    ans = con_n(int(input()), 2)\n",
    "    # print(ans)\n",
    "    for i, s in enumerate(ans):\n",
    "        if s == '1':\n",
    "           print(i, end=' ')\n",
    "    print()"
   ]
  },
  {
   "cell_type": "code",
   "execution_count": null,
   "metadata": {},
   "outputs": [],
   "source": [
    "# 2진수 아예 내장함수 안 쓰고 구현 (뒤집기 부분 제거)\n",
    "import sys\n",
    "\n",
    "def con_n_not_builtin(n,q): #n진법 변환기 (conversion to base n)\n",
    "    rev_base = ''\n",
    "\n",
    "    while n > 0:\n",
    "        n, mod = n//q, n%q\n",
    "        rev_base += str(mod)\n",
    "\n",
    "    return rev_base\n",
    "\n",
    "# input = sys.stdin.readline\n",
    "input = open(\"../../input.txt\", \"rt\").readline\n",
    "T = int(input())\n",
    "for _ in range(T):\n",
    "    ans = con_n_not_builtin(int(input()), 2)\n",
    "    # print(ans)\n",
    "    for i, s in enumerate(ans):\n",
    "        if s == '1':\n",
    "           print(i, end=' ')"
   ]
  }
 ],
 "metadata": {
  "kernelspec": {
   "display_name": "Python 3",
   "language": "python",
   "name": "python3"
  },
  "language_info": {
   "codemirror_mode": {
    "name": "ipython",
    "version": 3
   },
   "file_extension": ".py",
   "mimetype": "text/x-python",
   "name": "python",
   "nbconvert_exporter": "python",
   "pygments_lexer": "ipython3",
   "version": "3.8.6"
  }
 },
 "nbformat": 4,
 "nbformat_minor": 2
}
