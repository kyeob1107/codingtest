{
 "cells": [
  {
   "cell_type": "markdown",
   "metadata": {},
   "source": [
    "https://www.acmicpc.net/problem/1197"
   ]
  },
  {
   "cell_type": "markdown",
   "metadata": {},
   "source": [
    "# tc"
   ]
  },
  {
   "cell_type": "markdown",
   "metadata": {},
   "source": [
    "3 3\n",
    "1 2 1\n",
    "2 3 2\n",
    "1 3 3"
   ]
  },
  {
   "cell_type": "markdown",
   "metadata": {},
   "source": [
    "# 코드"
   ]
  },
  {
   "cell_type": "code",
   "execution_count": null,
   "metadata": {},
   "outputs": [],
   "source": [
    "import heapq\n",
    "import sys\n",
    "# input = sys.stdin.readline\n",
    "input = open(\"../../input.txt\", \"rt\").readline\n",
    "V, E = map(int, input().split()) #정점, 간선\n",
    "graph = [{} for _ in range(V + 1)]\n",
    "for _ in range(E):\n",
    "    a, b, c = map(int, input().split())\n",
    "    if b in graph[a]:\n",
    "        graph[a][b] = min(graph[a][b], c)\n",
    "    else:\n",
    "        graph[a][b] = c\n",
    "\n",
    "INF = float('inf')\n",
    "\n",
    "def ftn()"
   ]
  },
  {
   "cell_type": "code",
   "execution_count": null,
   "metadata": {},
   "outputs": [],
   "source": []
  }
 ],
 "metadata": {
  "language_info": {
   "name": "python"
  }
 },
 "nbformat": 4,
 "nbformat_minor": 2
}
