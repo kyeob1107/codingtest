{
 "cells": [
  {
   "cell_type": "markdown",
   "metadata": {},
   "source": [
    "https://www.acmicpc.net/problem/14719"
   ]
  },
  {
   "cell_type": "markdown",
   "metadata": {},
   "source": [
    "# tc"
   ]
  },
  {
   "cell_type": "markdown",
   "metadata": {},
   "source": [
    "4 4\n",
    "3 0 1 4\n",
    "\n",
    "4 8\n",
    "3 1 2 3 4 1 1 2\n",
    "\n",
    "3 5\n",
    "0 0 0 2 0"
   ]
  },
  {
   "cell_type": "markdown",
   "metadata": {},
   "source": [
    "# 코드"
   ]
  },
  {
   "cell_type": "code",
   "execution_count": 3,
   "metadata": {},
   "outputs": [
    {
     "name": "stdout",
     "output_type": "stream",
     "text": [
      "2\n"
     ]
    }
   ],
   "source": [
    "# 처음 떠올렸다가 다른 방법이 나을 것 같아 보류\n",
    "import sys\n",
    "# input = sys.stdin.readline\n",
    "input = open(\"../../input.txt\", \"rt\").readline\n",
    "\n",
    "H, W = map(int, input().split())\n",
    "heights = list(map(int, input().split()))\n",
    "start = 0\n",
    "end = H\n",
    "tot = 0\n",
    "for i in range(len(heights)):\n",
    "    if start < heights[i]:\n",
    "        start = heights[i]\n",
    "    elif start > heights[i]:\n",
    "       tot +=  start - heights[i]\n",
    "print(tot)"
   ]
  },
  {
   "cell_type": "code",
   "execution_count": 21,
   "metadata": {},
   "outputs": [
    {
     "name": "stdout",
     "output_type": "stream",
     "text": [
      "0\n"
     ]
    }
   ],
   "source": [
    "import sys\n",
    "# input = sys.stdin.readline\n",
    "input = open(\"../../input.txt\", \"rt\").readline\n",
    "H, W = map(int, input().split())\n",
    "height_arr = list(map(int, input().split()))\n",
    "\n",
    "graph = [[1 if H - i <= height_arr[j] else 0 for j in range(W)] for i in range(H)] # H 관련해서는 최소 ~ 최대 만큼만 갯수 하면 될듯\n",
    "\n",
    "for h in range(H):\n",
    "    if sum(graph[h]) >= 2: # (h == 0 or not (2 in graph[h-1])) and\n",
    "        wall_index = [i for i in range(W) if graph[h][i] == 1]\n",
    "        for start, end in zip(wall_index, wall_index[1:]):\n",
    "            graph[h][start + 1: end] = [2] * (end - start - 1)\n",
    "            \n",
    "print(sum(row.count(2) for row in graph))"
   ]
  },
  {
   "cell_type": "code",
   "execution_count": 4,
   "metadata": {},
   "outputs": [
    {
     "name": "stdout",
     "output_type": "stream",
     "text": [
      "5\n"
     ]
    }
   ],
   "source": [
    "# 높이 딱 필요한 부분만 하도록 추가 수정 - 리스트 컴프리헨션 한번 더 들어가서 그런가 속도 오히려 느려짐\n",
    "\n",
    "import sys\n",
    "# input = sys.stdin.readline\n",
    "input = open(\"../../input.txt\", \"rt\").readline\n",
    "H, W = map(int, input().split())\n",
    "height_arr = list(map(int, input().split()))\n",
    "height_arr, H = [h_r - min(height_arr) for h_r in height_arr], H - min(height_arr)\n",
    "\n",
    "graph = [[1 if H - i <= height_arr[j] else 0 for j in range(W)] for i in range(H)]\n",
    "\n",
    "for h in range(H):\n",
    "    if sum(graph[h]) >= 2: # (h == 0 or not (2 in graph[h-1])) and\n",
    "        wall_index = [i for i in range(W) if graph[h][i] == 1]\n",
    "        for start, end in zip(wall_index, wall_index[1:]):\n",
    "            graph[h][start + 1: end] = [2] * (end - start - 1)\n",
    "            \n",
    "print(sum(row.count(2) for row in graph))"
   ]
  },
  {
   "cell_type": "code",
   "execution_count": 15,
   "metadata": {},
   "outputs": [
    {
     "name": "stdout",
     "output_type": "stream",
     "text": [
      "[[0, 3, 4], [0, 2, 3, 4, 7]]\n",
      "[1, 2]\n",
      "[1, 5, 6]\n",
      "5\n"
     ]
    }
   ],
   "source": [
    "# 뭔가 계산 단순화해서 가능할 듯해서 시도 , 인덱스 저장하고 계산방식\n",
    "import sys\n",
    "# input = sys.stdin.readline\n",
    "input = open(\"../../input.txt\", \"rt\").readline\n",
    "H, W = map(int, input().split())\n",
    "height_arr = list(map(int, input().split()))\n",
    "\n",
    "min_h =  min(height_arr)\n",
    "cal = []\n",
    "for standard in range(H, min_h, -1):\n",
    "    wall_index = [i for i in range(W) if height_arr[i] >= standard]\n",
    "    if len(wall_index) > 1:\n",
    "        cal.append(wall_index)\n",
    "res = 0\n",
    "for c in cal:\n",
    "    temp = [l for l in range(min(c), max(c) + 1) if l not in c]\n",
    "    res += len(temp)\n",
    "\n",
    "print(res)"
   ]
  },
  {
   "cell_type": "code",
   "execution_count": 1,
   "metadata": {},
   "outputs": [
    {
     "name": "stdout",
     "output_type": "stream",
     "text": [
      "5\n"
     ]
    }
   ],
   "source": [
    "# 뭔가 계산 단순화해서 가능할 듯해서 시도 , 인덱스 저장하고 계산방식 2\n",
    "import sys\n",
    "# input = sys.stdin.readline\n",
    "input = open(\"../../input.txt\", \"rt\").readline\n",
    "H, W = map(int, input().split())\n",
    "height_arr = list(map(int, input().split()))\n",
    "\n",
    "min_h =  min(height_arr)\n",
    "res = 0\n",
    "for standard in range(H, min_h, -1):\n",
    "    wall_index = [i for i in range(W) if height_arr[i] >= standard]\n",
    "    if len(wall_index) > 1:\n",
    "        res += len([l for l in range(min(wall_index), max(wall_index) + 1) if l not in wall_index])\n",
    "print(res)"
   ]
  },
  {
   "cell_type": "code",
   "execution_count": 7,
   "metadata": {},
   "outputs": [
    {
     "name": "stdout",
     "output_type": "stream",
     "text": [
      "5\n"
     ]
    }
   ],
   "source": [
    "# 뭔가 계산 단순화해서 가능할 듯해서 시도 , 바로 계산방식 2\n",
    "import sys\n",
    "# input = sys.stdin.readline\n",
    "input = open(\"../../input.txt\", \"rt\").readline\n",
    "H, W = map(int, input().split())\n",
    "height_arr = list(map(int, input().split()))\n",
    "min_h =  min(height_arr)\n",
    "res = 0\n",
    "\n",
    "for standard in range(H, min_h, -1):\n",
    "    temp = 0\n",
    "    build = False\n",
    "    for h in height_arr:\n",
    "        if not build and h >= standard:\n",
    "            build = True\n",
    "        elif build and h < standard:\n",
    "            temp += 1\n",
    "        elif build and h >= standard:\n",
    "            res += temp\n",
    "            temp = 0\n",
    "\n",
    "print(res)"
   ]
  },
  {
   "cell_type": "code",
   "execution_count": 8,
   "metadata": {},
   "outputs": [
    {
     "name": "stdout",
     "output_type": "stream",
     "text": [
      "5\n"
     ]
    }
   ],
   "source": [
    "# 뭔가 계산 단순화해서 가능할 듯해서 시도 , 바로 계산방식 2+\n",
    "import sys\n",
    "# input = sys.stdin.readline\n",
    "input = open(\"../../input.txt\", \"rt\").readline\n",
    "H, W = map(int, input().split())\n",
    "height_arr = list(map(int, input().split()))\n",
    "min_h =  min(height_arr)\n",
    "res = 0\n",
    "\n",
    "for standard in range(H, min_h, -1):\n",
    "    temp = 0\n",
    "    build = False\n",
    "    for h in height_arr:\n",
    "        if h >= standard:\n",
    "            if not build:\n",
    "                build = True\n",
    "            else:\n",
    "                res += temp\n",
    "                temp = 0\n",
    "        elif build:\n",
    "            temp += 1\n",
    "            \n",
    "print(res)"
   ]
  },
  {
   "cell_type": "code",
   "execution_count": null,
   "metadata": {},
   "outputs": [],
   "source": [
    "# 2등 코드\n",
    "import sys\n",
    "h,w=map(int,sys.stdin.readline().split())\n",
    "walls=[*map(int,sys.stdin.readline().split())]\n",
    "start=0\n",
    "end=len(walls)-1\n",
    "res=0\n",
    "def sol(start):\n",
    "    global h,w,walls,res,end\n",
    "    init=start\n",
    "    idx=start+1\n",
    "    while idx<=end:\n",
    "        if(walls[idx]>=walls[start]):#지금까지의 합을 계산하고 이를 더하고 새로운 start만들고 idx=start+1\n",
    "            th=min(walls[start],walls[idx])\n",
    "            for i in range(start,idx+1):\n",
    "                res+=max(th-walls[i],0)\n",
    "            start=idx\n",
    "            idx+=1\n",
    "        else:\n",
    "            idx+=1\n",
    "    if(init==start):\n",
    "        walls[start]=max(walls[init+1:end+1])\n",
    "    return start\n",
    "while start<end:\n",
    "    start=sol(start)\n",
    "print(res)"
   ]
  },
  {
   "cell_type": "code",
   "execution_count": 11,
   "metadata": {},
   "outputs": [
    {
     "name": "stdout",
     "output_type": "stream",
     "text": [
      "[3, 1, 2, 3, 4, 1, 1, 2]\n",
      "5\n",
      "[3, 1, 2, 3, 2, 1, 1, 2]\n"
     ]
    }
   ],
   "source": [
    "# 2등 코드 이해용\n",
    "import sys\n",
    "# input = sys.stdin.readline\n",
    "input = open(\"../../input.txt\", \"rt\").readline\n",
    "\n",
    "h,w=map(int,input().split())\n",
    "walls=[*map(int,input().split())]\n",
    "start=0\n",
    "end=len(walls)-1\n",
    "res=0\n",
    "\n",
    "def sol(start):\n",
    "    global h,w,walls,res,end\n",
    "    init=start\n",
    "    idx=start+1\n",
    "    while idx<=end:\n",
    "        if(walls[idx]>=walls[start]):#지금까지의 합을 계산하고 이를 더하고 새로운 start만들고 idx=start+1\n",
    "            th=min(walls[start],walls[idx])\n",
    "            for i in range(start,idx+1):\n",
    "                res += max(th-walls[i],0)\n",
    "            start=idx\n",
    "            idx+=1\n",
    "        else:\n",
    "            idx+=1\n",
    "    if(init==start):\n",
    "        walls[start]=max(walls[init+1:end+1])\n",
    "    return start\n",
    "\n",
    "print(walls)    \n",
    "while start<end:\n",
    "    start=sol(start)\n",
    "print(res)\n",
    "print(walls)"
   ]
  },
  {
   "cell_type": "code",
   "execution_count": 12,
   "metadata": {},
   "outputs": [
    {
     "name": "stdout",
     "output_type": "stream",
     "text": [
      "[3, 1, 2, 3, 4, 1, 1, 2]\n",
      "5\n",
      "[3, 1, 2, 3, 2, 1, 1, 2]\n"
     ]
    }
   ],
   "source": [
    "# 2등 코드 뭔가 비효율적인 부분 있는 것 같아서 개선\n",
    "import sys\n",
    "# input = sys.stdin.readline\n",
    "input = open(\"../../input.txt\", \"rt\").readline\n",
    "\n",
    "h,w=map(int,input().split())\n",
    "walls=[*map(int,input().split())]\n",
    "start=0\n",
    "end=len(walls)-1\n",
    "res=0\n",
    "\n",
    "def sol(start):\n",
    "    global h,w,walls,res,end\n",
    "    init=start\n",
    "    idx=start+1\n",
    "    while idx<=end:\n",
    "        if(walls[idx]>=walls[start]):#지금까지의 합을 계산하고 이를 더하고 새로운 start만들고 idx=start+1\n",
    "            for i in range(start + 1, idx):\n",
    "                res += walls[start] - walls[i]\n",
    "            start=idx\n",
    "            idx+=1\n",
    "        else:\n",
    "            idx+=1\n",
    "    if(init==start):\n",
    "        walls[start]=max(walls[init+1:end+1])\n",
    "    return start\n",
    "\n",
    "print(walls)    \n",
    "while start<end:\n",
    "    start=sol(start)\n",
    "print(res)\n",
    "print(walls)"
   ]
  },
  {
   "cell_type": "code",
   "execution_count": null,
   "metadata": {},
   "outputs": [],
   "source": [
    "# # 이런 느낌으로 바로 계산하는 것 시도 - 하다가 생각안나서 보류\n",
    "# import sys\n",
    "# # input = sys.stdin.readline\n",
    "# input = open(\"../../input.txt\", \"rt\").readline\n",
    "# H, W = map(int, input().split())\n",
    "# height_arr = list(map(int, input().split()))\n",
    "# # min_h =  min(height_arr)\n",
    "# res = 0\n",
    "\n",
    "# start = 0\n",
    "# end =  len(height_arr) - 1\n",
    "# idx = start + 1\n",
    "\n",
    "# while True:\n",
    "#     if height_arr[start] <= height_arr[idx]:\n",
    "#         for i in range(start + 1, idx):\n",
    "#             res += height_arr[start] - height_arr[i]\n",
    "            \n",
    "        \n",
    "            \n",
    "# print(res)"
   ]
  },
  {
   "cell_type": "code",
   "execution_count": 1,
   "metadata": {},
   "outputs": [
    {
     "name": "stdout",
     "output_type": "stream",
     "text": [
      "0\n",
      "0\n",
      "1\n",
      "3\n",
      "3\n",
      "3\n",
      "3\n",
      "5\n",
      "답\n",
      "5\n"
     ]
    }
   ],
   "source": [
    "# 3등 코드\n",
    "_, _ = map(int, input().split())\n",
    "walls = list(map(int, input().split()))\n",
    "\n",
    "stack = []\n",
    "answer = 0\n",
    "\n",
    "for i, h in enumerate(walls):\n",
    "    while stack and walls[stack[-1]] < h:\n",
    "        b = walls[stack.pop()]\n",
    "        if not stack:\n",
    "            break\n",
    "        d = i - stack[-1] - 1\n",
    "        wh = min(walls[stack[-1]], h) - b\n",
    "        answer += d * wh\n",
    "    stack.append(i)\n",
    "\n",
    "print(answer)"
   ]
  },
  {
   "cell_type": "code",
   "execution_count": 4,
   "metadata": {},
   "outputs": [
    {
     "name": "stdout",
     "output_type": "stream",
     "text": [
      "[3, 1, 2, 3, 4, 1, 1, 2]\n",
      "0\n",
      "0\n",
      "1\n",
      "3\n",
      "3\n",
      "3\n",
      "3\n",
      "5\n",
      "답\n",
      "5\n"
     ]
    }
   ],
   "source": [
    "# 3등 코드 이해용\n",
    "import sys\n",
    "# input = sys.stdin.readline\n",
    "input = open(\"../../input.txt\", \"rt\").readline\n",
    "_, _ = map(int, input().split())\n",
    "walls = list(map(int, input().split()))\n",
    "print(walls)\n",
    "stack = []\n",
    "answer = 0\n",
    "\n",
    "for i, h in enumerate(walls):\n",
    "    while stack and walls[stack[-1]] < h:\n",
    "        b = walls[stack.pop()]\n",
    "        if not stack:\n",
    "            break\n",
    "        d = i - stack[-1] - 1\n",
    "        wh = min(walls[stack[-1]], h) - b\n",
    "        answer += d * wh\n",
    "    stack.append(i)\n",
    "    print(answer)\n",
    "\n",
    "print(\"답\")\n",
    "print(answer)"
   ]
  }
 ],
 "metadata": {
  "kernelspec": {
   "display_name": "Python 3",
   "language": "python",
   "name": "python3"
  },
  "language_info": {
   "codemirror_mode": {
    "name": "ipython",
    "version": 3
   },
   "file_extension": ".py",
   "mimetype": "text/x-python",
   "name": "python",
   "nbconvert_exporter": "python",
   "pygments_lexer": "ipython3",
   "version": "3.8.6"
  }
 },
 "nbformat": 4,
 "nbformat_minor": 2
}
