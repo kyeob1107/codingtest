{
 "cells": [
  {
   "cell_type": "markdown",
   "metadata": {},
   "source": [
    "https://www.acmicpc.net/problem/1806"
   ]
  },
  {
   "cell_type": "markdown",
   "metadata": {},
   "source": [
    "# tc"
   ]
  },
  {
   "cell_type": "markdown",
   "metadata": {},
   "source": [
    "10 15\n",
    "5 1 3 5 10 7 4 9 2 8"
   ]
  },
  {
   "cell_type": "markdown",
   "metadata": {},
   "source": [
    "# 코드"
   ]
  },
  {
   "cell_type": "code",
   "execution_count": 3,
   "metadata": {},
   "outputs": [
    {
     "name": "stdout",
     "output_type": "stream",
     "text": [
      "10 15\n",
      "[5, 1, 3, 5, 10, 7, 4, 9, 2, 8]\n",
      "2\n"
     ]
    },
    {
     "ename": "SystemExit",
     "evalue": "",
     "output_type": "error",
     "traceback": [
      "An exception has occurred, use %tb to see the full traceback.\n",
      "\u001b[1;31mSystemExit\u001b[0m\n"
     ]
    },
    {
     "name": "stderr",
     "output_type": "stream",
     "text": [
      "c:\\Users\\kssg1\\AppData\\Local\\Programs\\Python\\Python38\\lib\\site-packages\\IPython\\core\\interactiveshell.py:3516: UserWarning: To exit: use 'exit', 'quit', or Ctrl-D.\n",
      "  warn(\"To exit: use 'exit', 'quit', or Ctrl-D.\", stacklevel=1)\n"
     ]
    }
   ],
   "source": [
    "# 개단순하게 한 방식인데 슬라이싱이라 아마 많이 늘릴듯\n",
    "import sys\n",
    "# input = sys.stdin.readline\n",
    "input = open(\"../../input.txt\", \"rt\").readline\n",
    "N, S = map(int, input().split())\n",
    "series = list(map(int, input().split()))\n",
    "\n",
    "print(N, S)\n",
    "print(series)\n",
    "\n",
    "res = N\n",
    "if sum(series) < S:\n",
    "    print(0)\n",
    "    sys.exit()\n",
    "\n",
    "for length in range(1, N+1):\n",
    "    for i in range(N - length + 1):\n",
    "        if sum(series[i : i+length]) >= S:\n",
    "            print(length)\n",
    "            sys.exit()"
   ]
  },
  {
   "cell_type": "code",
   "execution_count": 7,
   "metadata": {},
   "outputs": [
    {
     "name": "stdout",
     "output_type": "stream",
     "text": [
      "10 15\n",
      "[5, 1, 3, 5, 10, 7, 4, 9, 2, 8]\n",
      "[5, 6, 9, 14, 24, 31, 35, 44, 46, 54]\n",
      "2\n"
     ]
    }
   ],
   "source": [
    "# 순차적으로 원소 합 구해둔 리스트 이용 - 마찬가지로 이중 반복문 때문에 그런것인지 시간초과 나옴\n",
    "import sys\n",
    "# input = sys.stdin.readline\n",
    "input = open(\"../../input.txt\", \"rt\").readline\n",
    "N, S = map(int, input().split())\n",
    "series = list(map(int, input().split()))\n",
    "\n",
    "print(N, S)\n",
    "print(series)\n",
    "\n",
    "res = N\n",
    "if sum(series) < S:\n",
    "    print(0)\n",
    "    sys.exit()\n",
    "\n",
    "sum_series = [] # itertools.accumulate 안쓰고 직접\n",
    "temp_s = 0\n",
    "for i in series:\n",
    "    temp_s += i\n",
    "    sum_series.append(temp_s)\n",
    "\n",
    "print(sum_series)\n",
    "for end in range(N):\n",
    "    for length in range(1, N+1):\n",
    "        start = end - length\n",
    "        val = sum_series[end] - (sum_series[start] if start >=0 else 0)\n",
    "        if val >= S and res > length:\n",
    "            res = length\n",
    "            break\n",
    "print(res)"
   ]
  },
  {
   "cell_type": "code",
   "execution_count": 13,
   "metadata": {},
   "outputs": [
    {
     "name": "stdout",
     "output_type": "stream",
     "text": [
      "1\n"
     ]
    }
   ],
   "source": [
    "# 뤼튼이 제시해준 투 포인트 기법\n",
    "import sys\n",
    "# input = sys.stdin.readline\n",
    "input = open(\"../../input.txt\", \"rt\").readline\n",
    "N, S = map(int, input().split())\n",
    "series = list(map(int, input().split()))\n",
    "\n",
    "res = float('inf')\n",
    "left = 0\n",
    "current_sum = 0\n",
    "\n",
    "for right in range(N):\n",
    "    current_sum += series[right]\n",
    "    while current_sum >= S:\n",
    "        res = min(res, right - left + 1)\n",
    "        current_sum -= series[left]\n",
    "        left += 1\n",
    "\n",
    "if res == float('inf'):\n",
    "    print(0)\n",
    "else:\n",
    "    print(res)"
   ]
  },
  {
   "cell_type": "code",
   "execution_count": null,
   "metadata": {},
   "outputs": [],
   "source": [
    "# 1등 코드\n",
    "from sys import stdin\n",
    "\n",
    "\n",
    "def main():\n",
    "    N, S, *arr = map(int, stdin.buffer.read().split())\n",
    "\n",
    "    sum_x = 0\n",
    "    start = 0\n",
    "    for end, x in enumerate(arr, 1):\n",
    "        sum_x += x\n",
    "        if sum_x >= S:\n",
    "            break\n",
    "    else:\n",
    "        if sum_x < S:\n",
    "            print(0)\n",
    "            return\n",
    "\n",
    "    while True:\n",
    "        sum_x -= arr[start]\n",
    "        start += 1\n",
    "        if sum_x < S:\n",
    "            if end == N:\n",
    "                start -= 1\n",
    "                break\n",
    "            sum_x += arr[end]\n",
    "            end += 1\n",
    "    print(end - start)\n",
    "\n",
    "\n",
    "main()"
   ]
  }
 ],
 "metadata": {
  "kernelspec": {
   "display_name": "Python 3",
   "language": "python",
   "name": "python3"
  },
  "language_info": {
   "codemirror_mode": {
    "name": "ipython",
    "version": 3
   },
   "file_extension": ".py",
   "mimetype": "text/x-python",
   "name": "python",
   "nbconvert_exporter": "python",
   "pygments_lexer": "ipython3",
   "version": "3.8.6"
  }
 },
 "nbformat": 4,
 "nbformat_minor": 2
}
