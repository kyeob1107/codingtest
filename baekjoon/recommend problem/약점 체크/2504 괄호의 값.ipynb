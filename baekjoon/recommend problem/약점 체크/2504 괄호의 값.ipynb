{
 "cells": [
  {
   "cell_type": "markdown",
   "metadata": {},
   "source": [
    "https://www.acmicpc.net/problem/2504"
   ]
  },
  {
   "cell_type": "markdown",
   "metadata": {},
   "source": [
    "# tc"
   ]
  },
  {
   "cell_type": "markdown",
   "metadata": {},
   "source": [
    "(()[[]])([])\n",
    "28\n",
    "\n",
    "[][]((])\n",
    "0"
   ]
  },
  {
   "cell_type": "markdown",
   "metadata": {},
   "source": [
    "()[(())]\n",
    "14"
   ]
  },
  {
   "cell_type": "markdown",
   "metadata": {},
   "source": [
    "()(())\n",
    "6\n",
    "\n",
    "(([]))([])\n",
    "18\n",
    "\n",
    "[[[[[]]]]]\n",
    "243"
   ]
  },
  {
   "cell_type": "markdown",
   "metadata": {},
   "source": [
    "())\n",
    "0\n",
    "\n",
    "(()\n",
    "0\n",
    "\n",
    "()]()\n",
    "0\n",
    "\n",
    "([())]\n",
    "0\n",
    "\n",
    "()((((()\n",
    "0\n",
    "\n",
    "()[[[[]\n",
    "0\n",
    "\n",
    "()(\n",
    "0\n"
   ]
  },
  {
   "cell_type": "markdown",
   "metadata": {},
   "source": [
    "# 코드"
   ]
  },
  {
   "cell_type": "code",
   "execution_count": 2,
   "metadata": {},
   "outputs": [
    {
     "name": "stdout",
     "output_type": "stream",
     "text": [
      "28\n"
     ]
    }
   ],
   "source": [
    "# 왜 틀리는지 확인 못함\n",
    "import sys\n",
    "# input = sys.stdin.readline\n",
    "input = open(\"../../input.txt\", \"rt\").readline\n",
    "data = input().strip()\n",
    "stack = []\n",
    "res, total = [], []\n",
    "matched = False\n",
    "cal = -1\n",
    "for i, s in enumerate(data):\n",
    "    # print(\"이전\", s, stack, cal, matched, total, res)\n",
    "    if matched:\n",
    "        if s == ')' or s == ']':\n",
    "            if not stack:\n",
    "                stack.append(s)\n",
    "                break\n",
    "            if stack[-1] == \"+\":\n",
    "                stack.pop()\n",
    "                total.append(cal)\n",
    "                cal = int((ord(s)//10)**0.5)\n",
    "            else:    \n",
    "                cal *= int((ord(s)//10)**0.5)\n",
    "        if s == '(' or s == '[':\n",
    "            if stack:\n",
    "                total.append(cal)\n",
    "                cal = int((ord(s)//10)**0.5)\n",
    "                stack.append(\"+\")\n",
    "            else:\n",
    "                res.append((sum(total) or 1) * cal)\n",
    "                total = []\n",
    "            matched = False\n",
    "    \n",
    "    if stack and ((stack[-1] == '(' and s == ']') or (stack[-1] == '[' and s == ')')):\n",
    "        break\n",
    "    \n",
    "    elif stack and ((stack[-1] == '(' and s == ')') or (stack[-1] == '[' and s == ']')):\n",
    "        if not matched:\n",
    "            cal = int((ord(s)//10)**0.5)\n",
    "        if s == ')':\n",
    "            stack.pop()\n",
    "            matched = True\n",
    "            \n",
    "        elif s== ']':\n",
    "            stack.pop()\n",
    "            matched = True\n",
    "\n",
    "    else:\n",
    "        stack.append(s)\n",
    "    \n",
    "    if i == len(data) - 1 and matched:\n",
    "        res.append(cal)\n",
    "            \n",
    "    # print(\"이후\", s, stack, cal, matched, total, res)\n",
    "\n",
    "# print(\"확인\",stack)\n",
    "if stack:\n",
    "    print(0)\n",
    "else:\n",
    "    print(sum(res))\n"
   ]
  },
  {
   "cell_type": "code",
   "execution_count": 3,
   "metadata": {},
   "outputs": [
    {
     "name": "stdout",
     "output_type": "stream",
     "text": [
      "28\n"
     ]
    }
   ],
   "source": [
    "# 다른 분꺼 약간 참고, strip붙이니 해결됨\n",
    "import sys\n",
    "# input = sys.stdin.readline\n",
    "input = open(\"../../input.txt\", \"rt\").readline\n",
    "data = input().strip()\n",
    "stack = []\n",
    "not_correct = False\n",
    "for i, s in enumerate(data):\n",
    "    if s == '(':\n",
    "        stack.append(s) # 2\n",
    "    \n",
    "    elif s == '[':\n",
    "        stack.append(s) # 3\n",
    "    \n",
    "    else:\n",
    "        check_stack = [d for d in stack if type(d) == str]\n",
    "        if not check_stack:\n",
    "            not_correct = True\n",
    "            break\n",
    "        elif (check_stack[-1] == '[' and s == ')'):\n",
    "            not_correct = True\n",
    "            break\n",
    "        elif (check_stack[-1] =='(' and s == ']'):\n",
    "            not_correct = True\n",
    "            break\n",
    "        \n",
    "        elif (stack[-1] == '(' and s == ')'):\n",
    "            stack.pop()\n",
    "            stack.append(2)\n",
    "        \n",
    "        elif (stack[-1] == '[' and s == ']'):\n",
    "            stack.pop()\n",
    "            stack.append(3)\n",
    "        \n",
    "        elif (type(stack[-1]) == int):\n",
    "            val = stack.pop()\n",
    "            while stack and type(stack[-1]) == int:\n",
    "                val += stack.pop()\n",
    "            if stack and s in [')', ']']: # 비었으면 index 에러 날 수 있어서\n",
    "                if stack[-1] == '(':\n",
    "                    stack.pop()\n",
    "                    stack.append(2 * val)\n",
    "                elif stack[-1] == '[':\n",
    "                    stack.pop()\n",
    "                    stack.append(3 * val)\n",
    "    \n",
    "    # print(s, stack)\n",
    "        \n",
    "if not_correct or any(isinstance(d, str) for d in stack):\n",
    "    print(0)\n",
    "else:\n",
    "    print(sum(stack))\n",
    "# print(data)"
   ]
  },
  {
   "cell_type": "code",
   "execution_count": 2,
   "metadata": {},
   "outputs": [
    {
     "name": "stdout",
     "output_type": "stream",
     "text": [
      "40 2\n",
      "41 2\n",
      "91 3\n",
      "93 3\n"
     ]
    }
   ],
   "source": [
    "for i in ['(', ')', '[', ']']:\n",
    "    print(ord(i), int((ord(i)//10)**0.5))"
   ]
  },
  {
   "cell_type": "code",
   "execution_count": 39,
   "metadata": {},
   "outputs": [
    {
     "name": "stdout",
     "output_type": "stream",
     "text": [
      "40\n"
     ]
    }
   ],
   "source": [
    "# 레퍼런스 - 역시 틀렸다고 나옴..strip붙이니 됐음\n",
    "import sys\n",
    "# input = sys.stdin.readline\n",
    "input = open(\"../../input.txt\", \"rt\").readline\n",
    "\n",
    "arr=input()\n",
    "stack=[]\n",
    "\n",
    "answer=0\n",
    "tmp=1\n",
    "for i in range(len(arr)):\n",
    "    if arr[i] =='(':\n",
    "        stack.append(arr[i])\n",
    "        tmp *=2\n",
    "    elif arr[i] == '[':\n",
    "        stack.append(arr[i])\n",
    "        tmp *=3\n",
    "    elif arr[i] == \")\":\n",
    "        if not stack or stack[-1] == \"[\":\n",
    "            answer = 0 # 실패\n",
    "            break\n",
    "        if arr[i-1] == \"(\":\n",
    "            answer += tmp\n",
    "        stack.pop()\n",
    "        tmp //= 2  #tmp 초기화\n",
    "    else:\n",
    "        if not stack or stack[-1] == \"(\":\n",
    "            answer=0\n",
    "            break\n",
    "        if arr[i-1] =='[':\n",
    "            answer+=tmp\n",
    "        stack.pop()\n",
    "        tmp //=3 #tmp 초기화\n",
    "\n",
    "if stack:\n",
    "    print(0)\n",
    "else:\n",
    "    print(answer)"
   ]
  },
  {
   "cell_type": "code",
   "execution_count": null,
   "metadata": {},
   "outputs": [],
   "source": [
    "# 대강 재채점 맞은 사람 중이 상위권\n",
    "import sys\n",
    "\n",
    "s=sys.stdin.readline().replace(\"\\n\",\"\")\n",
    "li=[]\n",
    "total=0\n",
    "tmp=1\n",
    "for i in range(len(s)):\n",
    "    if s[i] == \"(\":\n",
    "        li.append(s[i])\n",
    "        tmp*=2\n",
    "    elif s[i] == \"[\":\n",
    "        li.append(s[i])\n",
    "        tmp*=3\n",
    "    elif s[i] == \")\":\n",
    "        if not li or li[-1] == \"[\":\n",
    "            total = 0\n",
    "            break\n",
    "        elif s[i-1] == \"(\":\n",
    "            total+=tmp\n",
    "        li.pop()\n",
    "        tmp//=2\n",
    "    else:\n",
    "        if not li or li[-1] == \"(\":\n",
    "            total=0\n",
    "            break\n",
    "        elif s[i-1] == \"[\":\n",
    "            total+=tmp\n",
    "        li.pop()\n",
    "        tmp//=3\n",
    "\n",
    "if li:\n",
    "    print(0)\n",
    "else:\n",
    "    print(total)"
   ]
  }
 ],
 "metadata": {
  "kernelspec": {
   "display_name": "Python 3",
   "language": "python",
   "name": "python3"
  },
  "language_info": {
   "codemirror_mode": {
    "name": "ipython",
    "version": 3
   },
   "file_extension": ".py",
   "mimetype": "text/x-python",
   "name": "python",
   "nbconvert_exporter": "python",
   "pygments_lexer": "ipython3",
   "version": "3.8.6"
  }
 },
 "nbformat": 4,
 "nbformat_minor": 2
}
