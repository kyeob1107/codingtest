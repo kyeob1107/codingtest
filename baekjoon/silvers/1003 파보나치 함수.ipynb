{
 "cells": [
  {
   "cell_type": "markdown",
   "metadata": {},
   "source": [
    "https://www.acmicpc.net/problem/1003"
   ]
  },
  {
   "cell_type": "markdown",
   "metadata": {},
   "source": [
    "6\n",
    "0\n",
    "1\n",
    "3\n",
    "6\n",
    "22\n",
    "10"
   ]
  },
  {
   "cell_type": "code",
   "execution_count": 13,
   "metadata": {},
   "outputs": [
    {
     "name": "stdout",
     "output_type": "stream",
     "text": [
      "1 0\n",
      "0 1\n",
      "1 2\n",
      "5 8\n",
      "10946 17711\n",
      "34 55\n"
     ]
    }
   ],
   "source": [
    "import sys\n",
    "\n",
    "def count_zero_one(n):\n",
    "    global cnt_0, cnt_1\n",
    "    if n == 0:\n",
    "        cnt_0 += 1\n",
    "    elif n == 1:\n",
    "        cnt_1 += 1\n",
    "    else:\n",
    "        count_zero_one(n-1)\n",
    "        count_zero_one(n-2)\n",
    "# input = sys.stdin.readline    \n",
    "input = open(\"input.txt\", \"rt\").readline\n",
    "T = int(input())\n",
    "for _  in range(T):\n",
    "    cnt_0 = cnt_1 = 0\n",
    "    count_zero_one(int(input()))\n",
    "    print(cnt_0, end=' ')\n",
    "    print(cnt_1)"
   ]
  },
  {
   "cell_type": "markdown",
   "metadata": {},
   "source": [
    "피보나치 수열을 구하는 효율적인 방법 중 하나는 행렬 지수를 이용하는 방법입니다. 이 방법은 피보나치 수열의 점화식을 행렬 곱셈을 통해 계산하는 원리를 사용합니다. 이를 통해 피보나치 수를 O(log n) 시간 복잡도로 계산할 수 있습니다.\n",
    "\n",
    "피보나치 수열의 점화식은 다음과 같습니다:\n",
    "[ F(n) = F(n-1) + F(n-2) ]\n",
    "\n",
    "이를 행렬 형태로 나타내면 다음과 같이 표현할 수 있습니다:\n",
    "$$ \\begin{pmatrix} F(n) \\\\ F(n-1) \\end{pmatrix} = \\begin{pmatrix} 1 & 1 \\\\ 1 & 0 \\end{pmatrix} \\begin{pmatrix} F(n-1) \\\\ F(n-2) \\end{pmatrix} $$\n",
    "\n",
    "이를 일반화하면:\n",
    "$$[ \\begin{pmatrix} F(n) \\\\ F(n-1) \\end{pmatrix} = \\begin{pmatrix} 1 & 1 \\\\ 1 & 0 \\end{pmatrix}^{n-1} \\begin{pmatrix} F(1) \\\\ F(0) \\end{pmatrix} ]$$\n",
    "\n",
    "초기 조건으로 ( F(1) = 1 )과 ( F(0) = 0 )을 사용하면:\n",
    "$$[ \\begin{pmatrix} F(n) \\\\ F(n-1) \\end{pmatrix} = \\begin{pmatrix} 1 & 1 \\\\ 1 & 0 \\end{pmatrix}^{n-1} \\begin{pmatrix} 1 \\\\ 0 \\end{pmatrix} ]$$\n",
    "\n",
    "따라서 피보나치 수 ( F(n) )는 다음과 같이 계산할 수 있습니다:\n",
    "$$[ F(n) = \\left( \\begin{pmatrix} 1 & 1 \\\\ 1 & 0 \\end{pmatrix}^{n-1} \\begin{pmatrix} 1 \\\\ 0 \\end{pmatrix} \\right)_1 ]$$\n",
    "\n",
    "여기서 $$( \\left( \\begin{pmatrix} a & b \\\\ c & d \\end{pmatrix} \\begin{pmatrix} x \\\\ y \\end{pmatrix} \\right)_1 )$$는 결과 행렬의 첫 번째 원소를 의미합니다.\n",
    "\n",
    "행렬의 거듭제곱을 효율적으로 계산하기 위해 분할 정복 알고리즘을 사용할 수 있습니다. 이를 통해 O(log n) 시간 복잡도로 행렬의 거듭제곱을 계산할 수 있습니다."
   ]
  },
  {
   "cell_type": "markdown",
   "metadata": {},
   "source": [
    "$$\n",
    "\\begin{pmatrix} \n",
    "F(n) \\\\ \n",
    "F(n-1) \n",
    "\\end{pmatrix} \n",
    "= \n",
    "\\begin{pmatrix} \n",
    "1 & 1 \\\\ \n",
    "1 & 0 \n",
    "\\end{pmatrix} \n",
    "\\begin{pmatrix} \n",
    "F(n-1) \\\\ \n",
    "F(n-2) \n",
    "\\end{pmatrix} \n",
    "$$\n"
   ]
  },
  {
   "cell_type": "code",
   "execution_count": 11,
   "metadata": {},
   "outputs": [
    {
     "name": "stdout",
     "output_type": "stream",
     "text": [
      "10번째 피보나치 수: 55\n"
     ]
    }
   ],
   "source": [
    "def matrix_mult(A, B):\n",
    "    # 행렬 A와 B의 곱셈\n",
    "    return [[A[0][0] * B[0][0] + A[0][1] * B[1][0], A[0][0] * B[0][1] + A[0][1] * B[1][1]],\n",
    "            [A[1][0] * B[0][0] + A[1][1] * B[1][0], A[1][0] * B[0][1] + A[1][1] * B[1][1]]]\n",
    "\n",
    "def matrix_pow(matrix, n):\n",
    "    # 행렬의 거듭제곱 계산\n",
    "    result = [[1, 0], [0, 1]]  # 단위 행렬\n",
    "    base = matrix\n",
    "    \n",
    "    while n > 0:\n",
    "        if n % 2 == 1:\n",
    "            result = matrix_mult(result, base) # 간단하게 n = 2, 3, 5, 7인 경우 생각해보자\n",
    "        base = matrix_mult(base, base)\n",
    "        n //= 2\n",
    "    \n",
    "    return result\n",
    "\n",
    "def fib_matrix(n):\n",
    "    if n == 0:\n",
    "        return 0\n",
    "    elif n == 1:\n",
    "        return 1\n",
    "    \n",
    "    F = [[1, 1], [1, 0]]\n",
    "    result = matrix_pow(F, n-1)\n",
    "    \n",
    "    return result[0][0]\n",
    "\n",
    "# 예제 사용\n",
    "n = 10\n",
    "print(f\"{n}번째 피보나치 수: {fib_matrix(n)}\")"
   ]
  },
  {
   "cell_type": "markdown",
   "metadata": {},
   "source": [
    "$a^n = a \\cdot a^{n-1} $"
   ]
  },
  {
   "cell_type": "code",
   "execution_count": 8,
   "metadata": {},
   "outputs": [
    {
     "name": "stdout",
     "output_type": "stream",
     "text": [
      "4\n",
      "base: [[2, 1], [1, 1]]\n",
      "result: [[1, 1], [1, 0]]\n",
      "\n",
      "2\n",
      "base: [[5, 3], [3, 2]]\n",
      "result: [[1, 1], [1, 0]]\n",
      "\n",
      "1\n",
      "base: [[34, 21], [21, 13]]\n",
      "result: [[1, 1], [1, 0]]\n",
      "\n",
      "0\n",
      "base: [[1597, 987], [987, 610]]\n",
      "result: [[55, 34], [34, 21]]\n",
      "\n",
      "[[55, 34], [34, 21]]\n",
      "================\n",
      "4\n",
      "base: [[2, 1], [1, 1]]\n",
      "result: [[1, 0], [0, 1]]\n",
      "\n",
      "2\n",
      "base: [[5, 3], [3, 2]]\n",
      "result: [[1, 0], [0, 1]]\n",
      "\n",
      "1\n",
      "base: [[34, 21], [21, 13]]\n",
      "result: [[1, 0], [0, 1]]\n",
      "\n",
      "0\n",
      "base: [[1597, 987], [987, 610]]\n",
      "result: [[34, 21], [21, 13]]\n",
      "\n",
      "[[34, 21], [21, 13]]\n"
     ]
    }
   ],
   "source": [
    "def matrix_pow_check(matrix, n):\n",
    "    # 행렬의 거듭제곱 계산\n",
    "    result = [[1, 0], [0, 1]]  # 단위 행렬\n",
    "    base = matrix\n",
    "    \n",
    "    while n > 0:\n",
    "        if n % 2 == 1:\n",
    "            result = matrix_mult(result, base)\n",
    "        base = matrix_mult(base, base)\n",
    "        n //= 2\n",
    "        print(n)\n",
    "        print(f'base: {base}')\n",
    "        print(f'result: {result}')\n",
    "        print()\n",
    "    return result\n",
    "\n",
    "print(matrix_pow_check([[1, 1], [1, 0]], 9))\n",
    "print(\"================\")\n",
    "print(matrix_pow_check([[1, 1], [1, 0]], 8))"
   ]
  },
  {
   "cell_type": "code",
   "execution_count": 1,
   "metadata": {},
   "outputs": [
    {
     "name": "stdout",
     "output_type": "stream",
     "text": [
      "1 0\n",
      "0 1\n",
      "1 2\n",
      "5 8\n",
      "10946 17711\n",
      "34 55\n"
     ]
    }
   ],
   "source": [
    "# 일단 답자체는 f(n-1) f(n)하면 되니 쉽게 이해했던 메모레이션 방식\n",
    "import sys\n",
    "\n",
    "def fib(n):\n",
    "    fibList=[1, 1]\n",
    "    if n == 0:\n",
    "        return 0\n",
    "    elif n==1 or n==2:\n",
    "        return 1\n",
    "    for i in range(2,n):\n",
    "        fibList.append( fibList[i-1] + fibList[i-2] )\n",
    "        num=fibList[-1]\n",
    "    return num\n",
    "\n",
    "# input = sys.stdin.readline\n",
    "input = open(\"input.txt\", \"rt\").readline\n",
    "T = int(input())\n",
    "for _  in range(T):\n",
    "    N = int(input())\n",
    "    if N == 0:\n",
    "        print(1, end=' ')\n",
    "        print(0)\n",
    "    # cnt_0 = cnt_1 = 0\n",
    "    else:\n",
    "        print(fib(N - 1), end=' ')\n",
    "        print(fib(N))"
   ]
  },
  {
   "cell_type": "code",
   "execution_count": 1,
   "metadata": {},
   "outputs": [
    {
     "name": "stdout",
     "output_type": "stream",
     "text": [
      "1 0\n",
      "0 1\n",
      "1 2\n",
      "5 8\n",
      "10946 17711\n",
      "34 55\n"
     ]
    }
   ],
   "source": [
    "# 행렬 지수 이용한 방식\n",
    "import sys\n",
    "\n",
    "def multiply(a, b, x, y):\n",
    "    return x*(a+b) + a*y, a*x + b*y\n",
    "\n",
    "def square(a, b):\n",
    "    a2 = a * a\n",
    "    b2 = b * b\n",
    "    ab = a * b\n",
    "    return a2 + (ab << 1), a2 + b2\n",
    "\n",
    "def power(a, b, m):\n",
    "    if m == 0:\n",
    "        return (0, 1)\n",
    "    elif m == 1:\n",
    "        return (a, b)\n",
    "    else:\n",
    "        x, y = a, b\n",
    "        n = 2\n",
    "        while n <= m:\n",
    "            # repeated square until n = 2^q > m\n",
    "            x, y = square(x, y)\n",
    "            n = n*2\n",
    "        # add on the remainder\n",
    "        a, b = power(a, b, m-n//2)\n",
    "        return multiply(x, y, a, b)\n",
    "\n",
    "def implicit_fib(n):\n",
    "    a, b = power(1, 0, n)\n",
    "    return a\n",
    "\n",
    "# input = sys.stdin.readline\n",
    "input = open(\"input.txt\", \"rt\").readline\n",
    "T = int(input())\n",
    "for _  in range(T):\n",
    "    N = int(input())\n",
    "    if N == 0:\n",
    "        print(1, end=' ')\n",
    "        print(0)\n",
    "    # cnt_0 = cnt_1 = 0\n",
    "    else:\n",
    "        print(implicit_fib(N - 1), end=' ')\n",
    "        print(implicit_fib(N))"
   ]
  },
  {
   "cell_type": "code",
   "execution_count": 3,
   "metadata": {},
   "outputs": [
    {
     "name": "stdout",
     "output_type": "stream",
     "text": [
      "(2, 1)\n"
     ]
    },
    {
     "data": {
      "text/plain": [
       "2"
      ]
     },
     "execution_count": 3,
     "metadata": {},
     "output_type": "execute_result"
    }
   ],
   "source": [
    "x = 3\n",
    "print(power(1, 0, x))\n",
    "implicit_fib(x)"
   ]
  },
  {
   "cell_type": "code",
   "execution_count": null,
   "metadata": {},
   "outputs": [],
   "source": [
    "# 1등 코드\n",
    "from sys import stdin\n",
    "input = stdin.readline\n",
    "\n",
    "t = int(input())\n",
    "arr = [0] * 41\n",
    "arr[0] = [1, 0]; arr[1] = [0, 1]\n",
    "for i in range(2, 41):\n",
    "    arr[i] = [arr[i-1][1],sum(arr[i-1])]\n",
    "for i in range(t):\n",
    "    N = int(input())\n",
    "    print(*arr[N])"
   ]
  },
  {
   "cell_type": "markdown",
   "metadata": {},
   "source": [
    "$$[\n",
    "\\begin{pmatrix}\n",
    "a & b \\\\\n",
    "b & a\n",
    "\\end{pmatrix}\n",
    "]\n",
    "[\n",
    "\\begin{pmatrix}\n",
    "x & y \\\\\n",
    "y & x\n",
    "\\end{pmatrix}\n",
    "]$$\n",
    "\n",
    "행렬 곱셈의 결과는 다음과 같습니다:\n",
    "\n",
    "$$[ \\begin{pmatrix} a & b \\\\ b & a \\end{pmatrix} \\begin{pmatrix} x & y \\\\ y & x \\end{pmatrix}$$\n",
    "$$\\begin{pmatrix}\n",
    "ax + by & ay + bx \\\\\n",
    "bx + ay & by + ax\n",
    "\\end{pmatrix}\n",
    "]$$"
   ]
  }
 ],
 "metadata": {
  "kernelspec": {
   "display_name": "Python 3",
   "language": "python",
   "name": "python3"
  },
  "language_info": {
   "codemirror_mode": {
    "name": "ipython",
    "version": 3
   },
   "file_extension": ".py",
   "mimetype": "text/x-python",
   "name": "python",
   "nbconvert_exporter": "python",
   "pygments_lexer": "ipython3",
   "version": "3.8.6"
  }
 },
 "nbformat": 4,
 "nbformat_minor": 2
}
