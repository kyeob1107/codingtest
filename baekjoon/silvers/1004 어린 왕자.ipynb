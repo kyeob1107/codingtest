{
 "cells": [
  {
   "cell_type": "markdown",
   "metadata": {},
   "source": [
    "https://www.acmicpc.net/problem/1004"
   ]
  },
  {
   "cell_type": "markdown",
   "metadata": {},
   "source": [
    "5\n",
    "-5 1 12 1\n",
    "7\n",
    "1 1 8\n",
    "-3 -1 1\n",
    "2 2 2\n",
    "5 5 1\n",
    "-4 5 1\n",
    "12 1 1\n",
    "12 1 2\n",
    "-5 1 5 1\n",
    "1\n",
    "0 0 2\n",
    "-5 1 5 1\n",
    "3\n",
    "0 0 2\n",
    "-6 1 2\n",
    "6 2 2\n",
    "2 3 13 2\n",
    "8\n",
    "-3 -1 1\n",
    "2 2 3\n",
    "2 3 1\n",
    "0 1 7\n",
    "-4 5 1\n",
    "12 1 1\n",
    "12 1 2\n",
    "12 1 3\n",
    "102 16 19 -108\n",
    "12\n",
    "-107 175 135\n",
    "-38 -115 42\n",
    "140 23 70\n",
    "148 -2 39\n",
    "-198 -49 89\n",
    "172 -151 39\n",
    "-179 -52 43\n",
    "148 42 150\n",
    "176 0 10\n",
    "153 68 120\n",
    "-56 109 16\n",
    "-187 -174 8"
   ]
  },
  {
   "cell_type": "code",
   "execution_count": 1,
   "metadata": {},
   "outputs": [
    {
     "name": "stdout",
     "output_type": "stream",
     "text": [
      "3\n",
      "0\n",
      "2\n",
      "5\n",
      "3\n"
     ]
    }
   ],
   "source": [
    "# 1차 제출 조건 직관적으로\n",
    "import sys\n",
    "\n",
    "def cnt_entry_exit(x1, y1, x2, y2, n):\n",
    "    cnt = 0\n",
    "    for _ in range(n):\n",
    "        cx, cy, r = map(int, input().split())\n",
    "        \n",
    "        if (x1 - cx)**2 + (y1 -cy)**2 < r**2 and (x2 - cx)**2 + (y2 -cy)**2 > r**2:\n",
    "            cnt += 1\n",
    "        elif (x1 - cx)**2 + (y1 -cy)**2 > r**2 and (x2 - cx)**2 + (y2 -cy)**2 < r**2:\n",
    "            cnt += 1\n",
    "        \n",
    "    return cnt\n",
    "\n",
    "# input = sys.stdin.readline\n",
    "input = open(\"input.txt\", \"rt\").readline\n",
    "T = int(input())\n",
    "results = []\n",
    "for _ in range(T):\n",
    "    x1, y1, x2, y2 = map(int, input().split())\n",
    "    N = int(input())\n",
    "    results.append(cnt_entry_exit(x1, y1, x2, y2, N))\n",
    "\n",
    "for result in results:\n",
    "    print(result)"
   ]
  },
  {
   "cell_type": "code",
   "execution_count": 1,
   "metadata": {},
   "outputs": [
    {
     "name": "stdout",
     "output_type": "stream",
     "text": [
      "3\n",
      "0\n",
      "2\n",
      "5\n",
      "3\n"
     ]
    }
   ],
   "source": [
    "# 조건 1등 것 보고 더올라서 살짝 수정\n",
    "import sys\n",
    "\n",
    "def cnt_entry_exit(x1, y1, x2, y2, n):\n",
    "    cnt = 0\n",
    "    for _ in range(n):\n",
    "        cx, cy, r = map(int, input().split())\n",
    "        \n",
    "        if ((x1 - cx)**2 + (y1 -cy)**2 - r**2) * ((x2 - cx)**2 + (y2 -cy)**2 - r**2) < 0:\n",
    "            cnt += 1\n",
    "        \n",
    "    return cnt\n",
    "\n",
    "# input = sys.stdin.readline\n",
    "input = open(\"input.txt\", \"rt\").readline\n",
    "T = int(input())\n",
    "results = []\n",
    "for _ in range(T):\n",
    "    x1, y1, x2, y2 = map(int, input().split())\n",
    "    N = int(input())\n",
    "    results.append(cnt_entry_exit(x1, y1, x2, y2, N))\n",
    "\n",
    "for result in results:\n",
    "    print(result)"
   ]
  },
  {
   "cell_type": "code",
   "execution_count": null,
   "metadata": {},
   "outputs": [],
   "source": [
    "# 함수 선언하는게 용량 얼마나 차이나나 확인\n",
    "import sys\n",
    "\n",
    "# input = sys.stdin.readline\n",
    "input = open(\"input.txt\", \"rt\").readline\n",
    "\n",
    "T = int(input())\n",
    "results = []\n",
    "for _ in range(T):\n",
    "    x1, y1, x2, y2 = map(int, input().split())\n",
    "    N = int(input())\n",
    "    cnt = 0\n",
    "    for _ in range(N):\n",
    "        cx, cy, r = map(int, input().split())\n",
    "        \n",
    "        if ((x1 - cx)**2 + (y1 -cy)**2 - r**2) * ((x2 - cx)**2 + (y2 -cy)**2 - r**2) < 0:\n",
    "            cnt += 1\n",
    "    results.append(cnt)\n",
    "           \n",
    "for result in results:\n",
    "    print(result)"
   ]
  },
  {
   "cell_type": "code",
   "execution_count": 3,
   "metadata": {},
   "outputs": [
    {
     "name": "stdout",
     "output_type": "stream",
     "text": [
      "3\n",
      "0\n",
      "2\n",
      "5\n",
      "3\n"
     ]
    }
   ],
   "source": [
    "# 함수 선언하는게 용량 얼마나 차이나나 확인\n",
    "import sys\n",
    "\n",
    "# input = sys.stdin.readline\n",
    "input = open(\"input.txt\", \"rt\").readline\n",
    "T = int(input())\n",
    "ans = []\n",
    "for _ in range(T):\n",
    "    x1, y1, x2, y2 = map(int, input().split())\n",
    "    N = int(input())\n",
    "    cnt = 0\n",
    "    for _ in range(N):\n",
    "        cx, cy, r = map(int, input().split())\n",
    "        \n",
    "        if ((x1 - cx)**2 + (y1 -cy)**2 - r**2) * ((x2 - cx)**2 + (y2 -cy)**2 - r**2) < 0:\n",
    "            cnt += 1\n",
    "    ans.append(cnt)\n",
    "           \n",
    "for a in ans:\n",
    "    print(a)"
   ]
  },
  {
   "cell_type": "code",
   "execution_count": null,
   "metadata": {},
   "outputs": [],
   "source": [
    "# 1등 코드\n",
    "import sys\n",
    "input = sys.stdin.readline\n",
    "\n",
    "N = int(input())\n",
    "ans = []\n",
    "for _ in range(N):\n",
    "    x1, y1, x2, y2 = map(int, input().split())\n",
    "    n = int(input())\n",
    "    cnt = 0\n",
    "    for _ in range(n):\n",
    "        cx, cy, r = map(int, input().split())\n",
    "        if (((cx - x1)**2 + (cy - y1)**2 - r**2) * ((cx - x2)**2 + (cy - y2)**2 - r**2)) < 0:\n",
    "            cnt += 1\n",
    "    ans.append(cnt)\n",
    "\n",
    "for i in ans:\n",
    "    print(i)"
   ]
  }
 ],
 "metadata": {
  "kernelspec": {
   "display_name": "Python 3",
   "language": "python",
   "name": "python3"
  },
  "language_info": {
   "codemirror_mode": {
    "name": "ipython",
    "version": 3
   },
   "file_extension": ".py",
   "mimetype": "text/x-python",
   "name": "python",
   "nbconvert_exporter": "python",
   "pygments_lexer": "ipython3",
   "version": "3.8.6"
  }
 },
 "nbformat": 4,
 "nbformat_minor": 2
}
