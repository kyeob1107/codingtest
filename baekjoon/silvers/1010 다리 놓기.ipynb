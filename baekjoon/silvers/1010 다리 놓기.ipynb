{
 "cells": [
  {
   "cell_type": "markdown",
   "metadata": {},
   "source": [
    "https://www.acmicpc.net/problem/1010"
   ]
  },
  {
   "cell_type": "markdown",
   "metadata": {},
   "source": [
    "3\n",
    "2 2\n",
    "1 5\n",
    "13 29"
   ]
  },
  {
   "cell_type": "code",
   "execution_count": 7,
   "metadata": {},
   "outputs": [
    {
     "name": "stdout",
     "output_type": "stream",
     "text": [
      "1\n",
      "5\n",
      "67863915\n"
     ]
    }
   ],
   "source": [
    "# math의 factorial이용\n",
    "import sys\n",
    "import math\n",
    "# input = sys.stdin.readline\n",
    "input = open(\"input.txt\", \"rt\").readline\n",
    "\n",
    "T = int(input())\n",
    "ans = []\n",
    "for _ in range(T):\n",
    "    a, b = map(int, input().split())\n",
    "    ans.append(math.factorial(b)//(math.factorial(b-a)*math.factorial(a)))\n",
    "for a in ans:\n",
    "    print(a)\n"
   ]
  },
  {
   "cell_type": "code",
   "execution_count": 8,
   "metadata": {},
   "outputs": [
    {
     "name": "stdout",
     "output_type": "stream",
     "text": [
      "1\n",
      "5\n",
      "67863915\n"
     ]
    }
   ],
   "source": [
    "# math의 comb이용\n",
    "import sys\n",
    "import math\n",
    "# input = sys.stdin.readline\n",
    "input = open(\"input.txt\", \"rt\").readline\n",
    "\n",
    "T = int(input())\n",
    "ans = []\n",
    "for _ in range(T):\n",
    "    a, b = map(int, input().split())\n",
    "    ans.append(math.comb(b, a))\n",
    "for a in ans:\n",
    "    print(a)"
   ]
  },
  {
   "cell_type": "code",
   "execution_count": 1,
   "metadata": {},
   "outputs": [
    {
     "name": "stdout",
     "output_type": "stream",
     "text": [
      "1\n",
      "5\n",
      "67863915\n"
     ]
    }
   ],
   "source": [
    "# 2등코드 인용 직접 계산 방식\n",
    "import sys\n",
    "# input = sys.stdin.readline\n",
    "input = open(\"input.txt\", \"rt\").readline\n",
    "\n",
    "T = int(input())\n",
    "for i in range(T):\n",
    "    N, M = map(int,input().split())\n",
    "    if M - N < N:\n",
    "        N = M - N\n",
    "    a = 1\n",
    "    b = 1\n",
    "    for i in range(M, M-N,-1):\n",
    "        a *= i\n",
    "    \n",
    "    for j in range(N,1,-1):\n",
    "        b *= j\n",
    "    print(int(a/b))"
   ]
  },
  {
   "cell_type": "code",
   "execution_count": 1,
   "metadata": {},
   "outputs": [],
   "source": [
    "# 2등 코드\n",
    "import sys\n",
    "input = sys.stdin.readline\n",
    "\n",
    "T = int(input())\n",
    "for i in range(T):\n",
    "    N, M = map(int,input().split())\n",
    "    a = 1\n",
    "    b = 1\n",
    "    for i in range(M, M-N,-1):\n",
    "        a *= i\n",
    "    \n",
    "    for j in range(N,1,-1):\n",
    "        b *= j\n",
    "    print(int(a/b))"
   ]
  }
 ],
 "metadata": {
  "kernelspec": {
   "display_name": "Python 3",
   "language": "python",
   "name": "python3"
  },
  "language_info": {
   "codemirror_mode": {
    "name": "ipython",
    "version": 3
   },
   "file_extension": ".py",
   "mimetype": "text/x-python",
   "name": "python",
   "nbconvert_exporter": "python",
   "pygments_lexer": "ipython3",
   "version": "3.8.6"
  }
 },
 "nbformat": 4,
 "nbformat_minor": 2
}
