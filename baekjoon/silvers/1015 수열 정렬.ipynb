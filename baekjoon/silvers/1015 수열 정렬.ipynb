{
 "cells": [
  {
   "cell_type": "markdown",
   "metadata": {},
   "source": [
    "https://www.acmicpc.net/problem/1015"
   ]
  },
  {
   "cell_type": "markdown",
   "metadata": {},
   "source": [
    "# input\n"
   ]
  },
  {
   "cell_type": "markdown",
   "metadata": {},
   "source": [
    "3\n",
    "2 3 1"
   ]
  },
  {
   "cell_type": "markdown",
   "metadata": {},
   "source": [
    "4\n",
    "2 1 3 1"
   ]
  },
  {
   "cell_type": "markdown",
   "metadata": {},
   "source": [
    "8\n",
    "4 1 6 1 3 6 1 4"
   ]
  },
  {
   "cell_type": "markdown",
   "metadata": {},
   "source": [
    "9\n",
    "1 800 20 15 20 1 3 10 10"
   ]
  },
  {
   "cell_type": "markdown",
   "metadata": {},
   "source": [
    "5\n",
    "1 0 1 0 1"
   ]
  },
  {
   "cell_type": "markdown",
   "metadata": {},
   "source": [
    "5\n",
    "4 3 3 2 5"
   ]
  },
  {
   "cell_type": "markdown",
   "metadata": {},
   "source": [
    "### 굳이...?"
   ]
  },
  {
   "cell_type": "markdown",
   "metadata": {},
   "source": [
    "50\n",
    "302 251 425 720 122 441 752 229 918 44 927 728 372 82 410 46 641 499 700 929 509 901 577 770 130 643 338 571 742 78 327 64 925 147 622 197 686 474 254 877 896 623 753 583 946 740 479 498 826 724"
   ]
  },
  {
   "cell_type": "markdown",
   "metadata": {},
   "source": [
    "50\n",
    "794 615 121 609 849 831 791 871 821 418 626 66 420 418 497 48 70 294 677 257 963 466 223 944 699 478 521 223 820 813 347 944 918 194 387 463 835 820 180 502 482 338 58 258 629 136 203 585 87 518"
   ]
  },
  {
   "cell_type": "markdown",
   "metadata": {},
   "source": [
    "50\n",
    "410 759 188 489 970 532 357 464 38 774 17 444 476 234 189 219 785 626 699 465 619 492 397 705 73 481 586 808 338 245 126 712 998 551 603 875 777 925 311 703 894 744 956 7 410 337 311 363 559 679"
   ]
  },
  {
   "cell_type": "markdown",
   "metadata": {},
   "source": [
    "50\n",
    "164 857 670 939 431 602 667 530 357 882 529 410 918 723 936 188 822 117 957 290 348 945 89 50 875 169 436 340 111 709 861 161 94 750 802 935 177 69 370 606 637 398 173 500 367 732 639 199 933 986"
   ]
  },
  {
   "cell_type": "markdown",
   "metadata": {},
   "source": [
    "50\n",
    "857 541 989 560 466 974 778 53 493 696 261 329 698 507 198 906 369 604 454 221 390 765 985 312 552 774 461 951 193 996 739 218 432 831 811 377 40 678 178 383 977 81 421 28 950 211 990 778 36 62"
   ]
  },
  {
   "cell_type": "markdown",
   "metadata": {},
   "source": [
    "# answer"
   ]
  },
  {
   "cell_type": "markdown",
   "metadata": {},
   "source": [
    "1 2 0\n",
    "2 0 3 1\n",
    "4 0 6 1 3 7 2 5\n",
    "0 8 6 5 7 1 2 3 4\n",
    "2 0 3 1 4\n",
    "12 10 17 33 5 18 38 9 45 0 47 35 15 4 16 1 29 22 32 48 23 44 25 40 6 30 14 24 37 3 13 2 46 7 27 8 31 19 11 42 43 28 39 26 49 36 20 21 41 34\n",
    "37 31 5 30 44 42 36 45 41 18 32 2 20 19 25 0 3 14 34 12 49 22 10 47 35 23 28 11 39 38 16 48 46 8 17 21 43 40 7 26 24 15 1 13 33 6 9 29 4 27\n",
    "17 39 5 24 48 26 14 20 2 40 1 19 22 8 6 7 42 32 34 21 31 25 16 36 3 23 29 43 13 9 4 37 49 27 30 44 41 46 10 35 45 38 47 0 18 12 11 15 28 33\n",
    "7 38 31 46 21 26 30 25 16 41 24 20 42 33 45 11 37 5 48 13 15 47 2 0 40 8 22 14 4 32 39 6 3 35 36 44 10 1 18 27 28 19 9 23 17 34 29 12 43 49\n",
    "40 26 47 28 23 44 36 3 24 31 12 14 32 25 8 41 15 29 21 11 18 34 46 13 27 35 22 43 7 49 33 10 20 39 38 16 2 30 6 17 45 5 19 0 42 9 48 37 1 4"
   ]
  },
  {
   "cell_type": "markdown",
   "metadata": {},
   "source": [
    "# 코드"
   ]
  },
  {
   "cell_type": "code",
   "execution_count": 1,
   "metadata": {},
   "outputs": [
    {
     "name": "stdout",
     "output_type": "stream",
     "text": [
      "3 1 2 0 4\n"
     ]
    }
   ],
   "source": [
    "import sys\n",
    "# input = sys.stdin.readline\n",
    "input = open(\"input.txt\", \"rt\").readline\n",
    "\n",
    "N = int(input())\n",
    "before = dict()\n",
    "sequence = [0]*N\n",
    "\n",
    "for i, num in enumerate(map(int, input().split())):\n",
    "    if num not in before:\n",
    "        before[num] = [i]\n",
    "    else:\n",
    "        before[num].append(i)\n",
    "\n",
    "value = 0\n",
    "for num in sorted(before):\n",
    "    for index in before[num]:\n",
    "        sequence[index] = value\n",
    "        value += 1\n",
    "print(*sequence)"
   ]
  },
  {
   "cell_type": "code",
   "execution_count": 10,
   "metadata": {},
   "outputs": [
    {
     "name": "stdout",
     "output_type": "stream",
     "text": [
      "[4, 3, 3, 2, 5]\n",
      "[2, 3, 3, 4, 5]\n",
      "ans  [3]\n",
      "b  [2, 3, 3, 4, 5]\n",
      "ans  [3, 1]\n",
      "b  [2, 3, 3, 4, 5]\n",
      "ans  [3, 1, 1]\n",
      "b  [2, 3, 3, 4, 5]\n",
      "ans  [3, 1, 1, 0]\n",
      "b  [2, 3, 3, 4, 5]\n",
      "ans  [3, 1, 1, 0, 4]\n",
      "b  [2, 3, 3, 4, 5]\n",
      "3 1 1 0 4\n"
     ]
    }
   ],
   "source": [
    "# 1등 코드\n",
    "input = open(\"input.txt\", \"rt\").readline\n",
    "N=int(input())\n",
    "a=list(map(int,input().split()))\n",
    "b=sorted(a)\n",
    "ans=[]\n",
    "\n",
    "for i in range (N):\n",
    "    ans.append(b.index(a[i]))\n",
    "    b[ans[-1]]=0 # 중복 구별 처리용\n",
    "\n",
    "print(*ans)"
   ]
  }
 ],
 "metadata": {
  "kernelspec": {
   "display_name": "Python 3",
   "language": "python",
   "name": "python3"
  },
  "language_info": {
   "codemirror_mode": {
    "name": "ipython",
    "version": 3
   },
   "file_extension": ".py",
   "mimetype": "text/x-python",
   "name": "python",
   "nbconvert_exporter": "python",
   "pygments_lexer": "ipython3",
   "version": "3.8.6"
  }
 },
 "nbformat": 4,
 "nbformat_minor": 2
}
