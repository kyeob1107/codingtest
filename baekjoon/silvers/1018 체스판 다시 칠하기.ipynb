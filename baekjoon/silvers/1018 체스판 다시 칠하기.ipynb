{
 "cells": [
  {
   "cell_type": "markdown",
   "metadata": {},
   "source": [
    "https://www.acmicpc.net/problem/1018"
   ]
  },
  {
   "cell_type": "markdown",
   "metadata": {},
   "source": [
    "# tc"
   ]
  },
  {
   "cell_type": "markdown",
   "metadata": {},
   "source": [
    "8 8\n",
    "WBWBWBWB\n",
    "BWBWBWBW\n",
    "WBWBWBWB\n",
    "BWBBBWBW\n",
    "WBWBWBWB\n",
    "BWBWBWBW\n",
    "WBWBWBWB\n",
    "BWBWBWBW"
   ]
  },
  {
   "cell_type": "markdown",
   "metadata": {},
   "source": [
    "10 13\n",
    "BBBBBBBBWBWBW\n",
    "BBBBBBBBBWBWB\n",
    "BBBBBBBBWBWBW\n",
    "BBBBBBBBBWBWB\n",
    "BBBBBBBBWBWBW\n",
    "BBBBBBBBBWBWB\n",
    "BBBBBBBBWBWBW\n",
    "BBBBBBBBBWBWB\n",
    "WWWWWWWWWWBWB\n",
    "WWWWWWWWWWBWB"
   ]
  },
  {
   "cell_type": "markdown",
   "metadata": {},
   "source": [
    "8 8\n",
    "BWBWBWBW\n",
    "WBWBWBWB\n",
    "BWBWBWBW\n",
    "WBWBWBWB\n",
    "BWBWBWBW\n",
    "WBWBWBWB\n",
    "BWBWBWBW\n",
    "WBWBWBWB"
   ]
  },
  {
   "cell_type": "markdown",
   "metadata": {},
   "source": [
    "9 23\n",
    "BBBBBBBBBBBBBBBBBBBBBBB\n",
    "BBBBBBBBBBBBBBBBBBBBBBB\n",
    "BBBBBBBBBBBBBBBBBBBBBBB\n",
    "BBBBBBBBBBBBBBBBBBBBBBB\n",
    "BBBBBBBBBBBBBBBBBBBBBBB\n",
    "BBBBBBBBBBBBBBBBBBBBBBB\n",
    "BBBBBBBBBBBBBBBBBBBBBBB\n",
    "BBBBBBBBBBBBBBBBBBBBBBB\n",
    "BBBBBBBBBBBBBBBBBBBBBBW"
   ]
  },
  {
   "cell_type": "markdown",
   "metadata": {},
   "source": [
    "10 10\n",
    "BBBBBBBBBB\n",
    "BBWBWBWBWB\n",
    "BWBWBWBWBB\n",
    "BBWBWBWBWB\n",
    "BWBWBWBWBB\n",
    "BBWBWBWBWB\n",
    "BWBWBWBWBB\n",
    "BBWBWBWBWB\n",
    "BWBWBWBWBB\n",
    "BBBBBBBBBB"
   ]
  },
  {
   "cell_type": "markdown",
   "metadata": {},
   "source": [
    "8 8\n",
    "WBWBWBWB\n",
    "BWBWBWBW\n",
    "WBWBWBWB\n",
    "BWBBBWBW\n",
    "WBWBWBWB\n",
    "BWBWBWBW\n",
    "WBWBWWWB\n",
    "BWBWBWBW"
   ]
  },
  {
   "cell_type": "markdown",
   "metadata": {},
   "source": [
    "11 12\n",
    "BWWBWWBWWBWW\n",
    "BWWBWBBWWBWW\n",
    "WBWWBWBBWWBW\n",
    "BWWBWBBWWBWW\n",
    "WBWWBWBBWWBW\n",
    "BWWBWBBWWBWW\n",
    "WBWWBWBBWWBW\n",
    "BWWBWBWWWBWW\n",
    "WBWWBWBBWWBW\n",
    "BWWBWBBWWBWW\n",
    "WBWWBWBBWWBW"
   ]
  },
  {
   "cell_type": "markdown",
   "metadata": {},
   "source": [
    "# 코드"
   ]
  },
  {
   "cell_type": "code",
   "execution_count": 38,
   "metadata": {},
   "outputs": [
    {
     "name": "stdout",
     "output_type": "stream",
     "text": [
      "d\n",
      "0\n"
     ]
    }
   ],
   "source": [
    "import sys\n",
    "# input = sys.stdin.readline\n",
    "input = open(\"input.txt\", \"rt\").readline\n",
    "N, M = map(int, input().split())\n",
    "\n",
    "case1 = [[False if (i + j) % 2 == 0 else True for j in range(M)] for i in range(N)]\n",
    "case2 = [[True if (i + j) % 2 == 0 else False for j in range(M)] for i in range(N)]\n",
    "\n",
    "check1 = [[0]*M for _ in range(N)]\n",
    "check2 = [[0]*M for _ in range(N)]\n",
    "\n",
    "# 백 False, 흑 True 로\n",
    "board = [[False if s == 'W' else True for s in input().strip()] for _ in range(N)]\n",
    "\n",
    "if board == case1 or board == case2:\n",
    "    print(0)\n",
    "\n",
    "else:\n",
    "    for y in range(N):\n",
    "        for x in range(M):\n",
    "            if board[y][x] == case1[y][x]:\n",
    "                check2[y][x] = 1\n",
    "            else:\n",
    "                check1[y][x] = 1\n",
    "    ans = N * M\n",
    "    for start_pos_y in range(N - 7):\n",
    "        for start_pos_x in range(M - 7):\n",
    "            temp = min(sum(sum(row[start_pos_x:start_pos_x+8]) for row in check1[start_pos_y:start_pos_y+8]), \n",
    "                      sum(sum(row[start_pos_x:start_pos_x+8]) for row in check2[start_pos_y:start_pos_y+8]))\n",
    "            if ans > temp:\n",
    "                ans = temp\n",
    "    print(ans)"
   ]
  },
  {
   "cell_type": "code",
   "execution_count": null,
   "metadata": {},
   "outputs": [],
   "source": [
    "# 뤼튼 보고 개선시켜보라고 한 코드인데 그닥 안끌림\n",
    "import sys\n",
    "input = open(\"input.txt\", \"rt\").readline\n",
    "N, M = map(int, input().split())\n",
    "\n",
    "# 체스판 패턴을 미리 정의\n",
    "def create_chess_pattern(N, M, start_color):\n",
    "    return [[(i + j) % 2 == start_color for j in range(M)] for i in range(N)]\n",
    "\n",
    "case1 = create_chess_pattern(N, M, 0)  # 시작색이 흰색인 체스판\n",
    "case2 = create_chess_pattern(N, M, 1)  # 시작색이 검정색인 체스판\n",
    "\n",
    "board = [[False if s == 'W' else True for s in input().strip()] for _ in range(N)]\n",
    "\n",
    "if board == case1 or board == case2:\n",
    "    print(0)\n",
    "else:\n",
    "    min_changes = float('inf')\n",
    "    for y in range(N - 7):\n",
    "        for x in range(M - 7):\n",
    "            changes_case1 = changes_case2 = 0\n",
    "            for dy in range(8):\n",
    "                for dx in range(8):\n",
    "                    if board[y + dy][x + dx] != case1[dy][dx]:\n",
    "                        changes_case1 += 1\n",
    "                    if board[y + dy][x + dx] != case2[dy][dx]:\n",
    "                        changes_case2 += 1\n",
    "            min_changes = min(min_changes, changes_case1, changes_case2)\n",
    "    print(min_changes)"
   ]
  },
  {
   "cell_type": "code",
   "execution_count": 14,
   "metadata": {},
   "outputs": [
    {
     "name": "stdout",
     "output_type": "stream",
     "text": [
      "31\n"
     ]
    }
   ],
   "source": [
    "# 2등 코드\n",
    "import sys\n",
    "from itertools import accumulate as acc\n",
    "# input = sys.stdin.readline\n",
    "input = open(\"input.txt\", \"rt\").readline\n",
    "n, m = map(int, input().split())\n",
    "y = [[0]*(m+1)]\n",
    "for i in range(n):\n",
    "    ac = [0]\n",
    "    ac.extend(acc([((s=='W')+i+j)%2 for j, s in enumerate(input().strip())]))\n",
    "    y.append([k + j for k, j in zip(ac, y[-1])])\n",
    "\n",
    "res = 32\n",
    "for i in range(n-7):\n",
    "    for j in range(m-7):\n",
    "        u = y[i+8][j+8]-y[i+8][j]-y[i][j+8]+y[i][j]\n",
    "        res = min(res, u, 64-u)\n",
    "print(res)"
   ]
  },
  {
   "cell_type": "code",
   "execution_count": 13,
   "metadata": {},
   "outputs": [
    {
     "name": "stdout",
     "output_type": "stream",
     "text": [
      "[0, 0, 0, 0, 0, 0, 0, 0, 0, 0, 0, 0, 0, 0, 0, 0, 0, 0, 0, 0, 0, 0, 0, 0]\n",
      "[0, 0, 1, 1, 2, 2, 3, 3, 4, 4, 5, 5, 6, 6, 7, 7, 8, 8, 9, 9, 10, 10, 11, 11]\n",
      "[0, 1, 2, 3, 4, 5, 6, 7, 8, 9, 10, 11, 12, 13, 14, 15, 16, 17, 18, 19, 20, 21, 22, 23]\n",
      "[0, 1, 3, 4, 6, 7, 9, 10, 12, 13, 15, 16, 18, 19, 21, 22, 24, 25, 27, 28, 30, 31, 33, 34]\n",
      "[0, 2, 4, 6, 8, 10, 12, 14, 16, 18, 20, 22, 24, 26, 28, 30, 32, 34, 36, 38, 40, 42, 44, 46]\n",
      "[0, 2, 5, 7, 10, 12, 15, 17, 20, 22, 25, 27, 30, 32, 35, 37, 40, 42, 45, 47, 50, 52, 55, 57]\n",
      "[0, 3, 6, 9, 12, 15, 18, 21, 24, 27, 30, 33, 36, 39, 42, 45, 48, 51, 54, 57, 60, 63, 66, 69]\n",
      "[0, 3, 7, 10, 14, 17, 21, 24, 28, 31, 35, 38, 42, 45, 49, 52, 56, 59, 63, 66, 70, 73, 77, 80]\n",
      "[0, 4, 8, 12, 16, 20, 24, 28, 32, 36, 40, 44, 48, 52, 56, 60, 64, 68, 72, 76, 80, 84, 88, 92]\n",
      "[0, 4, 9, 13, 18, 22, 27, 31, 36, 40, 45, 49, 54, 58, 63, 67, 72, 76, 81, 85, 90, 94, 99, 104]\n",
      "============\n",
      "[0, 0, 0, 0, 0, 0, 0, 0, 0, 0, 0, 0, 0, 0, 0, 0, 0, 0, 0, 0, 0, 0, 0, 0]\n",
      "[0, 0, 1, 0, 1, 0, 1, 0, 1, 0, 1, 0, 1, 0, 1, 0, 1, 0, 1, 0, 1, 0, 1, 0]\n",
      "[0, 1, 0, 1, 0, 1, 0, 1, 0, 1, 0, 1, 0, 1, 0, 1, 0, 1, 0, 1, 0, 1, 0, 1]\n",
      "[0, 0, 1, 0, 1, 0, 1, 0, 1, 0, 1, 0, 1, 0, 1, 0, 1, 0, 1, 0, 1, 0, 1, 0]\n",
      "[0, 1, 0, 1, 0, 1, 0, 1, 0, 1, 0, 1, 0, 1, 0, 1, 0, 1, 0, 1, 0, 1, 0, 1]\n",
      "[0, 0, 1, 0, 1, 0, 1, 0, 1, 0, 1, 0, 1, 0, 1, 0, 1, 0, 1, 0, 1, 0, 1, 0]\n",
      "[0, 1, 0, 1, 0, 1, 0, 1, 0, 1, 0, 1, 0, 1, 0, 1, 0, 1, 0, 1, 0, 1, 0, 1]\n",
      "[0, 0, 1, 0, 1, 0, 1, 0, 1, 0, 1, 0, 1, 0, 1, 0, 1, 0, 1, 0, 1, 0, 1, 0]\n",
      "[0, 1, 0, 1, 0, 1, 0, 1, 0, 1, 0, 1, 0, 1, 0, 1, 0, 1, 0, 1, 0, 1, 0, 1]\n",
      "[0, 0, 1, 0, 1, 0, 1, 0, 1, 0, 1, 0, 1, 0, 1, 0, 1, 0, 1, 0, 1, 0, 1, 1]\n",
      "0 0 32 0 0 0 32\n",
      "0 1 36 4 0 0 32\n",
      "0 2 40 8 0 0 32\n",
      "0 3 44 12 0 0 32\n",
      "0 4 48 16 0 0 32\n",
      "0 5 52 20 0 0 32\n",
      "0 6 56 24 0 0 32\n",
      "0 7 60 28 0 0 32\n",
      "0 8 64 32 0 0 32\n",
      "0 9 68 36 0 0 32\n",
      "0 10 72 40 0 0 32\n",
      "0 11 76 44 0 0 32\n",
      "0 12 80 48 0 0 32\n",
      "0 13 84 52 0 0 32\n",
      "0 14 88 56 0 0 32\n",
      "0 15 92 60 0 0 32\n",
      "1 0 36 0 4 0 32\n",
      "1 1 40 4 4 0 32\n",
      "1 2 45 9 5 1 32\n",
      "1 3 49 13 5 1 32\n",
      "1 4 54 18 6 2 32\n",
      "1 5 58 22 6 2 32\n",
      "1 6 63 27 7 3 32\n",
      "1 7 67 31 7 3 32\n",
      "1 8 72 36 8 4 32\n",
      "1 9 76 40 8 4 32\n",
      "1 10 81 45 9 5 32\n",
      "1 11 85 49 9 5 32\n",
      "1 12 90 54 10 6 32\n",
      "1 13 94 58 10 6 32\n",
      "1 14 99 63 11 7 32\n",
      "1 15 104 67 11 7 33\n",
      "31\n"
     ]
    }
   ],
   "source": [
    "# 2등 코드 디버깅 모드\n",
    "import sys\n",
    "from itertools import accumulate as acc\n",
    "# input = sys.stdin.readline\n",
    "input = open(\"input.txt\", \"rt\").readline\n",
    "n, m = map(int, input().split())\n",
    "y = [[0]*(m+1)]\n",
    "debug_y = [[0]*(m+1)]\n",
    "for i in range(n):\n",
    "    read = input().strip()\n",
    "    ac = [0]\n",
    "    debug_ac = [0]\n",
    "    ac.extend(acc([((s=='W')+i+j)%2 for j, s in enumerate(read)]))\n",
    "    debug_ac.extend([((s=='W')+i+j)%2 for j, s in enumerate(read)])\n",
    "    y.append([k + j for k, j in zip(ac, y[-1])])\n",
    "    debug_y.append(debug_ac)\n",
    "    # print(ac,y)\n",
    "\n",
    "for y_i in y:\n",
    "    print(y_i)\n",
    "print(\"============\")\n",
    "for dy_i in debug_y:\n",
    "    print(dy_i)\n",
    "\n",
    "res = 32\n",
    "for i in range(n-7):\n",
    "    for j in range(m-7):\n",
    "        u = y[i+8][j+8]-y[i+8][j]-y[i][j+8]+y[i][j]\n",
    "        print(i, j, y[i+8][j+8], y[i+8][j], y[i][j+8], y[i][j], u)\n",
    "        print()\n",
    "        print(\"-------\")\n",
    "        res = min(res, u, 64-u)\n",
    "print(res)"
   ]
  },
  {
   "cell_type": "code",
   "execution_count": 33,
   "metadata": {},
   "outputs": [
    {
     "name": "stdout",
     "output_type": "stream",
     "text": [
      "[[True, True, True, True, True, True, True, True], [True, True, False, True, False, True, False, True], [True, False, True, False, True, False, True, False], [True, True, False, True, False, True, False, True], [True, False, True, False, True, False, True, False], [True, True, False, True, False, True, False, True], [True, False, True, False, True, False, True, False], [True, True, False, True, False, True, False, True]]\n",
      "일부2\n",
      "0\n"
     ]
    }
   ],
   "source": [
    "import sys\n",
    "# input = sys.stdin.readline\n",
    "input = open(\"input.txt\", \"rt\").readline\n",
    "N, M = map(int, input().split())\n",
    "\n",
    "case1 = [[False if (i + j) % 2 == 0 else True for j in range(M)] for i in range(N)]\n",
    "case2 = [[True if (i + j) % 2 == 0 else False for j in range(M)] for i in range(N)]\n",
    "\n",
    "check1 = [[0]*M for _ in range(N)]\n",
    "check2 = [[0]*M for _ in range(N)]\n",
    "\n",
    "# 백 False, 흑 True 로\n",
    "board = [[False if s == 'W' else True for s in input().strip()] for _ in range(N)]\n",
    "\n",
    "if board == case1 or board == case2:\n",
    "    print(0)\n",
    "\n",
    "elif [r[:8] for r in case1[:8]] in [[r[j:j+8] for r in board[i:i+8]] for j in range(M-7) for i in range(N-7)]:\n",
    "    print(0)\n",
    "    \n",
    "elif [r[:8] for r in case2[:8]] in [[r[j:j+8] for r in board[i:i+8]] for j in range(M-7) for i in range(N-7)]:\n",
    "    print(0)\n",
    "\n",
    "else:\n",
    "    for y in range(N):\n",
    "        for x in range(M):\n",
    "            if board[y][x] == case1[y][x]:\n",
    "                check2[y][x] = 1\n",
    "            else:\n",
    "                check1[y][x] = 1\n",
    "    ans = (8*8)//2\n",
    "    for start_pos_y in range(N - 7):\n",
    "        for start_pos_x in range(M - 7):\n",
    "            temp = min(sum(sum(row[start_pos_x:start_pos_x+8]) for row in check1[start_pos_y:start_pos_y+8]), \n",
    "                      sum(sum(row[start_pos_x:start_pos_x+8]) for row in check2[start_pos_y:start_pos_y+8]))\n",
    "            if ans > temp:\n",
    "                ans = temp\n",
    "    print(ans)\n"
   ]
  },
  {
   "cell_type": "code",
   "execution_count": 17,
   "metadata": {},
   "outputs": [
    {
     "data": {
      "text/plain": [
       "True"
      ]
     },
     "execution_count": 17,
     "metadata": {},
     "output_type": "execute_result"
    }
   ],
   "source": [
    "[1,2,3,4] in [[1,1,1,1], [2,3,5,7], [1,2,3,4]]"
   ]
  },
  {
   "cell_type": "code",
   "execution_count": null,
   "metadata": {},
   "outputs": [],
   "source": [
    "# 뤼튼 작품\n",
    "import sys\n",
    "# input = sys.stdin.readline\n",
    "input = open(\"input.txt\", \"rt\").readline\n",
    "N, M = map(int, input().split())\n",
    "\n",
    "# 패턴 생성 함수\n",
    "def create_pattern(start_color):\n",
    "    return [[(i + j) % 2 == start_color for j in range(8)] for i in range(8)]\n",
    "\n",
    "# 두 가지 패턴 생성\n",
    "pattern1 = create_pattern(0)\n",
    "pattern2 = create_pattern(1)\n",
    "\n",
    "# 보드 입력 받기\n",
    "board = [[False if s == 'W' else True for s in input().strip()] for _ in range(N)]\n",
    "\n",
    "# 최소 수정 횟수 초기화\n",
    "min_changes = float('inf')\n",
    "\n",
    "# 8x8 체스판을 슬라이딩 윈도우로 검사\n",
    "for y in range(N - 7):\n",
    "    for x in range(M - 7):\n",
    "        changes1 = 0\n",
    "        changes2 = 0\n",
    "        for i in range(8):\n",
    "            for j in range(8):\n",
    "                if board[y + i][x + j] != pattern1[i][j]:\n",
    "                    changes1 += 1\n",
    "                if board[y + i][x + j] != pattern2[i][j]:\n",
    "                    changes2 += 1\n",
    "        min_changes = min(min_changes, changes1, changes2)\n",
    "\n",
    "print(min_changes)"
   ]
  }
 ],
 "metadata": {
  "kernelspec": {
   "display_name": "Python 3",
   "language": "python",
   "name": "python3"
  },
  "language_info": {
   "codemirror_mode": {
    "name": "ipython",
    "version": 3
   },
   "file_extension": ".py",
   "mimetype": "text/x-python",
   "name": "python",
   "nbconvert_exporter": "python",
   "pygments_lexer": "ipython3",
   "version": "3.8.6"
  }
 },
 "nbformat": 4,
 "nbformat_minor": 2
}
