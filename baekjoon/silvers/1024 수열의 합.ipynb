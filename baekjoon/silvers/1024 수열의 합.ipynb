{
 "cells": [
  {
   "cell_type": "markdown",
   "metadata": {},
   "source": [
    "https://acmicpc.net/problem/1024"
   ]
  },
  {
   "cell_type": "markdown",
   "metadata": {},
   "source": [
    "# tc"
   ]
  },
  {
   "cell_type": "markdown",
   "metadata": {},
   "source": [
    "18 2"
   ]
  },
  {
   "cell_type": "markdown",
   "metadata": {},
   "source": [
    "18 4"
   ]
  },
  {
   "cell_type": "markdown",
   "metadata": {},
   "source": [
    "18 5"
   ]
  },
  {
   "cell_type": "markdown",
   "metadata": {},
   "source": [
    "45 10"
   ]
  },
  {
   "cell_type": "markdown",
   "metadata": {},
   "source": [
    "1000000000 2"
   ]
  },
  {
   "cell_type": "markdown",
   "metadata": {},
   "source": [
    "# 코드"
   ]
  },
  {
   "cell_type": "code",
   "execution_count": 7,
   "metadata": {},
   "outputs": [
    {
     "name": "stdout",
     "output_type": "stream",
     "text": [
      "199999998 199999999 200000000 200000001 200000002\n"
     ]
    }
   ],
   "source": [
    "# 배열 만들어서\n",
    "\n",
    "import sys\n",
    "\n",
    "# input = sys.stdin.readline\n",
    "# input = open(\"input.txt\", \"rt\").readline\n",
    "\n",
    "N, L = map(int, input().split())\n",
    "s = sum([*range(L)])\n",
    "diff = 0\n",
    "\n",
    "while N != s :\n",
    "    if N < s or L > 100:\n",
    "        print(-1)\n",
    "        break\n",
    "    \n",
    "    elif (N - s)%L==0:\n",
    "        diff = (N - s)//L\n",
    "        break\n",
    "        \n",
    "    else:\n",
    "        L += 1\n",
    "        s = sum([*range(L)])\n",
    "\n",
    "if N == (s + diff*L):\n",
    "    print(*[i + diff for i in range(L)])"
   ]
  },
  {
   "cell_type": "code",
   "execution_count": 15,
   "metadata": {},
   "outputs": [
    {
     "name": "stdout",
     "output_type": "stream",
     "text": [
      "0 1 2 3 4 5 6 7 8 9\n"
     ]
    }
   ],
   "source": [
    "# 배열 만들어서 합 구하는 방식 변경\n",
    "\n",
    "import sys\n",
    "\n",
    "# input = sys.stdin.readline\n",
    "# input = open(\"input.txt\", \"rt\").readline\n",
    "\n",
    "N, L = map(int, input().split())\n",
    "s = (L-1) * L //2\n",
    "diff = 0\n",
    "\n",
    "while N != s :\n",
    "    if N < s or L > 100:\n",
    "        print(-1)\n",
    "        break\n",
    "    \n",
    "    elif (N - s)%L==0:\n",
    "        diff = (N - s)//L\n",
    "        break\n",
    "        \n",
    "    else:\n",
    "        L += 1\n",
    "        s = (L-1) * L //2\n",
    "\n",
    "if N == (s + diff*L):\n",
    "    print(*[i + diff for i in range(L)])"
   ]
  },
  {
   "cell_type": "code",
   "execution_count": null,
   "metadata": {},
   "outputs": [],
   "source": [
    "# 수학적으로? 제일 처음 해볼려다가 위 방식이 생각보다 괜찮게 되서 굳이 할 필요를 못느낌 효율도 별로 일듯하고\n",
    "\n",
    "# import sys\n",
    "# # input = sys.stdin.readline\n",
    "# input = open(\"input.txt\", \"rt\").readline\n",
    "\n",
    "# N, L = map(int, input().split())\n",
    "# ans = []\n",
    "# if N % 2 == 0:\n",
    "#     if L % 2 ==0:\n",
    "        \n",
    "    \n",
    "# else:\n"
   ]
  },
  {
   "cell_type": "code",
   "execution_count": 11,
   "metadata": {},
   "outputs": [
    {
     "name": "stdout",
     "output_type": "stream",
     "text": [
      "0 1 2 3 4\n"
     ]
    }
   ],
   "source": [
    "# 1등 코드\n",
    "\n",
    "n,l=map(int,input().split())\n",
    "\n",
    "for i in range(l,101):\n",
    "    ix=n-(i*(i+1)//2)\n",
    "    if ix%i==0:\n",
    "        x=ix//i\n",
    "        if x+1>=0:\n",
    "            print(*(i for i in range(x+1,x+i+1)))\n",
    "            break\n",
    "else:\n",
    "    print(-1)"
   ]
  },
  {
   "cell_type": "code",
   "execution_count": 14,
   "metadata": {},
   "outputs": [
    {
     "name": "stdout",
     "output_type": "stream",
     "text": [
      "0 1 2 3 4\n"
     ]
    }
   ],
   "source": [
    "# 1등 코드 이해용\n",
    "\n",
    "n,l=map(int,input().split())\n",
    "\n",
    "for i in range(l,101):\n",
    "    ix=n-(i*(i+1)//2)\n",
    "    if ix%i==0:\n",
    "        x=ix//i\n",
    "        if x+1>=0:\n",
    "            print(*(j for j in range(x+1,x+i+1))) # n=10, l=5 넣으면 경우 볼 수 있고, 수열이 0부터 시작해야할 경우를 위해 x+1로 해줬음\n",
    "            break\n",
    "else:\n",
    "    print(-1)"
   ]
  },
  {
   "cell_type": "code",
   "execution_count": null,
   "metadata": {},
   "outputs": [],
   "source": [
    "# 2등 코드\n",
    "N, L = map(int, input().split())\n",
    "for i in range(L, 101):\n",
    "    x = N - (i * (i + 1) // 2)\n",
    "\n",
    "    if x % i == 0:\n",
    "        x = x // i\n",
    "\n",
    "        if x >= -1:\n",
    "            for j in range(1, i + 1):\n",
    "                print(x + j, end=\" \")\n",
    "            break\n",
    "else:\n",
    "    print(-1)"
   ]
  }
 ],
 "metadata": {
  "kernelspec": {
   "display_name": "Python 3",
   "language": "python",
   "name": "python3"
  },
  "language_info": {
   "codemirror_mode": {
    "name": "ipython",
    "version": 3
   },
   "file_extension": ".py",
   "mimetype": "text/x-python",
   "name": "python",
   "nbconvert_exporter": "python",
   "pygments_lexer": "ipython3",
   "version": "3.8.6"
  }
 },
 "nbformat": 4,
 "nbformat_minor": 2
}
