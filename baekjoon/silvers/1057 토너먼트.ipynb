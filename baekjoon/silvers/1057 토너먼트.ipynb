{
 "cells": [
  {
   "cell_type": "markdown",
   "metadata": {},
   "source": [
    "https://www.acmicpc.net/problem/1057"
   ]
  },
  {
   "cell_type": "markdown",
   "metadata": {},
   "source": [
    "# tc"
   ]
  },
  {
   "cell_type": "markdown",
   "metadata": {},
   "source": [
    "16 1 2\n",
    "\n",
    "16 8 9\n",
    "\n",
    "16 8 9\n",
    "\n",
    "1000 20 31\n",
    "\n",
    "65536 1000 35000\n",
    "\n",
    "60000 101 891\n",
    "\n",
    "9 1 9"
   ]
  },
  {
   "cell_type": "markdown",
   "metadata": {},
   "source": [
    "# 코드"
   ]
  },
  {
   "cell_type": "code",
   "execution_count": 53,
   "metadata": {},
   "outputs": [
    {
     "name": "stdout",
     "output_type": "stream",
     "text": [
      "4\n"
     ]
    }
   ],
   "source": [
    "# 첫 제출\n",
    "import sys\n",
    "# input = sys.stdin.readline\n",
    "input = open(\"input.txt\", \"rt\").readline\n",
    "\n",
    "N, num_1, num_2 = map(int, input().split())\n",
    "rnd = 0\n",
    "while N>=1 :\n",
    "    if num_1 == num_2:\n",
    "        break\n",
    "    num_1 = (num_1 + 1)//2\n",
    "    num_2 = (num_2 + 1)//2\n",
    "    N //= 2\n",
    "    rnd += 1\n",
    "\n",
    "print(rnd)"
   ]
  },
  {
   "cell_type": "code",
   "execution_count": 50,
   "metadata": {},
   "outputs": [
    {
     "data": {
      "text/plain": [
       "131072"
      ]
     },
     "execution_count": 50,
     "metadata": {},
     "output_type": "execute_result"
    }
   ],
   "source": [
    "2**17"
   ]
  },
  {
   "cell_type": "code",
   "execution_count": 56,
   "metadata": {},
   "outputs": [
    {
     "name": "stdout",
     "output_type": "stream",
     "text": [
      "4\n"
     ]
    }
   ],
   "source": [
    "# 제일 처음든 아이디어 비교용 - 깔끔히 구현 생각 안나서 프로그래머스에서 비슷한 것 풀었던 것 가져옴\n",
    "import sys\n",
    "# input = sys.stdin.readline\n",
    "input = open(\"input.txt\", \"rt\").readline\n",
    "\n",
    "def grouping(N,num): #N:총명수,num:첫 번호, 쭉 이길시 배정될 그룹 리스트\n",
    "    powers_of_two=[i for i in range(17) if 2**i<=N]#2의 몇승인지 파악하기 위해서\n",
    "    n=powers_of_two[-1]\n",
    "    group_list=[num]\n",
    "    for i in range(1,n+2):\n",
    "        if group_list[i-1]%2==0:\n",
    "            group_list.append(group_list[i-1]//2)\n",
    "        else:\n",
    "            group_list.append((group_list[i-1]+1)//2)\n",
    "    return group_list\n",
    "    \n",
    "def solution(n,a,b):\n",
    "    a_group=grouping(n,a) #a가 속하게 될 그룹\n",
    "    b_group=grouping(n,b) #b가 속하게 될 그룹\n",
    "    for i in range(len(a_group)):\n",
    "        if a_group[i]==b_group[i]:\n",
    "            return i\n",
    "\n",
    "N, num_1, num_2 = map(int, input().split())\n",
    "\n",
    "print(solution(N, num_1, num_2))"
   ]
  },
  {
   "cell_type": "code",
   "execution_count": 7,
   "metadata": {},
   "outputs": [
    {
     "name": "stdout",
     "output_type": "stream",
     "text": [
      "1\n"
     ]
    }
   ],
   "source": [
    "# 1등 코드 ->뭔가 비슷하게 있을 것 같긴 했는데 원리 이해 못했음\n",
    "n,a,b=map(int,input().split());print(len(bin(-a^-b))-2)"
   ]
  },
  {
   "cell_type": "code",
   "execution_count": 10,
   "metadata": {},
   "outputs": [
    {
     "name": "stdout",
     "output_type": "stream",
     "text": [
      "0b1\n",
      "0b10\n",
      "0b11\n",
      "-0b1\n",
      "-0b10\n",
      "0b1\n"
     ]
    }
   ],
   "source": [
    "n, a, b = 9, 1, 2\n",
    "# print(len(bin(-a^-b))-2)\n",
    "print(bin(a))\n",
    "print(bin(b))\n",
    "print(bin(a^b))\n",
    "print(bin(-a))\n",
    "print(bin(-b))\n",
    "print(bin(-a^-b))"
   ]
  },
  {
   "cell_type": "code",
   "execution_count": 1,
   "metadata": {},
   "outputs": [
    {
     "name": "stdout",
     "output_type": "stream",
     "text": [
      "4\n"
     ]
    }
   ],
   "source": [
    "# 다른 분2\n",
    "N, K, I = map(int, input().split())\n",
    "cnt = 0\n",
    "while K != I:\n",
    "  K -= K//2\n",
    "  I -= I//2\n",
    "  cnt+=1\n",
    "print(cnt)"
   ]
  },
  {
   "cell_type": "code",
   "execution_count": null,
   "metadata": {},
   "outputs": [],
   "source": [
    "# 다른 분3\n",
    "n,a,b = map(int,input().split())\n",
    "cnt = 0\n",
    "while a != b:\n",
    "    a = (a+1)//2\n",
    "    b = (b+1)//2\n",
    "    cnt += 1\n",
    "\n",
    "print(cnt)"
   ]
  }
 ],
 "metadata": {
  "kernelspec": {
   "display_name": "Python 3",
   "language": "python",
   "name": "python3"
  },
  "language_info": {
   "codemirror_mode": {
    "name": "ipython",
    "version": 3
   },
   "file_extension": ".py",
   "mimetype": "text/x-python",
   "name": "python",
   "nbconvert_exporter": "python",
   "pygments_lexer": "ipython3",
   "version": "3.8.6"
  }
 },
 "nbformat": 4,
 "nbformat_minor": 2
}
