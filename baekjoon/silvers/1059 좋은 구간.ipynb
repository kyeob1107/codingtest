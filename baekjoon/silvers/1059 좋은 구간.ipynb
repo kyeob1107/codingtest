{
 "cells": [
  {
   "cell_type": "markdown",
   "metadata": {},
   "source": [
    "https://www.acmicpc.net/problem/1059"
   ]
  },
  {
   "cell_type": "markdown",
   "metadata": {},
   "source": [
    "# tc"
   ]
  },
  {
   "cell_type": "markdown",
   "metadata": {},
   "source": [
    "4\n",
    "1 7 14 10\n",
    "2\n",
    "\n",
    "5\n",
    "4 8 13 24 30\n",
    "10\n",
    "\n",
    "5\n",
    "10 20 30 40 50\n",
    "30\n",
    "\n",
    "8\n",
    "3 7 12 18 25 100 33 1000\n",
    "59"
   ]
  },
  {
   "cell_type": "markdown",
   "metadata": {},
   "source": [
    "# 코드"
   ]
  },
  {
   "cell_type": "code",
   "execution_count": 7,
   "metadata": {},
   "outputs": [
    {
     "name": "stdout",
     "output_type": "stream",
     "text": [
      "1065\n"
     ]
    }
   ],
   "source": [
    "import sys\n",
    "# input = sys.stdin.readline\n",
    "input = open(\"input.txt\", \"rt\").readline\n",
    "\n",
    "def good_section(S, n):\n",
    "    if n in S:\n",
    "        return 0\n",
    "    under = max([s for s in S if s < n] + [0]) + 1\n",
    "    upper = min([s for s in S if s > n] + [1001]) - 1\n",
    "    return (n - under) * (upper - n + 1) + (upper - n)\n",
    "\n",
    "L =int(input())\n",
    "S = list(map(int, input().split()))\n",
    "n = int(input())\n",
    "\n",
    "print(good_section(S, n))"
   ]
  },
  {
   "cell_type": "code",
   "execution_count": 11,
   "metadata": {},
   "outputs": [
    {
     "name": "stdout",
     "output_type": "stream",
     "text": [
      "1065\n"
     ]
    }
   ],
   "source": [
    "# 1등 코드\n",
    "# input = open(\"input.txt\", \"rt\").readline\n",
    "l = int(input())\n",
    "s = list(map(int, input().split()))\n",
    "n = int(input())\n",
    "\n",
    "s.sort()\n",
    "min = 1\n",
    "max = 1000\n",
    "for i in s:\n",
    "    if n > i:\n",
    "        min = i + 1\n",
    "\n",
    "    if n < i:\n",
    "        max = i - 1\n",
    "        break\n",
    "\n",
    "if n == min:\n",
    "    ans = max - n\n",
    "\n",
    "else:\n",
    "    ans = (n - min + 1) * (max - n + 1) - 1\n",
    "\n",
    "if n in s:\n",
    "    ans = 0\n",
    "\n",
    "print(ans)"
   ]
  },
  {
   "cell_type": "code",
   "execution_count": null,
   "metadata": {},
   "outputs": [],
   "source": [
    "# 1등것 살짝 참고해서 바리에이션 1(결과식 변경)\n",
    "import sys\n",
    "# input = sys.stdin.readline\n",
    "input = open(\"input.txt\", \"rt\").readline\n",
    "\n",
    "def good_section(S, n):\n",
    "    if n in S:\n",
    "        return 0\n",
    "    under = max([s for s in S if s < n] + [0]) + 1\n",
    "    upper = min([s for s in S if s > n] + [1001]) - 1\n",
    "    return (n - under + 1) * (upper - n + 1) - 1\n",
    "\n",
    "L =int(input())\n",
    "S = list(map(int, input().split()))\n",
    "n = int(input())\n",
    "\n",
    "print(good_section(S, n))"
   ]
  },
  {
   "cell_type": "code",
   "execution_count": 8,
   "metadata": {},
   "outputs": [
    {
     "name": "stdout",
     "output_type": "stream",
     "text": [
      "1065\n"
     ]
    }
   ],
   "source": [
    "# 1등것 살짝 참고해서 바리에이션 2(조건문 추가 변경)\n",
    "import sys\n",
    "# input = sys.stdin.readline\n",
    "input = open(\"input.txt\", \"rt\").readline\n",
    "\n",
    "def good_section(S, n):\n",
    "    if n in S:\n",
    "        return 0\n",
    "    \n",
    "    under = max([s for s in S if s < n] + [0]) + 1\n",
    "    upper = min([s for s in S if s > n] + [1001]) - 1\n",
    "    \n",
    "    if n == under:\n",
    "        return upper - n\n",
    "    \n",
    "    elif n == upper:\n",
    "        return n - under\n",
    "    \n",
    "    return (n - under) * (upper - n + 1) + (upper - n)\n",
    "\n",
    "L =int(input())\n",
    "S = list(map(int, input().split()))\n",
    "n = int(input())\n",
    "\n",
    "print(good_section(S, n))"
   ]
  },
  {
   "cell_type": "code",
   "execution_count": null,
   "metadata": {},
   "outputs": [],
   "source": [
    "# 1등것 살짝 참고해서 바리에이션 2(조건문 추가, 결과식 변경)\n",
    "import sys\n",
    "# input = sys.stdin.readline\n",
    "input = open(\"input.txt\", \"rt\").readline\n",
    "\n",
    "def good_section(S, n):\n",
    "    if n in S:\n",
    "        return 0\n",
    "    \n",
    "    under = max([s for s in S if s < n] + [0]) + 1\n",
    "    upper = min([s for s in S if s > n] + [1001]) - 1\n",
    "    \n",
    "    if n == under:\n",
    "        return upper - n\n",
    "    \n",
    "    elif n == upper:\n",
    "        return n - under\n",
    "    \n",
    "    return (n - under + 1) * (upper - n + 1) - 1\n",
    "\n",
    "L =int(input())\n",
    "S = list(map(int, input().split()))\n",
    "n = int(input())\n",
    "\n",
    "print(good_section(S, n))"
   ]
  }
 ],
 "metadata": {
  "kernelspec": {
   "display_name": "Python 3",
   "language": "python",
   "name": "python3"
  },
  "language_info": {
   "codemirror_mode": {
    "name": "ipython",
    "version": 3
   },
   "file_extension": ".py",
   "mimetype": "text/x-python",
   "name": "python",
   "nbconvert_exporter": "python",
   "pygments_lexer": "ipython3",
   "version": "3.8.6"
  }
 },
 "nbformat": 4,
 "nbformat_minor": 2
}
