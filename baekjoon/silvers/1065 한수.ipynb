{
 "cells": [
  {
   "cell_type": "markdown",
   "metadata": {},
   "source": [
    "https://acmicpc.net/problem/1065"
   ]
  },
  {
   "cell_type": "markdown",
   "metadata": {},
   "source": [
    "# tc"
   ]
  },
  {
   "cell_type": "markdown",
   "metadata": {},
   "source": [
    "110\n",
    "\n",
    "1\n",
    "\n",
    "210\n",
    "\n",
    "1000\n",
    "\n",
    "500"
   ]
  },
  {
   "cell_type": "markdown",
   "metadata": {},
   "source": [
    "# 코드"
   ]
  },
  {
   "cell_type": "code",
   "execution_count": 85,
   "metadata": {},
   "outputs": [
    {
     "name": "stdout",
     "output_type": "stream",
     "text": [
      "129\n"
     ]
    }
   ],
   "source": [
    "# 일반화 해둔 것\n",
    "import sys\n",
    "# input = sys.stdin.readline\n",
    "input = open(\"input.txt\", \"rt\").readline\n",
    "\n",
    "N =  int(input())\n",
    "N_len = len(str(N))\n",
    "\n",
    "if N_len <=2:\n",
    "    print(N)\n",
    "elif 999 <= N <= 1000:\n",
    "    print(144)\n",
    "else:\n",
    "    first_num = N//10**(N_len - 1)\n",
    "    r_list = [i for i in range((9 - first_num) // (N_len - 1), -1, -1)] + [i for i in range(-1, -1 * (first_num // (N_len - 1)) - 1, -1)]\n",
    "    ans = 99 + (first_num) * len(r_list)\n",
    "    for i, r in enumerate(r_list):\n",
    "        temp = [(first_num + r*m) * 10**((N_len-1) - m) for m in range(N_len)]\n",
    "        number = sum(temp)\n",
    "        if number <= N:\n",
    "            ans -= i\n",
    "            break\n",
    "    if number > N:\n",
    "        ans -= len(r_list)\n",
    "    print(ans)\n",
    "        \n",
    "    "
   ]
  },
  {
   "cell_type": "code",
   "execution_count": 86,
   "metadata": {},
   "outputs": [
    {
     "name": "stdout",
     "output_type": "stream",
     "text": [
      "129\n"
     ]
    }
   ],
   "source": [
    "# 특수해 숫자 1000이하 제약조건 적극적 활용 \n",
    "# -> 무식하게 해두면 메모리는 많이써도 빠르지 않을까 해서 비교해보고 싶었는데 제출하니 틀렸다고 나옴 반례를 못찾겠음\n",
    "import sys\n",
    "# input = sys.stdin.readline\n",
    "input = open(\"input.txt\", \"rt\").readline\n",
    "\n",
    "N =  int(input())\n",
    "N_len = len(str(N))\n",
    "\n",
    "table =[[111, 123, 135, 147, 159],\n",
    "        [210, 222, 234, 248, 259],\n",
    "        [321, 333, 345, 357, 369],\n",
    "        [420, 432, 444, 456, 468],\n",
    "        [531, 543, 555, 567, 579],\n",
    "        [630, 642, 654, 666, 678],\n",
    "        [741, 753, 765, 777, 789],\n",
    "        [840, 852, 864, 876, 888],\n",
    "        [951, 963, 975, 987, 999],\n",
    "        ]\n",
    "\n",
    "if N_len <=2:\n",
    "    print(N)\n",
    "elif 999 <= N <= 1000:\n",
    "    print(144)\n",
    "else:\n",
    "    ans = 99 + (N//100 - 1) * 5\n",
    "    ans += len([i for i in table[N//100 - 1] if i <= N])\n",
    "    print(ans)"
   ]
  },
  {
   "cell_type": "code",
   "execution_count": 88,
   "metadata": {},
   "outputs": [
    {
     "name": "stdout",
     "output_type": "stream",
     "text": [
      "129\n"
     ]
    }
   ],
   "source": [
    "# 뤼튼 보고 개선해보라고 한 코드\n",
    "import sys\n",
    "# input = sys.stdin.readline\n",
    "input = open(\"input.txt\", \"rt\").readline\n",
    "\n",
    "N = int(input())\n",
    "\n",
    "def is_hansu(num):\n",
    "    str_num = str(num)\n",
    "    if len(str_num) <= 2:\n",
    "        return True\n",
    "    diff = int(str_num[1]) - int(str_num[0])\n",
    "    for i in range(1, len(str_num) - 1):\n",
    "        if int(str_num[i + 1]) - int(str_num[i]) != diff:\n",
    "            return False\n",
    "    return True\n",
    "\n",
    "if N < 100:\n",
    "    print(N)\n",
    "else:\n",
    "    cnt = 99\n",
    "    for i in range(100, N + 1):\n",
    "        if is_hansu(i):\n",
    "            cnt += 1\n",
    "    print(cnt)\n"
   ]
  },
  {
   "cell_type": "code",
   "execution_count": null,
   "metadata": {},
   "outputs": [],
   "source": [
    "# 1등 코드\n",
    "def func(a):\n",
    "    if(a<100):\n",
    "        return a\n",
    "    else:\n",
    "        x = 99\n",
    "        for i in range(100,a+1):\n",
    "            \n",
    "            if(int(i/100)+i%10==2*(int(i/10)%10)):\n",
    "                x = x+1\n",
    "        return x\n",
    "\n",
    "x = int(input())\n",
    "print(func(x))"
   ]
  }
 ],
 "metadata": {
  "kernelspec": {
   "display_name": "Python 3",
   "language": "python",
   "name": "python3"
  },
  "language_info": {
   "codemirror_mode": {
    "name": "ipython",
    "version": 3
   },
   "file_extension": ".py",
   "mimetype": "text/x-python",
   "name": "python",
   "nbconvert_exporter": "python",
   "pygments_lexer": "ipython3",
   "version": "3.8.6"
  }
 },
 "nbformat": 4,
 "nbformat_minor": 2
}
