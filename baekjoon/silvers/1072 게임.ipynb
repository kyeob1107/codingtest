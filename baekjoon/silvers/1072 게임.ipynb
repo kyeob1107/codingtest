{
 "cells": [
  {
   "cell_type": "markdown",
   "metadata": {},
   "source": [
    "https://www.acmicpc.net/problem/1072"
   ]
  },
  {
   "cell_type": "markdown",
   "metadata": {},
   "source": [
    "# tc"
   ]
  },
  {
   "cell_type": "markdown",
   "metadata": {},
   "source": [
    "10 8\n",
    "\n",
    "100 80\n",
    "\n",
    "47 47\n",
    "\n",
    "99000 0\n",
    "\n",
    "1000000000 470000000"
   ]
  },
  {
   "cell_type": "markdown",
   "metadata": {},
   "source": [
    "27713 16274 => 187"
   ]
  },
  {
   "cell_type": "markdown",
   "metadata": {},
   "source": [
    "# 코드"
   ]
  },
  {
   "cell_type": "code",
   "execution_count": 116,
   "metadata": {},
   "outputs": [
    {
     "name": "stdout",
     "output_type": "stream",
     "text": [
      "10\n"
     ]
    }
   ],
   "source": [
    "# 시간 너무 오래걸리는 듯 제출도 X\n",
    "# 100 99 일때 엄청 오래 돌아감\n",
    "import sys\n",
    "# input = sys.stdin.readline\n",
    "input = open(\"input.txt\", \"rt\").readline\n",
    "\n",
    "X, Y = map(int, input().split())\n",
    "\n",
    "if X == Y:\n",
    "    print(-1)\n",
    "\n",
    "else:\n",
    "    n = 1\n",
    "    while int((Y + n) * 100 / (X + n) ) == int(Y * 100/X ):\n",
    "        n += 1\n",
    "    print(n)"
   ]
  },
  {
   "cell_type": "code",
   "execution_count": 114,
   "metadata": {},
   "outputs": [
    {
     "name": "stdout",
     "output_type": "stream",
     "text": [
      "9\n"
     ]
    }
   ],
   "source": [
    "# 도저히 아이디어 안 떠올라서 (생각 난것은 시도해봤는데 부동소수오류때문인지 안되서) 다른 사람들 아이디어 힌트 얻어서 풀기\n",
    "# 이분 탐색 이용->=안넣으니 틀리는 경우 생김 (1000 1)\n",
    "import sys\n",
    "# input = sys.stdin.readline\n",
    "input = open(\"input.txt\", \"rt\").readline\n",
    "\n",
    "X, Y = map(int, input().split())\n",
    "Z = (Y * 100) // X\n",
    "\n",
    "if Z > 98:\n",
    "    print(-1)\n",
    "\n",
    "else:\n",
    "    start = 0\n",
    "    end = X\n",
    "    \n",
    "    while start < end:\n",
    "        mid = (start + end)//2\n",
    "        if (Y+mid)*100//(X+mid) > Z:\n",
    "            end = mid - 1\n",
    "        else:\n",
    "            start = mid + 1\n",
    "            \n",
    "    print(start)"
   ]
  },
  {
   "cell_type": "code",
   "execution_count": 115,
   "metadata": {},
   "outputs": [
    {
     "name": "stdout",
     "output_type": "stream",
     "text": [
      "10\n"
     ]
    }
   ],
   "source": [
    "# 도저히 아이디어 안 떠올라서 (생각 난것은 시도해봤는데 부동소수오류때문인지 안되서) 다른 사람들 아이디어 힌트 얻어서 풀기\n",
    "# 이분 탐색 이용\n",
    "import sys\n",
    "# input = sys.stdin.readline\n",
    "input = open(\"input.txt\", \"rt\").readline\n",
    "\n",
    "X, Y = map(int, input().split())\n",
    "Z = (Y * 100) // X\n",
    "\n",
    "if Z > 98:\n",
    "    print(-1)\n",
    "\n",
    "else:\n",
    "    start = 0\n",
    "    end = X\n",
    "    \n",
    "    while start <= end:\n",
    "        mid = (start + end)//2\n",
    "        if (Y+mid)*100//(X+mid) > Z:\n",
    "            end = mid - 1\n",
    "        else:\n",
    "            start = mid + 1\n",
    "            \n",
    "    print(start)"
   ]
  },
  {
   "cell_type": "code",
   "execution_count": null,
   "metadata": {},
   "outputs": [],
   "source": [
    "# 2등 코드\n",
    "x,y=map(int,input().split())\n",
    "if x==y:print(-1)\n",
    "else:\n",
    "    k=y*100//x\n",
    "    if k==99:print(-1)\n",
    "    else:\n",
    "        t=(x*k+x-100*y)/(99-k)\n",
    "        if t==int(t):print(int(t))\n",
    "        else:print(int(t)+1)"
   ]
  },
  {
   "cell_type": "code",
   "execution_count": 1,
   "metadata": {},
   "outputs": [
    {
     "name": "stdout",
     "output_type": "stream",
     "text": [
      "-1\n"
     ]
    }
   ],
   "source": [
    "# 2등 코드 이해용\n",
    "# 2등 코드\n",
    "import sys\n",
    "# input = sys.stdin.readline\n",
    "input = open(\"input.txt\", \"rt\").readline\n",
    "x,y=map(int,input().split())\n",
    "if x==y:\n",
    "    print(-1)\n",
    "else:\n",
    "    z=y*100//x\n",
    "    if z==99:\n",
    "        print(-1)\n",
    "    else:\n",
    "        n=(x*z+x-100*y)/(99-z)\n",
    "        if n==int(n):\n",
    "            print(int(n))\n",
    "        else:\n",
    "            print(int(n)+1)"
   ]
  },
  {
   "cell_type": "markdown",
   "metadata": {},
   "source": [
    "# 시도 실패"
   ]
  },
  {
   "cell_type": "code",
   "execution_count": 96,
   "metadata": {},
   "outputs": [
    {
     "name": "stdout",
     "output_type": "stream",
     "text": [
      "0.99 0.0 0.01\n",
      "100.0 0.0\n",
      "-1\n"
     ]
    }
   ],
   "source": [
    "\n",
    "import sys\n",
    "# input = sys.stdin.readline\n",
    "input = open(\"input.txt\", \"rt\").readline\n",
    "\n",
    "X, Y = map(int, input().split())\n",
    "\n",
    "if X == Y:\n",
    "    print(-1)\n",
    "\n",
    "else: \n",
    "    try:\n",
    "        d = (Y* 100 / X  - int(Y* 100 / X))/100\n",
    "        D = 0.01 - (d)\n",
    "        a = D * X**2 / (X - Y) # a/b\n",
    "        b = 1 - D * (X / (X - Y))\n",
    "        print(int(a/b) + 1 if a/b > int(a/b) + 10e-9 else int(a/b))\n",
    "    except:\n",
    "        print(-1)"
   ]
  },
  {
   "cell_type": "code",
   "execution_count": 55,
   "metadata": {},
   "outputs": [
    {
     "name": "stdout",
     "output_type": "stream",
     "text": [
      "2999999.002999999\n",
      "나누면:  0.5872334283549236\n",
      "0.59\n",
      "0.5899853041327646\n",
      "0.590014694813806\n"
     ]
    }
   ],
   "source": [
    "test_x = 27713\n",
    "test_y = 16274\n",
    "n = 187\n",
    "\n",
    "print((X**2 / (X - Y))/(1000/3) - (X / (X - Y)))\n",
    "print(\"나누면: \", test_y/test_x)\n",
    "print((test_y + n)/(test_x + n))\n",
    "print((test_y + (n-1))/(test_x + (n-1)))\n",
    "print((test_y + (n+1))/(test_x + (n+1)))"
   ]
  },
  {
   "cell_type": "code",
   "execution_count": 53,
   "metadata": {},
   "outputs": [
    {
     "name": "stdout",
     "output_type": "stream",
     "text": [
      "198.99625028411577\n",
      "1e-09\n",
      "0.018867926249911\n"
     ]
    }
   ],
   "source": [
    "test_x = 1000000000\n",
    "test_y = 1 #470000000\n",
    "n = 19230770\n",
    "\n",
    "print((X**2 / (X - Y))/(1000/3) - (X / (X - Y)))\n",
    "print(test_y/test_x)\n",
    "print((test_y + n)/(test_x + n))"
   ]
  }
 ],
 "metadata": {
  "kernelspec": {
   "display_name": "Python 3",
   "language": "python",
   "name": "python3"
  },
  "language_info": {
   "codemirror_mode": {
    "name": "ipython",
    "version": 3
   },
   "file_extension": ".py",
   "mimetype": "text/x-python",
   "name": "python",
   "nbconvert_exporter": "python",
   "pygments_lexer": "ipython3",
   "version": "3.8.6"
  }
 },
 "nbformat": 4,
 "nbformat_minor": 2
}
