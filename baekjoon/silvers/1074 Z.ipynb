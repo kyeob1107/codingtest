{
 "cells": [
  {
   "cell_type": "markdown",
   "metadata": {},
   "source": [
    "https://www.acmicpc.net/problem/1074"
   ]
  },
  {
   "cell_type": "markdown",
   "metadata": {},
   "source": [
    "# tc"
   ]
  },
  {
   "cell_type": "markdown",
   "metadata": {},
   "source": [
    "2 3 1\n",
    "\n",
    "3 7 7\n",
    "\n",
    "1 0 0\n",
    "\n",
    "4 7 7\n",
    "\n",
    "10 511 511\n",
    "\n",
    "10 512 512"
   ]
  },
  {
   "cell_type": "markdown",
   "metadata": {},
   "source": [
    "# 코드"
   ]
  },
  {
   "cell_type": "code",
   "execution_count": null,
   "metadata": {},
   "outputs": [],
   "source": [
    "# 잘 안떠올라서 개무식하게 칸 만들고 순서 적고 칸 찾기 해볼려했는데 칸 채울 방식도 안떠올라서 포기\n",
    "import sys\n",
    "# input = sys.stdin.readline\n",
    "input = open(\"input.txt\", \"rt\").readline\n",
    "\n",
    "N, r, c = map(int, input().split())\n",
    "\n",
    "\n",
    "i, j = 0, 0\n",
    "for num in range(2**(N+1)):\n",
    "    if num%4 == 0 or num%4 == 2:\n",
    "        j += 1\n",
    "    elif num%4 == 1:\n",
    "        j -= 1\n",
    "        i += 1\n",
    "    elif num%4 == 3:\n",
    "        i -= 1\n",
    "        j += 1\n",
    "    sequence[i][j] = num\n"
   ]
  },
  {
   "cell_type": "code",
   "execution_count": 9,
   "metadata": {},
   "outputs": [
    {
     "name": "stdout",
     "output_type": "stream",
     "text": [
      "786432\n"
     ]
    }
   ],
   "source": [
    "# 계속 못 떠올려서 게시판 들어가서 질문한 것 참고했음\n",
    "import sys\n",
    "# input = sys.stdin.readline\n",
    "input = open(\"input.txt\", \"rt\").readline\n",
    "\n",
    "def Z(N, r, c):\n",
    "    if r == 0 and c == 0:\n",
    "        return 0\n",
    "    \n",
    "    elif r == 0 and c == 1:\n",
    "        return 1\n",
    "    \n",
    "    elif r == 1 and c == 0:\n",
    "        return 2\n",
    "    \n",
    "    elif r == 1 and c == 1:\n",
    "        return 3\n",
    "    \n",
    "    else:\n",
    "        num_i = 2 ** (N - 1)\n",
    "        val = num_i ** 2\n",
    "        if r < num_i and c < num_i:\n",
    "            return Z(N - 1, r, c)\n",
    "        \n",
    "        elif r < num_i and c >= num_i:\n",
    "            return val + Z(N - 1, r, c - num_i)\n",
    "        \n",
    "        elif r >= num_i and c < num_i:\n",
    "            return 2 * val + Z(N - 1, r - num_i, c)\n",
    "        \n",
    "        elif r >= num_i and c >= num_i:\n",
    "            return 3 * val + Z(N - 1, r - num_i, c - num_i)\n",
    "\n",
    "N, r, c = map(int, input().split())\n",
    "print(Z(N, r, c))"
   ]
  },
  {
   "cell_type": "code",
   "execution_count": 10,
   "metadata": {},
   "outputs": [
    {
     "name": "stdout",
     "output_type": "stream",
     "text": [
      "786432\n"
     ]
    }
   ],
   "source": [
    "# 1등 코드\n",
    "import sys\n",
    "# input = sys.stdin.readline\n",
    "input = open(\"input.txt\", \"rt\").readline\n",
    "n, r, c = map(int, input().split())\n",
    "r+=1\n",
    "c+=1\n",
    "n=2**n\n",
    "x=0\n",
    "while n>1:\n",
    "    n*=0.5\n",
    "    q=(1 if r<=n else 3)+(0 if c<=n else 1)\n",
    "    x+=n**2*(q-1)\n",
    "    r-=n if n<r else 0\n",
    "    c-=n if n<c else 0\n",
    "print(int(x))"
   ]
  },
  {
   "cell_type": "code",
   "execution_count": 11,
   "metadata": {},
   "outputs": [
    {
     "name": "stdout",
     "output_type": "stream",
     "text": [
      "786432\n"
     ]
    }
   ],
   "source": [
    "# 1등 코드 바로 직관적으로 이해가 안되서 살짝 수정한 것 - 의외로 별로 다른 느낌 안듦\n",
    "import sys\n",
    "# input = sys.stdin.readline\n",
    "input = open(\"input.txt\", \"rt\").readline\n",
    "n, r, c = map(int, input().split())\n",
    "n=2**n\n",
    "x=0\n",
    "while n>1:\n",
    "    n*=0.5\n",
    "    q=(0 if r<=n-1 else 2)+(0 if c<=n-1 else 1)\n",
    "    x+=n**2*q\n",
    "    r-=n if n-1<r else 0\n",
    "    c-=n if n-1<c else 0\n",
    "print(int(x))"
   ]
  }
 ],
 "metadata": {
  "kernelspec": {
   "display_name": "Python 3",
   "language": "python",
   "name": "python3"
  },
  "language_info": {
   "codemirror_mode": {
    "name": "ipython",
    "version": 3
   },
   "file_extension": ".py",
   "mimetype": "text/x-python",
   "name": "python",
   "nbconvert_exporter": "python",
   "pygments_lexer": "ipython3",
   "version": "3.8.6"
  }
 },
 "nbformat": 4,
 "nbformat_minor": 2
}
