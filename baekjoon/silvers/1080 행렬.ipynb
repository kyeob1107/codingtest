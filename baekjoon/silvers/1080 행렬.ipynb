{
 "cells": [
  {
   "cell_type": "markdown",
   "metadata": {},
   "source": [
    "https://www.acmicpc.net/problem/1080"
   ]
  },
  {
   "cell_type": "markdown",
   "metadata": {},
   "source": [
    "# tc"
   ]
  },
  {
   "cell_type": "markdown",
   "metadata": {},
   "source": [
    "3 4\n",
    "0000\n",
    "0010\n",
    "0000\n",
    "1001\n",
    "1011\n",
    "1001\n",
    "\n",
    "3 3\n",
    "111\n",
    "111\n",
    "111\n",
    "000\n",
    "000\n",
    "000\n",
    "\n",
    "1 1\n",
    "1\n",
    "0\n",
    "\n",
    "18 3\n",
    "001\n",
    "100\n",
    "100\n",
    "000\n",
    "011\n",
    "010\n",
    "100\n",
    "100\n",
    "010\n",
    "010\n",
    "010\n",
    "110\n",
    "101\n",
    "101\n",
    "000\n",
    "110\n",
    "000\n",
    "110\n",
    "001\n",
    "100\n",
    "011\n",
    "000\n",
    "100\n",
    "010\n",
    "011\n",
    "100\n",
    "101\n",
    "101\n",
    "010\n",
    "001\n",
    "010\n",
    "010\n",
    "111\n",
    "110\n",
    "111\n",
    "001"
   ]
  },
  {
   "cell_type": "markdown",
   "metadata": {},
   "source": [
    "3 3\n",
    "111\n",
    "111\n",
    "111\n",
    "001\n",
    "001\n",
    "001\n",
    "\n",
    "3 3\n",
    "111\n",
    "111\n",
    "111\n",
    "011\n",
    "111\n",
    "111"
   ]
  },
  {
   "cell_type": "markdown",
   "metadata": {},
   "source": [
    "# 코드"
   ]
  },
  {
   "cell_type": "code",
   "execution_count": 37,
   "metadata": {},
   "outputs": [
    {
     "name": "stdout",
     "output_type": "stream",
     "text": [
      "-1\n"
     ]
    }
   ],
   "source": [
    "# 1차시도 작을 때 완전히 같으면 0하는거 빼먹어서 수정하니 맞음 늘리꺼 같았는데 생각보단 빨랐음\n",
    "import sys\n",
    "# input = sys.stdin.readline\n",
    "input = open(\"input.txt\", \"rt\").readline\n",
    "\n",
    "N, M = map(int, input().split())\n",
    "matrix_a = []\n",
    "matrix_b = []\n",
    "check = [[0] * M for _ in range(N)]\n",
    "for _ in range(N):\n",
    "    matrix_a.append([int(i) for i in input().strip()])\n",
    "for _ in range(N):\n",
    "    matrix_b.append([int(i) for i in input().strip()])\n",
    "\n",
    "for y in range(N):\n",
    "    for x in range(M):\n",
    "        if matrix_a[y][x] != matrix_b[y][x]:\n",
    "            check[y][x] = 1\n",
    "\n",
    "# if all(all(j==0 for j in check[i]) for i in range(N)):\n",
    "#     print(\"첨부터 다 똑같아\", 0)\n",
    "pos_range = [(-1, -1), (-1, 0), (-1, 1), \n",
    "             (0, -1), (0, 0), (0, 1),\n",
    "             (1, -1), (1, 0), (1, 1)] # y, x\n",
    "cnt = 0\n",
    "\n",
    "if N < 3 or M < 3:\n",
    "    if any(any(j==1 for j in check[i]) for i in range(N)):\n",
    "        print(-1)\n",
    "    \n",
    "    else:\n",
    "        print(0)\n",
    "        \n",
    "else:\n",
    "    for y in range(1, N - 1):\n",
    "        for x in range(1, M - 1):\n",
    "            if check[y - 1][x - 1] == 1:\n",
    "                cnt += 1\n",
    "                for dy, dx in pos_range:\n",
    "                    check[y + dy][x + dx] = (check[y + dy][x + dx] + 1)%2\n",
    "    \n",
    "    if any(any(j==1 for j in check[i]) for i in range(N)):\n",
    "        cnt = -1\n",
    "    print(cnt)"
   ]
  },
  {
   "cell_type": "code",
   "execution_count": 43,
   "metadata": {},
   "outputs": [
    {
     "name": "stdout",
     "output_type": "stream",
     "text": [
      "0\n"
     ]
    }
   ],
   "source": [
    "import sys\n",
    "# input = sys.stdin.readline\n",
    "input = open(\"input.txt\", \"rt\").readline\n",
    "\n",
    "N, M = map(int, input().split())\n",
    "matrix_fst = []\n",
    "check = []\n",
    "for _ in range(N):\n",
    "    matrix_fst.append([int(i) for i in input().strip()])\n",
    "for y in range(N):\n",
    "    check.append([matrix_fst[y][x] != int(i) for x, i in enumerate(input().strip())])\n",
    "\n",
    "pos_range = [(-1, -1), (-1, 0), (-1, 1), \n",
    "             (0, -1), (0, 0), (0, 1),\n",
    "             (1, -1), (1, 0), (1, 1)] # y, x\n",
    "cnt = 0\n",
    "\n",
    "if N < 3 and M < 3:\n",
    "    if any(any(j for j in check[i]) for i in range(N)):\n",
    "        print(-1)\n",
    "    \n",
    "    else:\n",
    "        # print(\"요거\")\n",
    "        print(0)\n",
    "        \n",
    "else:\n",
    "    for y in range(1, N - 1):\n",
    "        for x in range(1, M - 1):\n",
    "            if check[y - 1][x - 1]:\n",
    "                cnt += 1\n",
    "                for dy, dx in pos_range:\n",
    "                    check[y + dy][x + dx] = not check[y + dy][x + dx]\n",
    "    if any(any(j for j in check[i]) for i in range(N)):\n",
    "        cnt = -1\n",
    "    print(cnt)"
   ]
  },
  {
   "cell_type": "code",
   "execution_count": null,
   "metadata": {},
   "outputs": [],
   "source": [
    "import sys\n",
    "# input = sys.stdin.readline\n",
    "input = open(\"input.txt\", \"rt\").readline\n",
    "\n",
    "N, M = map(int, input().split())\n",
    "matrix_fst = []\n",
    "check = []\n",
    "for _ in range(N):\n",
    "    matrix_fst.append([int(i) for i in input().strip()])\n",
    "for y in range(N):\n",
    "    check.append([matrix_fst[y][x] != int(i) for x, i in enumerate(input().strip())])\n",
    "\n",
    "pos_range = [(-1, -1), (-1, 0), (-1, 1), \n",
    "             (0, -1), (0, 0), (0, 1),\n",
    "             (1, -1), (1, 0), (1, 1)] # y, x\n",
    "cnt = 0\n",
    "\n",
    "if N < 3 or M < 3:\n",
    "    if any(any(j for j in check[i]) for i in range(N)):\n",
    "        print(-1)\n",
    "    \n",
    "    else:\n",
    "        # print(\"요거\")\n",
    "        print(0)\n",
    "        \n",
    "else:\n",
    "    for y in range(1, N - 1):\n",
    "        for x in range(1, M - 1):\n",
    "            if check[y - 1][x - 1]:\n",
    "                cnt += 1\n",
    "                for dy, dx in pos_range:\n",
    "                    check[y + dy][x + dx] = not check[y + dy][x + dx]\n",
    "    if any(any(j for j in check[i]) for i in range(N)):\n",
    "        cnt = -1\n",
    "    print(cnt)"
   ]
  },
  {
   "cell_type": "code",
   "execution_count": 44,
   "metadata": {},
   "outputs": [
    {
     "name": "stdout",
     "output_type": "stream",
     "text": [
      "0\n"
     ]
    }
   ],
   "source": [
    "import sys\n",
    "# input = sys.stdin.readline\n",
    "input = open(\"input.txt\", \"rt\").readline\n",
    "\n",
    "N, M = map(int, input().split())\n",
    "matrix_fst = []\n",
    "check = []\n",
    "for _ in range(N):\n",
    "    matrix_fst.append([int(i) for i in input().strip()])\n",
    "for y in range(N):\n",
    "    check.append([matrix_fst[y][x] != int(i) for x, i in enumerate(input().strip())])\n",
    "\n",
    "pos_range = [(-1, -1), (-1, 0), (-1, 1), \n",
    "             (0, -1), (0, 0), (0, 1),\n",
    "             (1, -1), (1, 0), (1, 1)] # y, x\n",
    "cnt = 0\n",
    "\n",
    "for y in range(1, N - 1):\n",
    "    for x in range(1, M - 1):\n",
    "        if check[y - 1][x - 1]:\n",
    "            cnt += 1\n",
    "            for dy, dx in pos_range:\n",
    "                check[y + dy][x + dx] = not check[y + dy][x + dx]\n",
    "if any(any(j for j in check[i]) for i in range(N)):\n",
    "    cnt = -1\n",
    "print(cnt)"
   ]
  },
  {
   "cell_type": "code",
   "execution_count": null,
   "metadata": {},
   "outputs": [],
   "source": [
    "# 3등 코드\n",
    "# 백준 1080 행렬 SILVER l\n",
    "# https://www.acmicpc.net/problem/1080\n",
    "\n",
    "def reverse(a, b):\n",
    "    for i in range(a, a+3):\n",
    "        for j in range(b, b+3):\n",
    "            A[i][j] = 1 - A[i][j]\n",
    "\n",
    "n, m = map(int, input().split())\n",
    "A = [list(map(int, input())) for _ in range(n)]\n",
    "B = [list(map(int, input())) for _ in range(n)]\n",
    "cnt = 0\n",
    "\n",
    "for i in range(n-2):\n",
    "    for j in range(m-2):\n",
    "        if A[i][j] != B[i][j]:\n",
    "            reverse(i, j)\n",
    "            cnt += 1\n",
    "\n",
    "if A == B:\n",
    "    print(cnt)\n",
    "else:\n",
    "    print(-1)"
   ]
  }
 ],
 "metadata": {
  "kernelspec": {
   "display_name": "Python 3",
   "language": "python",
   "name": "python3"
  },
  "language_info": {
   "codemirror_mode": {
    "name": "ipython",
    "version": 3
   },
   "file_extension": ".py",
   "mimetype": "text/x-python",
   "name": "python",
   "nbconvert_exporter": "python",
   "pygments_lexer": "ipython3",
   "version": "3.8.6"
  }
 },
 "nbformat": 4,
 "nbformat_minor": 2
}
