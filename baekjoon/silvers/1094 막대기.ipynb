{
 "cells": [
  {
   "cell_type": "markdown",
   "metadata": {},
   "source": [
    "https://www.acmicpc.net/problem/1094"
   ]
  },
  {
   "cell_type": "markdown",
   "metadata": {},
   "source": [
    "# tc"
   ]
  },
  {
   "cell_type": "markdown",
   "metadata": {},
   "source": [
    "23\n",
    "\n",
    "32\n",
    "\n",
    "64\n",
    "\n",
    "48"
   ]
  },
  {
   "cell_type": "markdown",
   "metadata": {},
   "source": [
    "# 코드"
   ]
  },
  {
   "cell_type": "markdown",
   "metadata": {},
   "source": [
    "(말이 이상해서 다시 정리)\n",
    "\n",
    "지민이는 길이가 64cm인 막대를 가지고 있다. 어느 날, 그는 길이가 Xcm인 막대가 가지고 싶어졌다. 지민이는 원래 가지고 있던 막대를 더 작은 막대로 자른다음에, 풀로 붙여서 길이가 Xcm인 막대를 만들려고 한다.\n",
    "\n",
    "막대를 자르는 가장 쉬운 방법은 절반으로 자르는 것이다. 지민이는 아래와 같은 과정을 거쳐서 막대를 자르려고 한다.\n",
    "처음에는 64cm 막대 하나만 가지고 있다.\n",
    "지민이가 가지고 있는 막대의 길이를 모두 더한다. 이때, 합이 X보다 크다면, 아래와 같은 과정을 반복한다.\n",
    ">가지고 있는 막대 중 길이가 가장 짧은 것을 절반으로 자른다.     \n",
    "만약, 위에서 자른 막대의 절반 중 하나를 제외하고 나머지 남아있는 막대의 길이의 합이 X보다 크거나 같다면, 위에서 자른 막대의 절반 중 하나를 버린다.\n",
    "\n",
    "이제, 남아있는 모든 막대를 풀로 붙여서 Xcm를 만든다.\n",
    "X가 주어졌을 때, 위의 과정을 거친다면, 몇 개의 막대를 풀로 붙여서 Xcm를 만들 수 있는지 구하는 프로그램을 작성하시오. "
   ]
  },
  {
   "cell_type": "code",
   "execution_count": 9,
   "metadata": {},
   "outputs": [
    {
     "name": "stdout",
     "output_type": "stream",
     "text": [
      "4\n"
     ]
    }
   ],
   "source": [
    "# 직접 하게 해보려다가 2진법해서 1의 갯수 구하는 것과 동일한 것 알아서 일단 바로 함\n",
    "import sys\n",
    "# input = sys.stdin.readline\n",
    "input = open(\"input.txt\", \"rt\").readline\n",
    "print(bin(int(input())).count('1'))"
   ]
  },
  {
   "cell_type": "code",
   "execution_count": null,
   "metadata": {},
   "outputs": [],
   "source": [
    "# 1등 코드, bit_count는 파이썬 3.10부터 있는 정수형 메소드\n",
    "print(int(input()).bit_count())"
   ]
  },
  {
   "cell_type": "code",
   "execution_count": null,
   "metadata": {},
   "outputs": [],
   "source": [
    "# 쭉 내리다가 다른 방식으로 한 사람\n",
    "a = int(input())\n",
    "cnt = 0\n",
    "while a != 0:\n",
    "    if a % 2 == 1:\n",
    "        cnt += 1\n",
    "    a = a // 2\n",
    "print(cnt)"
   ]
  }
 ],
 "metadata": {
  "kernelspec": {
   "display_name": "Python 3",
   "language": "python",
   "name": "python3"
  },
  "language_info": {
   "codemirror_mode": {
    "name": "ipython",
    "version": 3
   },
   "file_extension": ".py",
   "mimetype": "text/x-python",
   "name": "python",
   "nbconvert_exporter": "python",
   "pygments_lexer": "ipython3",
   "version": "3.8.6"
  }
 },
 "nbformat": 4,
 "nbformat_minor": 2
}
