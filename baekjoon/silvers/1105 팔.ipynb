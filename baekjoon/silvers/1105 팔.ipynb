{
 "cells": [
  {
   "cell_type": "markdown",
   "metadata": {},
   "source": [
    "https://www.acmicpc.net/problem/1105"
   ]
  },
  {
   "cell_type": "markdown",
   "metadata": {},
   "source": [
    "# tc"
   ]
  },
  {
   "cell_type": "markdown",
   "metadata": {},
   "source": [
    "1 10\n",
    "\n",
    "88 88\n",
    "\n",
    "800 899\n",
    "\n",
    "8808 8880"
   ]
  },
  {
   "cell_type": "markdown",
   "metadata": {},
   "source": [
    "180 189"
   ]
  },
  {
   "cell_type": "markdown",
   "metadata": {},
   "source": [
    "# 코드"
   ]
  },
  {
   "cell_type": "code",
   "execution_count": 27,
   "metadata": {},
   "outputs": [
    {
     "name": "stdout",
     "output_type": "stream",
     "text": [
      "0\n"
     ]
    }
   ],
   "source": [
    "# 제일 단순하게 역시 예상대로 시간 초과 나옴\n",
    "import sys\n",
    "# input = sys.stdin.readline\n",
    "input = open(\"input.txt\", \"rt\").readline\n",
    "\n",
    "L, R = map(int, input().split())\n",
    "cnt = len(str(R))\n",
    "for i in range(L, R + 1):\n",
    "    temp = str(i).count('8')\n",
    "    cnt = min(cnt, temp)\n",
    "print(cnt)"
   ]
  },
  {
   "cell_type": "code",
   "execution_count": 31,
   "metadata": {},
   "outputs": [
    {
     "name": "stdout",
     "output_type": "stream",
     "text": [
      "1\n"
     ]
    }
   ],
   "source": [
    "# 문자열로 쓴 방식\n",
    "import sys\n",
    "# input = sys.stdin.readline\n",
    "input = open(\"input.txt\", \"rt\").readline\n",
    "\n",
    "L, R = input().split()\n",
    "cnt = 0\n",
    "\n",
    "if len(L) == len(R):\n",
    "    L_num = [s for s in L]\n",
    "    R_num = [s for s in R]\n",
    "    for l, r in zip(L_num, R_num):\n",
    "        if l == r:\n",
    "            if l == '8':\n",
    "                cnt +=1\n",
    "        else:\n",
    "            break\n",
    "print(cnt)"
   ]
  },
  {
   "cell_type": "code",
   "execution_count": 32,
   "metadata": {},
   "outputs": [
    {
     "name": "stdout",
     "output_type": "stream",
     "text": [
      "1\n"
     ]
    }
   ],
   "source": [
    "# 정수형으로 바꿔서 사용 및 비교 -> 오히려 리스트 안에 할 때는 객체헤더 메모리 때문에 메모리 더 쓰는듯, \n",
    "# 비교자체는 문자열보다 정수형이 빠르다고는 하는 것 같은데 크게 차이는 안나는듯\n",
    "import sys\n",
    "# input = sys.stdin.readline\n",
    "input = open(\"input.txt\", \"rt\").readline\n",
    "\n",
    "L, R = input().split()\n",
    "cnt = 0\n",
    "\n",
    "if len(L) == len(R):\n",
    "    L_num = [int(s) for s in L]\n",
    "    R_num = [int(s) for s in R]\n",
    "    for l, r in zip(L_num, R_num):\n",
    "        if l == r:\n",
    "            if l == 8:\n",
    "                cnt +=1\n",
    "        else:\n",
    "            break\n",
    "print(cnt)"
   ]
  },
  {
   "cell_type": "code",
   "execution_count": null,
   "metadata": {},
   "outputs": [],
   "source": [
    "# 뤼튼보고 개선시켜보라고 한 것(추가로 내가 살짝 손봄)\n",
    "import sys\n",
    "# input = sys.stdin.readline\n",
    "input = open(\"input.txt\", \"rt\").readline\n",
    "\n",
    "L, R = input().split()\n",
    "cnt = 0\n",
    "\n",
    "if len(L) == len(R):\n",
    "    for l, r in zip(L, R):\n",
    "        if l != r:\n",
    "            break\n",
    "        elif l == '8':\n",
    "            cnt += 1\n",
    "\n",
    "print(cnt)"
   ]
  },
  {
   "cell_type": "code",
   "execution_count": null,
   "metadata": {},
   "outputs": [],
   "source": [
    "# 자릿수 로그함수 이용방식 math.floor(math.log10(num)) + 1\n",
    "import sys\n",
    "import math\n",
    "# input = sys.stdin.readline\n",
    "input = open(\"input.txt\", \"rt\").readline\n",
    "\n",
    "L, R = input().split()\n",
    "cnt = 0\n",
    "\n",
    "if math.floor(math.log10(int(L))) == math.floor(math.log10(int(R))):\n",
    "    L_num = [s for s in L]\n",
    "    R_num = [s for s in R]\n",
    "    for l, r in zip(L_num, R_num):\n",
    "        if l == r:\n",
    "            if l == '8':\n",
    "                cnt +=1\n",
    "        else:\n",
    "            break\n",
    "print(cnt)"
   ]
  },
  {
   "cell_type": "code",
   "execution_count": 11,
   "metadata": {},
   "outputs": [
    {
     "name": "stdout",
     "output_type": "stream",
     "text": [
      "Small number - String method: 0.0 seconds\n",
      "Small number - Log method: 0.0 seconds\n",
      "Large number - String method: 0.0 seconds\n",
      "Large number - Log method: 0.0 seconds\n"
     ]
    }
   ],
   "source": [
    "import time\n",
    "import math\n",
    "\n",
    "# 작은 숫자\n",
    "small_num = 12345\n",
    "\n",
    "# 큰 숫자\n",
    "large_num = 123456789012345678901234567890\n",
    "\n",
    "def measure_time(method, num):\n",
    "    start_time = time.time()\n",
    "    if method == \"string\":\n",
    "        _ = len(str(num))\n",
    "    elif method == \"log\":\n",
    "        _ = math.floor(math.log10(num)) + 1\n",
    "    return time.time() - start_time\n",
    "\n",
    "# 작은 숫자 테스트\n",
    "small_string_time = measure_time(\"string\", small_num)\n",
    "small_log_time = measure_time(\"log\", small_num)\n",
    "\n",
    "# 큰 숫자 테스트\n",
    "large_string_time = measure_time(\"string\", large_num)\n",
    "large_log_time = measure_time(\"log\", large_num)\n",
    "\n",
    "print(f\"Small number - String method: {small_string_time} seconds\")\n",
    "print(f\"Small number - Log method: {small_log_time} seconds\")\n",
    "print(f\"Large number - String method: {large_string_time} seconds\")\n",
    "print(f\"Large number - Log method: {large_log_time} seconds\")\n"
   ]
  },
  {
   "cell_type": "code",
   "execution_count": 15,
   "metadata": {},
   "outputs": [
    {
     "name": "stdout",
     "output_type": "stream",
     "text": [
      "Small number - String method: 0.014785399999709625 seconds, 14.785399999709625\n",
      "Small number - Log method: 0.029736399999819696 seconds, 29.736399999819696\n",
      "Large number - String method: 0.017379200000050332 seconds, 17.379200000050332\n",
      "Large number - Log method: 0.028846400000020367 seconds, 28.846400000020367\n"
     ]
    }
   ],
   "source": [
    "import timeit\n",
    "import math\n",
    "\n",
    "# 작은 숫자\n",
    "small_num = 12345\n",
    "\n",
    "# 큰 숫자\n",
    "large_num = 123_456_789_012_345_678_901_234_567_890\n",
    "\n",
    "# 문자열 변환 방식\n",
    "def string_method(num):\n",
    "    return len(str(num))\n",
    "\n",
    "# 로그 함수 방식\n",
    "def log_method(num):\n",
    "    return math.floor(math.log10(num)) + 1\n",
    "\n",
    "# 작은 숫자 테스트\n",
    "small_string_time = timeit.timeit('string_method(small_num)', globals=globals(), number=100000)\n",
    "small_log_time = timeit.timeit('log_method(small_num)', globals=globals(), number=100000)\n",
    "\n",
    "# 큰 숫자 테스트\n",
    "large_string_time = timeit.timeit('string_method(large_num)', globals=globals(), number=100000)\n",
    "large_log_time = timeit.timeit('log_method(large_num)', globals=globals(), number=100000)\n",
    "\n",
    "print(f\"Small number - String method: {small_string_time} seconds, {small_string_time*10**3}\")\n",
    "print(f\"Small number - Log method: {small_log_time} seconds, {small_log_time*10**3}\")\n",
    "print(f\"Large number - String method: {large_string_time} seconds, {large_string_time*10**3}\")\n",
    "print(f\"Large number - Log method: {large_log_time} seconds, {large_log_time*10**3}\")\n"
   ]
  },
  {
   "cell_type": "code",
   "execution_count": null,
   "metadata": {},
   "outputs": [],
   "source": [
    "# 1등 코드 - 내꺼랑 거의 동일, 내가 제출했을 때는 오히려 더 늦게 나옴\n",
    "L, R = input().split()\n",
    "ans = 0\n",
    "if len(L) == len(R):\n",
    "    for v1, v2 in zip(L, R):\n",
    "        if v1 != v2:\n",
    "            break\n",
    "        if v1 == '8':\n",
    "            ans += 1\n",
    "\n",
    "print(ans)"
   ]
  }
 ],
 "metadata": {
  "kernelspec": {
   "display_name": "Python 3",
   "language": "python",
   "name": "python3"
  },
  "language_info": {
   "codemirror_mode": {
    "name": "ipython",
    "version": 3
   },
   "file_extension": ".py",
   "mimetype": "text/x-python",
   "name": "python",
   "nbconvert_exporter": "python",
   "pygments_lexer": "ipython3",
   "version": "3.8.6"
  }
 },
 "nbformat": 4,
 "nbformat_minor": 2
}
