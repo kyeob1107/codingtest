{
 "cells": [
  {
   "cell_type": "markdown",
   "metadata": {},
   "source": [
    "https://www.acmicpc.net/problem/1120"
   ]
  },
  {
   "cell_type": "markdown",
   "metadata": {},
   "source": [
    "# tc"
   ]
  },
  {
   "cell_type": "markdown",
   "metadata": {},
   "source": [
    "adaabc aababbc\n",
    "\n",
    "hello xello\n",
    "\n",
    "koder topcoder\n",
    "\n",
    "abc topabcoder\n",
    "\n",
    "giorgi igroig"
   ]
  },
  {
   "cell_type": "markdown",
   "metadata": {},
   "source": [
    "# 코드"
   ]
  },
  {
   "cell_type": "code",
   "execution_count": 16,
   "metadata": {},
   "outputs": [
    {
     "name": "stdout",
     "output_type": "stream",
     "text": [
      "6\n"
     ]
    }
   ],
   "source": [
    "# 제일 먼저 단순무식하게 -> 생각보다는 빨리 되었음\n",
    "import sys\n",
    "# input = sys.stdin.readline\n",
    "input = open(\"input.txt\", \"rt\").readline\n",
    "\n",
    "A, B = input().split()\n",
    "la = len(A)\n",
    "lb = len(B)\n",
    "dif = len(A)\n",
    "for i in range(lb - la + 1):\n",
    "    cnt = 0\n",
    "    for sa, sb in zip(A, B[i:i + la]):\n",
    "        if sa != sb:\n",
    "            cnt += 1\n",
    "    dif = min(dif, cnt)\n",
    "print(dif)"
   ]
  },
  {
   "cell_type": "code",
   "execution_count": 8,
   "metadata": {},
   "outputs": [
    {
     "name": "stdout",
     "output_type": "stream",
     "text": [
      "6\n"
     ]
    }
   ],
   "source": [
    "# 불필요한 부분 더 확인안하게 했으니 더 줄지 않았을까 했는데 오히려 시간 늘었음\n",
    "import sys\n",
    "# input = sys.stdin.readline\n",
    "input = open(\"input.txt\", \"rt\").readline\n",
    "\n",
    "A, B = input().split()\n",
    "la = len(A)\n",
    "lb = len(B)\n",
    "dif = len(A)\n",
    "for i in range(lb - la + 1):\n",
    "    cnt = 0\n",
    "    for sa, sb in zip(A, B[i:i + la]):\n",
    "        if sa != sb:\n",
    "            cnt += 1\n",
    "        if dif <= cnt:\n",
    "            break\n",
    "    dif = min(dif, cnt)\n",
    "print(dif)"
   ]
  },
  {
   "cell_type": "code",
   "execution_count": null,
   "metadata": {},
   "outputs": [],
   "source": [
    "# 1등 코드\n",
    "result=51\n",
    "\n",
    "a,b=input().split()\n",
    "\n",
    "for y in range(len(b)-len(a)+1):\n",
    "    n=0\n",
    "    for x in range(len(a)):\n",
    "        if(a[x]!=b[x+y]):\n",
    "            n+=1\n",
    "    if(result>n):\n",
    "        result=n\n",
    "\n",
    "print(result)"
   ]
  }
 ],
 "metadata": {
  "kernelspec": {
   "display_name": "Python 3",
   "language": "python",
   "name": "python3"
  },
  "language_info": {
   "codemirror_mode": {
    "name": "ipython",
    "version": 3
   },
   "file_extension": ".py",
   "mimetype": "text/x-python",
   "name": "python",
   "nbconvert_exporter": "python",
   "pygments_lexer": "ipython3",
   "version": "3.8.6"
  }
 },
 "nbformat": 4,
 "nbformat_minor": 2
}
