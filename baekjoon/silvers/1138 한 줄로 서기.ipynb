{
 "cells": [
  {
   "cell_type": "markdown",
   "metadata": {},
   "source": [
    "https://www.acmicpc.net/problem/1138"
   ]
  },
  {
   "cell_type": "markdown",
   "metadata": {},
   "source": [
    "# tc"
   ]
  },
  {
   "cell_type": "markdown",
   "metadata": {},
   "source": [
    "4\n",
    "2 1 1 0\n",
    "\n",
    "5\n",
    "0 0 0 0 0\n",
    "\n",
    "6\n",
    "5 4 3 2 1 0\n",
    "\n",
    "7\n",
    "6 1 1 1 2 0 0"
   ]
  },
  {
   "cell_type": "markdown",
   "metadata": {},
   "source": [
    "# 코드"
   ]
  },
  {
   "cell_type": "code",
   "execution_count": 5,
   "metadata": {},
   "outputs": [
    {
     "name": "stdout",
     "output_type": "stream",
     "text": [
      "6 2 3 4 7 5 1\n"
     ]
    }
   ],
   "source": [
    "import sys\n",
    "# input = sys.stdin.readline\n",
    "input = open(\"input.txt\", \"rt\").readline\n",
    "\n",
    "N = int(input())\n",
    "info = map(int, input().split())\n",
    "line = [0] * N\n",
    "indexing = list(range(N))\n",
    "for i, p in enumerate(info):\n",
    "    height = i + 1\n",
    "    line[indexing[p]] =  height\n",
    "    indexing.remove(indexing[p])\n",
    "print(*line)"
   ]
  },
  {
   "cell_type": "code",
   "execution_count": 6,
   "metadata": {},
   "outputs": [
    {
     "name": "stdout",
     "output_type": "stream",
     "text": [
      "6 2 3 4 7 5 1\n"
     ]
    }
   ],
   "source": [
    "import sys\n",
    "# input = sys.stdin.readline\n",
    "input = open(\"input.txt\", \"rt\").readline\n",
    "\n",
    "N = int(input())\n",
    "info = map(int, input().split())\n",
    "line = [0] * N\n",
    "for i, p in enumerate(info):\n",
    "    height = i + 1\n",
    "    line[[i for i, v in enumerate(line) if not v][p]] =  height\n",
    "print(*line)"
   ]
  },
  {
   "cell_type": "code",
   "execution_count": 9,
   "metadata": {},
   "outputs": [
    {
     "name": "stdout",
     "output_type": "stream",
     "text": [
      "[0, 0, 1, 0]\n",
      "[0, 2, 1, 0]\n",
      "[0, 2, 1, 3]\n",
      "[4, 2, 1, 3]\n",
      "4 2 1 3\n"
     ]
    }
   ],
   "source": [
    "import sys\n",
    "# input = sys.stdin.readline\n",
    "input = open(\"input.txt\", \"rt\").readline\n",
    "\n",
    "N = int(input())\n",
    "info = list(map(int, input().split()))\n",
    "line = [0] * N\n",
    "\n",
    "for i in range(N):\n",
    "    spaces = info[i]\n",
    "    for j in range(N):\n",
    "        if spaces == 0 and line[j] == 0:\n",
    "            line[j] = i + 1\n",
    "            break\n",
    "        elif line[j] == 0:\n",
    "            spaces -= 1\n",
    "print(*line)"
   ]
  },
  {
   "cell_type": "code",
   "execution_count": 10,
   "metadata": {},
   "outputs": [
    {
     "name": "stdout",
     "output_type": "stream",
     "text": [
      "4 2 1 3\n"
     ]
    }
   ],
   "source": [
    "import sys\n",
    "# input = sys.stdin.readline\n",
    "input = open(\"input.txt\", \"rt\").readline\n",
    "\n",
    "N = int(input())\n",
    "info = list(map(int, input().split()))\n",
    "line = [0] * N\n",
    "\n",
    "for i in range(N):\n",
    "    empty_count = 0\n",
    "    for j in range(N):\n",
    "        if line[j] == 0:\n",
    "            if empty_count == info[i]:\n",
    "                line[j] = i + 1\n",
    "                break\n",
    "            empty_count += 1\n",
    "\n",
    "print(*line)"
   ]
  },
  {
   "cell_type": "code",
   "execution_count": null,
   "metadata": {},
   "outputs": [],
   "source": [
    "# 2등 코드(내가 두번째로 제출한게 1등임..., 그리고 그리 좋아보이는 아이디어는 아니여서 패스하면 될듯)\n",
    "n = int(input())\n",
    "data = list(map(int, input().split()))\n",
    "rst = [0]*n\n",
    "\n",
    "for i in range(1,n+1):\n",
    "    tmp = data[i-1]\n",
    "    cnt = 0\n",
    "    for j in range(n):\n",
    "        if cnt == tmp and rst[j] == 0:\n",
    "            rst[j] = i\n",
    "            break\n",
    "        elif rst[j] == 0:\n",
    "            cnt += 1\n",
    "print(*rst)"
   ]
  }
 ],
 "metadata": {
  "kernelspec": {
   "display_name": "Python 3",
   "language": "python",
   "name": "python3"
  },
  "language_info": {
   "codemirror_mode": {
    "name": "ipython",
    "version": 3
   },
   "file_extension": ".py",
   "mimetype": "text/x-python",
   "name": "python",
   "nbconvert_exporter": "python",
   "pygments_lexer": "ipython3",
   "version": "3.8.6"
  }
 },
 "nbformat": 4,
 "nbformat_minor": 2
}
