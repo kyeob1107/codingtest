{
 "cells": [
  {
   "cell_type": "markdown",
   "metadata": {},
   "source": [
    "https://www.acmicpc.net/problem/1141"
   ]
  },
  {
   "cell_type": "markdown",
   "metadata": {},
   "source": [
    "# tc"
   ]
  },
  {
   "cell_type": "markdown",
   "metadata": {},
   "source": [
    "6\n",
    "hello\n",
    "hi\n",
    "h\n",
    "run\n",
    "rerun\n",
    "running\n",
    "\n",
    "6\n",
    "a\n",
    "b\n",
    "cba\n",
    "cbc\n",
    "cbb\n",
    "ccc\n",
    "\n",
    "6\n",
    "a\n",
    "ab\n",
    "abc\n",
    "abcd\n",
    "abcde\n",
    "abcdef\n",
    "\n",
    "3\n",
    "topcoder\n",
    "topcoder\n",
    "topcoding"
   ]
  },
  {
   "cell_type": "markdown",
   "metadata": {},
   "source": [
    "7\n",
    "aaaaaaaaaaaaaaaaaaaaaaaaaaaaaaaaaaaaaaaaaaaaaaaaae\n",
    "aaaaaaaaaaaaaaaaaaaaaaaaaaaaaaaaaaaaaaaaaaaaaaaaad\n",
    "aaaaaaaaaaaaaaaaaaaaaaaaaaaaaaaaaaaaaaaaaaaaaaaaac\n",
    "aaaaaaaaaaaaaaaaaaaaaaaaaaaaaaaaaaaaaaaaaaaaaaaaaz\n",
    "aaaaaaaaaaaaaaaaaaaaaaaaaaaaaaaaaaaaaaaaaaaaaaaaaa\n",
    "aaa\n",
    "aaaa"
   ]
  },
  {
   "cell_type": "markdown",
   "metadata": {},
   "source": [
    "8\n",
    "a\n",
    "b\n",
    "aa\n",
    "ab\n",
    "aaa\n",
    "aab\n",
    "aaaa\n",
    "aaab"
   ]
  },
  {
   "cell_type": "markdown",
   "metadata": {},
   "source": [
    "# 코드"
   ]
  },
  {
   "cell_type": "code",
   "execution_count": 1,
   "metadata": {},
   "outputs": [
    {
     "name": "stdout",
     "output_type": "stream",
     "text": [
      "[[1, 0, 1, 1, 1, 1, 1, 1, 1], [0, 1, 0, 0, 0, 0, 0, 0, 0], [1, 0, 1, 0, 1, 1, 1, 1, 1], [1, 0, 0, 1, 0, 0, 0, 0, 0], [1, 0, 1, 0, 1, 0, 1, 1, 0], [1, 0, 1, 0, 0, 1, 0, 0, 0], [1, 0, 1, 0, 1, 0, 1, 0, 0], [1, 0, 1, 0, 1, 0, 0, 1, 0], [1, 0, 1, 0, 0, 0, 0, 0, 1]]\n",
      "2\n"
     ]
    }
   ],
   "source": [
    "# 첫시도 아이디어 안 떠올라서 막해봤는데 우연히 tc들은 다 맞고 제출하니 역시나 틀려서\n",
    "# 반례 하나 구해서 그걸로 보완했는데 역시나 틀림\n",
    "import sys\n",
    "# input = sys.stdin.readline\n",
    "input = open(\"input.txt\", \"rt\").readline\n",
    "\n",
    "N = int(input())\n",
    "word_list = []\n",
    "for _ in range(N):\n",
    "    word_list.append(input().strip())\n",
    "\n",
    "relation = [[0 if i!=j else 1 for j in range(N)] for i in range(N)]\n",
    "\n",
    "for i in range(N):\n",
    "    for j in range(N):\n",
    "        if relation[i][j] == 0 and all(s1 == s2 for s1, s2 in zip(word_list[i], word_list[j])):\n",
    "            relation[i][j] = 1\n",
    "            relation[j][i] = 1\n",
    "\n",
    "print(relation)\n",
    "ans = N - max(sum(check) for check in relation if sum(check)!=N) + 1\n",
    "print(ans)"
   ]
  },
  {
   "cell_type": "code",
   "execution_count": null,
   "metadata": {},
   "outputs": [],
   "source": [
    "# 중복을 변환 두번해서 제거"
   ]
  },
  {
   "cell_type": "code",
   "execution_count": 3,
   "metadata": {},
   "outputs": [
    {
     "name": "stdout",
     "output_type": "stream",
     "text": [
      "6\n"
     ]
    }
   ],
   "source": [
    "# 두번째 시도\n",
    "# 테스트 왠만한건 해본거 같은데 틀렸다고 나와서 모르겠음\n",
    "import sys\n",
    "# input = sys.stdin.readline\n",
    "input = open(\"input.txt\", \"rt\").readline\n",
    "\n",
    "N = int(input())\n",
    "word_list = []\n",
    "for _ in range(N):\n",
    "    word_list.append(input().strip())\n",
    "\n",
    "max_cnt = 0\n",
    "for seed in word_list:\n",
    "    temp = [seed]\n",
    "    for compare in word_list:\n",
    "        if all(any(s1!=s2 for s1, s2 in zip(check, compare)) for check in temp):\n",
    "            temp.append(compare)\n",
    "    # print(temp)\n",
    "    if max_cnt < len(temp):\n",
    "        max_cnt = len(temp)\n",
    "print(max_cnt)"
   ]
  },
  {
   "cell_type": "code",
   "execution_count": 4,
   "metadata": {},
   "outputs": [
    {
     "name": "stdout",
     "output_type": "stream",
     "text": [
      "6\n"
     ]
    }
   ],
   "source": [
    "# 다른 곳에서 아이디어 차용해서 해본 것\n",
    "import sys\n",
    "# input = sys.stdin.readline\n",
    "input = open(\"input.txt\", \"rt\").readline\n",
    "\n",
    "N = int(input())\n",
    "word_list = []\n",
    "for _ in range(N):\n",
    "    word_list.append(input().strip())\n",
    "\n",
    "word_list.sort(key=len)\n",
    "cnt = 0\n",
    "\n",
    "for i in range(N):\n",
    "    prefix = False\n",
    "    if all(not word_list[j].startswith(word_list[i]) for j in range(i + 1, N)):\n",
    "        cnt += 1\n",
    "print(cnt)"
   ]
  },
  {
   "cell_type": "code",
   "execution_count": 1,
   "metadata": {},
   "outputs": [
    {
     "name": "stdout",
     "output_type": "stream",
     "text": [
      "5\n"
     ]
    }
   ],
   "source": [
    "# 1등 코드\n",
    "\n",
    "n = int(input())\n",
    "string_set = [input() for _ in range(n)]\n",
    "string_set.sort()\n",
    "answer = 1\n",
    "\n",
    "for i in range(1, n):\n",
    "    if string_set[i-1] != string_set[i][:len(string_set[i-1])]:\n",
    "        answer += 1\n",
    "\n",
    "print(answer)"
   ]
  },
  {
   "cell_type": "code",
   "execution_count": 6,
   "metadata": {},
   "outputs": [
    {
     "name": "stdout",
     "output_type": "stream",
     "text": [
      "['a', 'aa', 'aaa', 'aaaa', 'aaab', 'aab', 'aaca', 'ab', 'b']\n",
      "6\n"
     ]
    }
   ],
   "source": [
    "# 1등 코드 확인용\n",
    "import sys\n",
    "# input = sys.stdin.readline\n",
    "input = open(\"input.txt\", \"rt\").readline\n",
    "\n",
    "\n",
    "n = int(input())\n",
    "string_set = [input().strip() for _ in range(n)]\n",
    "string_set.sort()\n",
    "answer = 1\n",
    "# print(string_set)\n",
    "for i in range(1, n):\n",
    "    if string_set[i-1] != string_set[i][:len(string_set[i-1])]:\n",
    "        answer += 1\n",
    "\n",
    "print(answer)"
   ]
  }
 ],
 "metadata": {
  "kernelspec": {
   "display_name": "Python 3",
   "language": "python",
   "name": "python3"
  },
  "language_info": {
   "codemirror_mode": {
    "name": "ipython",
    "version": 3
   },
   "file_extension": ".py",
   "mimetype": "text/x-python",
   "name": "python",
   "nbconvert_exporter": "python",
   "pygments_lexer": "ipython3",
   "version": "3.8.6"
  }
 },
 "nbformat": 4,
 "nbformat_minor": 2
}
