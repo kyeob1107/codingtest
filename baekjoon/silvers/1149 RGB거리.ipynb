{
 "cells": [
  {
   "cell_type": "markdown",
   "metadata": {},
   "source": [
    "https://www.acmicpc.net/problem/1149"
   ]
  },
  {
   "cell_type": "markdown",
   "metadata": {},
   "source": [
    "# tc"
   ]
  },
  {
   "cell_type": "markdown",
   "metadata": {},
   "source": [
    "3\n",
    "26 40 83\n",
    "49 60 57\n",
    "13 89 99\n",
    "\n",
    "3\n",
    "1 100 100\n",
    "100 1 100\n",
    "100 100 1\n",
    "\n",
    "3\n",
    "1 100 100\n",
    "100 100 100\n",
    "1 100 100\n",
    "\n",
    "6\n",
    "30 19 5\n",
    "64 77 64\n",
    "15 19 97\n",
    "4 71 57\n",
    "90 86 84\n",
    "93 32 91\n",
    "\n",
    "8\n",
    "71 39 44\n",
    "32 83 55\n",
    "51 37 63\n",
    "89 29 100\n",
    "83 58 11\n",
    "65 13 15\n",
    "47 25 29\n",
    "60 66 19"
   ]
  },
  {
   "cell_type": "markdown",
   "metadata": {},
   "source": [
    "## 풀이\n",
    "8\n",
    "0 32 0 5\n",
    "1 0 51 23\n",
    "2 14 0 26\n",
    "3 60 0 71\n",
    "4 72 47 0\n",
    "5 52 0 2\n",
    "6 22 0 4\n",
    "7 41 47 0\n",
    "\n",
    "0 71 39 44\n",
    "1 32 83 55\n",
    "2 51 37 63\n",
    "3 89 29 100\n",
    "4 83 58 11\n",
    "5 65 13 15\n",
    "6 47 25 29\n",
    "7 60 66 19\n",
    "\n",
    "0 39\n",
    "1 32\n",
    "2 63\n",
    "3 29\n",
    "4 11\n",
    "5 13\n",
    "6 47\n",
    "7 19"
   ]
  },
  {
   "cell_type": "markdown",
   "metadata": {},
   "source": [
    "# 코드"
   ]
  },
  {
   "cell_type": "code",
   "execution_count": 5,
   "metadata": {},
   "outputs": [
    {
     "name": "stdout",
     "output_type": "stream",
     "text": [
      "[[71, 39, 44], [32, 83, 55], [51, 37, 63], [89, 29, 100], [83, 58, 11], [65, 13, 15], [47, 25, 29], [60, 66, 19]]\n",
      "310\n"
     ]
    }
   ],
   "source": [
    "# 무작정 처음 부터 작은 것 찾아서 가면 되지 않을까해서 해봤는데 역시나 안됨\n",
    "import sys\n",
    "# input = sys.stdin.readline\n",
    "input = open(\"input.txt\", \"rt\").readline\n",
    "\n",
    "N = int(input())\n",
    "info = [list(map(int, input().split())) for _ in range(N)]\n",
    "min_cost = 1000 * N\n",
    "print(info)\n",
    "\n",
    "for start, c in enumerate(info[0]):\n",
    "    cost = c\n",
    "    color = start\n",
    "    # print(start, c)\n",
    "    for i in range(1, N):\n",
    "        temp_cost = 1000\n",
    "        for option_i, option_cost in enumerate(info[i]):\n",
    "            if color != option_i and temp_cost > option_cost:\n",
    "                # print(f'이게 왜 같은게 나오지? color: {color}, option_i: {option_i}')\n",
    "                temp_color = option_i\n",
    "                temp_cost = option_cost\n",
    "        # print(\"이번엔 이거: \", color, temp_cost)\n",
    "        color = temp_color\n",
    "        cost += temp_cost\n",
    "    # print(\"총합: \",cost)\n",
    "    if cost < min_cost:\n",
    "        min_cost = cost\n",
    "print(min_cost)"
   ]
  },
  {
   "cell_type": "code",
   "execution_count": 13,
   "metadata": {},
   "outputs": [
    {
     "name": "stdout",
     "output_type": "stream",
     "text": [
      "96\n"
     ]
    }
   ],
   "source": [
    "# 입력버퍼 하나씩 가져와서 이용하고 그 다음 가지고 오고 하는 방식 코드1\n",
    "import sys\n",
    "# input = sys.stdin.readline\n",
    "input = open(\"input.txt\", \"rt\").readline\n",
    "\n",
    "N = int(input())\n",
    "pre_house, cal_cost = [0, 0, 0], [0, 0, 0]\n",
    "for _ in range(N):\n",
    "    input_data = list(map(int, input().split()))\n",
    "    cal_cost[0] = min(pre_house[1] + input_data[0], pre_house[2] + input_data[0])\n",
    "    cal_cost[1] = min(pre_house[0] + input_data[1], pre_house[2] + input_data[1])\n",
    "    cal_cost[2] = min(pre_house[1] + input_data[2], pre_house[0] + input_data[2])\n",
    "    pre_house = cal_cost.copy() # 주의! 그냥 같다하면 메모리 주소가 복사됨\n",
    "\n",
    "print(min(pre_house))"
   ]
  },
  {
   "cell_type": "code",
   "execution_count": 4,
   "metadata": {},
   "outputs": [
    {
     "name": "stdout",
     "output_type": "stream",
     "text": [
      "3\n"
     ]
    }
   ],
   "source": [
    "# 미리 다 입력 기록해두고 하는 방식 코드2\n",
    "import sys\n",
    "# input = sys.stdin.readline\n",
    "input = open(\"input.txt\", \"rt\").readline\n",
    "\n",
    "N = int(input())\n",
    "info = [list(map(int, input().split())) for _ in range(N)]\n",
    "cal_cost = [0, 0, 0]\n",
    "for i in range(N - 1):\n",
    "    cal_cost[0] = min(info[i][1] + info[i + 1][0], info[i][2] + info[i + 1][0])\n",
    "    cal_cost[1] = min(info[i][0] + info[i + 1][1], info[i][2] + info[i + 1][1])\n",
    "    cal_cost[2] = min(info[i][1] + info[i + 1][2], info[i][0] + info[i + 1][2])\n",
    "    info[i + 1] = cal_cost.copy() # 주의! 그냥 같다하면 메모리 주소가 복사됨\n",
    "\n",
    "print(min(info[-1]))"
   ]
  },
  {
   "cell_type": "code",
   "execution_count": null,
   "metadata": {},
   "outputs": [],
   "source": [
    "# 참고한 코드\n",
    "n = int(input())\n",
    "a = [0]*n\n",
    "\n",
    "for i in range(n):\n",
    "    a[i] = list(map(int,input().split()))\n",
    "    \n",
    "for i in range(1,n): # 1부터 시작하는 이유는 다음 입력값이 이전 입력값의 최소값을 사용하기때문이다\n",
    "    a[i][0]= min(a[i-1][1],a[i-1][2]) + a[i][0]\n",
    "    a[i][1]= min(a[i-1][0],a[i-1][2]) + a[i][1]\n",
    "    a[i][2]= min(a[i-1][0],a[i-1][1]) + a[i][2]\n",
    "\n",
    "print(min(a[n-1][0],a[n-1][1],a[n-1][2]))"
   ]
  },
  {
   "cell_type": "code",
   "execution_count": null,
   "metadata": {},
   "outputs": [],
   "source": [
    "# 뤼튼에게 코드1 개선해달라고 한 것\n",
    "import sys\n",
    "# input = sys.stdin.readline\n",
    "input = open(\"input.txt\", \"rt\").readline\n",
    "\n",
    "N = int(input())\n",
    "pre_house = [0, 0, 0]\n",
    "\n",
    "for _ in range(N):\n",
    "    current_cost = list(map(int, input().split()))\n",
    "    new_cost = [\n",
    "        min(pre_house[1] + current_cost[0], pre_house[2] + current_cost[0]),\n",
    "        min(pre_house[0] + current_cost[1], pre_house[2] + current_cost[1]),\n",
    "        min(pre_house[0] + current_cost[2], pre_house[1] + current_cost[2])\n",
    "    ]\n",
    "    pre_house = new_cost\n",
    "\n",
    "print(min(pre_house))"
   ]
  },
  {
   "cell_type": "code",
   "execution_count": null,
   "metadata": {},
   "outputs": [],
   "source": [
    "# 뤼튼에게 코드2 개선해달라고 한 것\n",
    "import sys\n",
    "# input = sys.stdin.readline\n",
    "input = open(\"input.txt\", \"rt\").readline\n",
    "\n",
    "N = int(input())\n",
    "info = [list(map(int, input().split())) for _ in range(N)]\n",
    "\n",
    "for i in range(1, N):\n",
    "    info[i][0] += min(info[i-1][1], info[i-1][2])\n",
    "    info[i][1] += min(info[i-1][0], info[i-1][2])\n",
    "    info[i][2] += min(info[i-1][0], info[i-1][1])\n",
    "\n",
    "print(min(info[-1]))"
   ]
  },
  {
   "cell_type": "code",
   "execution_count": null,
   "metadata": {},
   "outputs": [],
   "source": [
    "# 1등 코드\n",
    "import sys\n",
    "input = sys.stdin.readline\n",
    "n = int(input())\n",
    "dp = []\n",
    "for i in range(n):\n",
    "    dp.append(list(map(int,input().split())))\n",
    "for i in range(1,n):\n",
    "    dp[i][0] = min(dp[i-1][1],dp[i-1][2]) + dp[i][0]\n",
    "    dp[i][1] = min(dp[i-1][0],dp[i-1][2]) + dp[i][1]\n",
    "    dp[i][2] = min(dp[i-1][0],dp[i-1][1]) + dp[i][2]\n",
    "\n",
    "print(min(dp[n-1]))"
   ]
  }
 ],
 "metadata": {
  "kernelspec": {
   "display_name": "Python 3",
   "language": "python",
   "name": "python3"
  },
  "language_info": {
   "codemirror_mode": {
    "name": "ipython",
    "version": 3
   },
   "file_extension": ".py",
   "mimetype": "text/x-python",
   "name": "python",
   "nbconvert_exporter": "python",
   "pygments_lexer": "ipython3",
   "version": "3.8.6"
  }
 },
 "nbformat": 4,
 "nbformat_minor": 2
}
