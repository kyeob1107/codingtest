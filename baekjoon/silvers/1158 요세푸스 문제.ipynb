{
 "cells": [
  {
   "cell_type": "markdown",
   "metadata": {},
   "source": [
    "https://www.acmicpc.net/problem/1158"
   ]
  },
  {
   "cell_type": "markdown",
   "metadata": {},
   "source": [
    "# tc"
   ]
  },
  {
   "cell_type": "markdown",
   "metadata": {},
   "source": [
    "7 3"
   ]
  },
  {
   "cell_type": "markdown",
   "metadata": {},
   "source": [
    "# 코드"
   ]
  },
  {
   "cell_type": "code",
   "execution_count": 16,
   "metadata": {},
   "outputs": [
    {
     "name": "stdout",
     "output_type": "stream",
     "text": [
      "<3, 6, 2, 7, 5, 1, 4>\n"
     ]
    }
   ],
   "source": [
    "import sys\n",
    "# input = sys.stdin.readline\n",
    "input = open(\"input.txt\", \"rt\").readline\n",
    "\n",
    "N, K = map(int, input().split())\n",
    "result = []\n",
    "remain_list = [*range(1, N+1)]\n",
    "\n",
    "pop_index = 0\n",
    "while remain_list:\n",
    "    pop_index = (pop_index + K - 1) % len(remain_list)\n",
    "    result.append(remain_list.pop(pop_index))\n",
    "\n",
    "ans = \", \".join(map(str,result))\n",
    "print(f\"<{ans}>\")"
   ]
  },
  {
   "cell_type": "code",
   "execution_count": null,
   "metadata": {},
   "outputs": [],
   "source": [
    "# 1등 코드\n",
    "N, K = list(map(int, input().split()))\n",
    "K -= 1\n",
    "lst = [x for x in range(1, N+1)]\n",
    "\n",
    "result = []\n",
    "\n",
    "idx = K\n",
    "while True:\n",
    "    if len(lst) == 0:break\n",
    "    elif len(lst) <= idx:\n",
    "        idx = idx % len(lst)\n",
    "        res = lst.pop(idx)\n",
    "    else:\n",
    "        res = lst.pop(idx)\n",
    "        \n",
    "    idx += K\n",
    "    result.append(res)\n",
    "        \n",
    "    \n",
    "        \n",
    "result = str(result).replace('[', '<').replace(']', '>')\n",
    "print(result)"
   ]
  },
  {
   "cell_type": "code",
   "execution_count": null,
   "metadata": {},
   "outputs": [],
   "source": [
    "# 2등 숏코딩인듯\n",
    "n,k=map(int,input().split())\n",
    "i,*q=range(n+1)\n",
    "print(f\"<{str([q.pop(i:=(i+k-1)%p)for p in q[::-1]])[1:-1]}>\")"
   ]
  },
  {
   "cell_type": "code",
   "execution_count": 18,
   "metadata": {},
   "outputs": [
    {
     "name": "stdout",
     "output_type": "stream",
     "text": [
      "[3, 6, 2, 7, 5, 1, 4]\n",
      "<3, 6, 2, 7, 5, 1, 4>\n"
     ]
    }
   ],
   "source": [
    "# 2등 코드 이해용\n",
    "import sys\n",
    "# input = sys.stdin.readline\n",
    "input = open(\"input.txt\", \"rt\").readline\n",
    "n,k = map(int,input().split())\n",
    "i,*q = range(n+1)\n",
    "\n",
    "result = []\n",
    "for p in q[::-1]:\n",
    "    i = ( i + k - 1) % p\n",
    "    result.append(q.pop(i))\n",
    "print(str(result))\n",
    "ans = str(result)[1:-1]\n",
    "print(f\"<{ans}>\")"
   ]
  },
  {
   "cell_type": "code",
   "execution_count": 19,
   "metadata": {},
   "outputs": [
    {
     "name": "stdout",
     "output_type": "stream",
     "text": [
      "<3, 6, 2, 7, 5, 1, 4>\n"
     ]
    }
   ],
   "source": [
    "# 가장 좋다고 생각되는 대로 개선한 코드 2등 코드 이해용가지고 출력방식만 변경\n",
    "import sys\n",
    "# input = sys.stdin.readline\n",
    "input = open(\"input.txt\", \"rt\").readline\n",
    "n,k = map(int,input().split())\n",
    "i,*q = range(n+1)\n",
    "\n",
    "result = []\n",
    "for p in q[::-1]:\n",
    "    i = ( i + k - 1) % p\n",
    "    result.append(q.pop(i))\n",
    "ans = \", \".join(map(str,result))\n",
    "print(f\"<{ans}>\")"
   ]
  }
 ],
 "metadata": {
  "kernelspec": {
   "display_name": "Python 3",
   "language": "python",
   "name": "python3"
  },
  "language_info": {
   "codemirror_mode": {
    "name": "ipython",
    "version": 3
   },
   "file_extension": ".py",
   "mimetype": "text/x-python",
   "name": "python",
   "nbconvert_exporter": "python",
   "pygments_lexer": "ipython3",
   "version": "3.8.6"
  }
 },
 "nbformat": 4,
 "nbformat_minor": 2
}
