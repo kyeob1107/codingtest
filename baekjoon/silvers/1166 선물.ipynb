{
 "cells": [
  {
   "cell_type": "markdown",
   "metadata": {},
   "source": [
    "https://www.acmicpc.net/problem/1166"
   ]
  },
  {
   "cell_type": "markdown",
   "metadata": {},
   "source": [
    "# tc"
   ]
  },
  {
   "cell_type": "markdown",
   "metadata": {},
   "source": [
    "10 4 2 10\n",
    "\n",
    "2 2 2 2\n",
    "\n",
    "1 12 47 5\n",
    "\n",
    "77 146 523 229"
   ]
  },
  {
   "cell_type": "markdown",
   "metadata": {},
   "source": [
    "2 1 1 1\n",
    "\n",
    "1 1 1 8"
   ]
  },
  {
   "cell_type": "markdown",
   "metadata": {},
   "source": [
    "# 코드"
   ]
  },
  {
   "cell_type": "code",
   "execution_count": 17,
   "metadata": {},
   "outputs": [
    {
     "name": "stdout",
     "output_type": "stream",
     "text": [
      "77 146 523 229\n",
      "0.016390803081626232\n",
      "0.016390803081626232\n",
      "17485982.0\n",
      "2.39305724991743 8.57239001169052 3.753493905692407\n"
     ]
    }
   ],
   "source": [
    "# 해보다가 폐기\n",
    "import sys\n",
    "# input = sys.stdin.readline\n",
    "input = open(\"input.txt\", \"rt\").readline\n",
    "def gcdlcm(a, b): #유클리드 호제법으로 잘짜둔것 가져온것\n",
    "    c,d = max(a, b), min(a, b)\n",
    "    t = 1\n",
    "    while t>0:\n",
    "        t = c%d\n",
    "        c, d = d, t\n",
    "    answer = [ c, int (a*b/c)]\n",
    "    return answer\n",
    "\n",
    "N, L, W, H = map(int, input().split())\n",
    "gcd = gcdlcm(gcdlcm(L, W)[0], H)[0]\n",
    "l, w, h = L/gcd, W/gcd, H/gcd\n",
    "\n",
    "print(N, L, W, H)\n",
    "print((N / (L * W * H))**(1/3))\n",
    "ratio = (N / (l * w * h))**(1/3)\n",
    "print(ratio)\n",
    "print(l*w*h)\n",
    "print(L*ratio,W*ratio,H*ratio)\n",
    "\n",
    "if (L * W * H) // gcd**3 < N:\n",
    "    print(((L * W * H)/N)**(1/3))"
   ]
  },
  {
   "cell_type": "code",
   "execution_count": 10,
   "metadata": {},
   "outputs": [
    {
     "name": "stdout",
     "output_type": "stream",
     "text": [
      "52.3\n"
     ]
    }
   ],
   "source": [
    "import sys\n",
    "# input = sys.stdin.readline\n",
    "input = open(\"input.txt\", \"rt\").readline\n",
    "\n",
    "N, L, W, H = map(int, input().split())\n",
    "start, end = 0, max(L, W, H)\n",
    "\n",
    "for i in range(100):\n",
    "    mid = (start + end) / 2\n",
    "    if (L//mid) * (W//mid) * (H//mid) < N:\n",
    "        end = mid\n",
    "    else:\n",
    "        start = mid\n",
    "print(mid)"
   ]
  },
  {
   "cell_type": "code",
   "execution_count": 11,
   "metadata": {},
   "outputs": [
    {
     "name": "stdout",
     "output_type": "stream",
     "text": [
      "52.3\n"
     ]
    }
   ],
   "source": [
    "# 다들 max로 해뒀던데 사실 의미상 min으로 해도 되는게 아닌가 해서 min으로 해서 해봄 - 해도 통과 되었음 다들 왜 max로 했는지 모르겠음\n",
    "# 속도는 약간 더 느리게 나왔는데 이전에 제출한 코드 다시 제춣해보니 더더 늦게 나와서 실제 코드 성능과 별개로 결과 나온듯\n",
    "import sys\n",
    "# input = sys.stdin.readline\n",
    "input = open(\"input.txt\", \"rt\").readline\n",
    "\n",
    "N, L, W, H = map(int, input().split())\n",
    "start, end = 0, min(L, W, H)\n",
    "\n",
    "for i in range(100):\n",
    "    mid = (start + end) / 2\n",
    "    if (L//mid) * (W//mid) * (H//mid) < N:\n",
    "        end = mid\n",
    "    else:\n",
    "        start = mid\n",
    "print(mid)"
   ]
  },
  {
   "cell_type": "code",
   "execution_count": null,
   "metadata": {},
   "outputs": [],
   "source": [
    "# 참고 했던 어떤 것인데 for부분은 굳이 일것 같긴한데 while 저런 식으로 하면 시간초과난다고 함\n",
    "\"\"\"def binary_search(start , end):\n",
    "\n",
    "    while start+0.000000001<=end:\n",
    "        mid = (start+end)/2\n",
    "        if (L//mid)*(H//mid)*(W//mid)>=N:\n",
    "            start = mid+0.00000001\n",
    "        else:\n",
    "            end = mid-0.00000001\n",
    "    return start\"\"\"\n",
    "\n",
    "\"\"\"import sys,math\n",
    "input=sys.stdin.readline\n",
    "from functools import lru_cache\n",
    "from collections import deque\n",
    "LMI=lambda:list(map(int,input().split()))\n",
    "LMS=lambda:list(map(str,input().split()))\n",
    "MI=lambda:map(int,input().split())\n",
    "I=lambda:int(input())\n",
    "GI=lambda x:[ LMI() for _ in range(x) ]\n",
    "GS=lambda x:[ LMS() for _ in range(x) ]\n",
    "V=lambda x,y:[ [False]*y for _ in range(x) ]\n",
    "\n",
    "def binary_search(start , end):\n",
    "\n",
    "    for i in range(100):\n",
    "        mid = (start+end)/2\n",
    "        if (L//mid)*(W//mid)*(H//mid)>=N:\n",
    "            start = mid\n",
    "        else:\n",
    "            end = mid\n",
    "    return end\n",
    "\n",
    "N,L,W,H=MI()\n",
    "print(binary_search(0,max(L,H,W)))\"\"\""
   ]
  },
  {
   "cell_type": "markdown",
   "metadata": {},
   "source": [
    "$$[ \\frac{b - a}{2^n} \\leq 10^{-9} ]$$\n",
    "$$[ 2^n \\geq \\frac{b - a}{10^{-9}} ]$$\n",
    "$$[ n \\geq \\log_2 \\left( \\frac{b - a}{10^{-9}} \\right) ]$$\n",
    "$$[ n \\geq \\log_2 \\left( \\frac{1}{10^{-9}} \\right) ]$$\n",
    "$$[ n \\geq \\log_2 (10^9) ]$$\n",
    "$$[ n \\geq 9 \\cdot \\log_2 (10) \\approx 9 \\cdot 3.3219 = 29.8971 ]$$"
   ]
  },
  {
   "cell_type": "code",
   "execution_count": 18,
   "metadata": {},
   "outputs": [
    {
     "name": "stdout",
     "output_type": "stream",
     "text": [
      "59.79470570797252\n",
      "59.79470570797252\n"
     ]
    }
   ],
   "source": [
    "import math\n",
    "print(18 * math.log2(10))\n",
    "print(18 * 1/math.log10(2)) # 주의 잠깐 착각했는데 파이썬에서 log는 ln을 의미"
   ]
  },
  {
   "cell_type": "code",
   "execution_count": null,
   "metadata": {},
   "outputs": [],
   "source": [
    "# 요구하는 정밀도 계산해서 최소한만 반복해보는 것\n",
    "import sys\n",
    "# input = sys.stdin.readline\n",
    "input = open(\"input.txt\", \"rt\").readline\n",
    "\n",
    "N, L, W, H = map(int, input().split())\n",
    "start, end = 0, min(L, W, H)\n",
    "\n",
    "for i in range(60):\n",
    "    mid = (start + end) / 2\n",
    "    if (L//mid) * (W//mid) * (H//mid) < N:\n",
    "        end = mid\n",
    "    else:\n",
    "        start = mid\n",
    "print(mid)"
   ]
  },
  {
   "cell_type": "code",
   "execution_count": null,
   "metadata": {},
   "outputs": [],
   "source": [
    "# 1등 코드 사실 그렇게 볼내용은 없는듯\n",
    "N,L,W,H=map(int,input().split())\n",
    "start, end = 0, max(L,W,H)\n",
    "for _ in range(100):\n",
    "    middle = (start+end)/2\n",
    "    if (L//middle)*(W//middle)*(H//middle) >= N:\n",
    "        start = middle\n",
    "    else:\n",
    "        end = middle\n",
    "print(f'{end:.10f}')"
   ]
  },
  {
   "cell_type": "code",
   "execution_count": null,
   "metadata": {},
   "outputs": [],
   "source": [
    "# 4등 코드 뭔가 함수 두개 만들긴 했는데 굳이 쉽기는 함\n",
    "#\n",
    "# 첫째 줄에 네 정수 N, L, W, H가 주어진다.\n",
    "# \n",
    "import sys\n",
    "input = sys.stdin.readline\n",
    "\n",
    "#입력받기\n",
    "N, L, W, H = map(int, input().split())\n",
    "\n",
    "#사이즈 확인\n",
    "def check_box_size(mid):\n",
    "    return (L // mid) * (W // mid) * (H // mid) >= N\n",
    "\n",
    "def binary_search(start, end):\n",
    "    for _ in range(100):\n",
    "        mid = (start + end) / 2\n",
    "        if check_box_size(mid):\n",
    "            start = mid\n",
    "        else:\n",
    "            end = mid\n",
    "    return start\n",
    "\n",
    "start = 0\n",
    "end = min(L, W, H)\n",
    "ans = binary_search(start, end)\n",
    "print(f\"{ans:.15f}\")"
   ]
  },
  {
   "cell_type": "code",
   "execution_count": null,
   "metadata": {},
   "outputs": [],
   "source": [
    "# 5등 코드 마찬가지\n",
    "N, L, W, H = map(int, input().split())\n",
    "s, e = 0, max(L, W, H)\n",
    "for _ in range(100):\n",
    "    m = (s+e)/2\n",
    "    if (L//m)*(W//m)*(H//m) >= N:\n",
    "        s = m\n",
    "    else:\n",
    "        e = m\n",
    "print(\"%.10f\" %(e))"
   ]
  },
  {
   "cell_type": "code",
   "execution_count": 1,
   "metadata": {},
   "outputs": [
    {
     "name": "stdout",
     "output_type": "stream",
     "text": [
      "52.300000000\n"
     ]
    }
   ],
   "source": [
    "# 몇등인지도 모르겠는데 그냥 보다가 특이한 메소드 있어서 기록, 그리고 while이용\n",
    "num, a, b, c = map(int, input().split())\n",
    "a *= (10 ** 9)\n",
    "b *= (10 ** 9)\n",
    "c *= (10 ** 9)\n",
    "left, right = 1, min(a, b, c)\n",
    "\n",
    "while(right - left > 1):\n",
    "    mid = (left + right) // 2\n",
    "    if((a // mid) * (b // mid) * (c // mid) >= num): left = mid\n",
    "    else: right = mid - 1\n",
    "answer = right if((a // right) * (b // right) * (c // right) >= num) else left\n",
    "\n",
    "print(answer // 1000000000, end = \"\")\n",
    "print('.', end = \"\")\n",
    "print(str(answer % 1000000000).rjust(9, '0'))"
   ]
  }
 ],
 "metadata": {
  "kernelspec": {
   "display_name": "Python 3",
   "language": "python",
   "name": "python3"
  },
  "language_info": {
   "codemirror_mode": {
    "name": "ipython",
    "version": 3
   },
   "file_extension": ".py",
   "mimetype": "text/x-python",
   "name": "python",
   "nbconvert_exporter": "python",
   "pygments_lexer": "ipython3",
   "version": "3.8.6"
  }
 },
 "nbformat": 4,
 "nbformat_minor": 2
}
