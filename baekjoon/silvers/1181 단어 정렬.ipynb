{
 "cells": [
  {
   "cell_type": "markdown",
   "metadata": {},
   "source": [
    "https://www.acmicpc.net/problem/1181"
   ]
  },
  {
   "cell_type": "markdown",
   "metadata": {},
   "source": [
    "# tc"
   ]
  },
  {
   "cell_type": "markdown",
   "metadata": {},
   "source": [
    "13\n",
    "but\n",
    "i\n",
    "wont\n",
    "hesitate\n",
    "no\n",
    "more\n",
    "no\n",
    "more\n",
    "it\n",
    "cannot\n",
    "wait\n",
    "im\n",
    "yours"
   ]
  },
  {
   "cell_type": "markdown",
   "metadata": {},
   "source": [
    "# 코드"
   ]
  },
  {
   "cell_type": "code",
   "execution_count": 10,
   "metadata": {},
   "outputs": [
    {
     "name": "stdout",
     "output_type": "stream",
     "text": [
      "i\n",
      "im\n",
      "it\n",
      "no\n",
      "but\n",
      "more\n",
      "wait\n",
      "wont\n",
      "yours\n",
      "cannot\n",
      "hesitate\n"
     ]
    }
   ],
   "source": [
    "# 1차시도 되긴 했지만 매우 느림\n",
    "import sys\n",
    "# input = sys.stdin.readline\n",
    "input = open(\"input.txt\", \"rt\").readline\n",
    "N = int(input())\n",
    "data = dict()\n",
    "ans = []\n",
    "for _ in range(N):\n",
    "    word = input().strip()\n",
    "    if len(word) in data:\n",
    "        data[len(word)].append(word)\n",
    "    else:\n",
    "        data[len(word)] = [word]\n",
    "\n",
    "for l in sorted(data.keys()):\n",
    "    data[l].sort()\n",
    "    for s in data[l]:\n",
    "        if s not in ans:\n",
    "            ans.append(s)\n",
    "        \n",
    "for p in ans:\n",
    "    print(p)"
   ]
  },
  {
   "cell_type": "code",
   "execution_count": 17,
   "metadata": {},
   "outputs": [
    {
     "name": "stdout",
     "output_type": "stream",
     "text": [
      "i\n",
      "im\n",
      "it\n",
      "no\n",
      "but\n",
      "more\n",
      "wait\n",
      "wont\n",
      "yours\n",
      "cannot\n",
      "hesitate\n"
     ]
    }
   ],
   "source": [
    "# 2차시도 정렬 먼저하고 글자순대로 배치\n",
    "import sys\n",
    "# input = sys.stdin.readline\n",
    "input = open(\"input.txt\", \"rt\").readline\n",
    "N = int(input())\n",
    "word_len = [0] * 50\n",
    "data = []\n",
    "for _ in range(N):\n",
    "    w_temp = input().strip()\n",
    "    if w_temp not in data:\n",
    "        data.append(w_temp)\n",
    "    if not word_len[len(w_temp) - 1]:\n",
    "        word_len[len(w_temp) - 1] = 1\n",
    "lens = [l + 1 for l, c in enumerate(word_len) if c]\n",
    "data.sort()\n",
    "ans = []\n",
    "for l in lens:\n",
    "    ans += [s for s in data if len(s) == l]\n",
    "for p in ans:\n",
    "    print(p)"
   ]
  },
  {
   "cell_type": "code",
   "execution_count": 18,
   "metadata": {},
   "outputs": [
    {
     "name": "stdout",
     "output_type": "stream",
     "text": [
      "i\n",
      "im\n",
      "it\n",
      "no\n",
      "but\n",
      "more\n",
      "wait\n",
      "wont\n",
      "yours\n",
      "cannot\n",
      "hesitate\n"
     ]
    }
   ],
   "source": [
    "# 뤼튼에게 개선해달라고 하면서 알게된 것 sorted의 key인자를 활용하면 한번에 여러기준으로 정렬 바로 가능함\n",
    "import sys\n",
    "# input = sys.stdin.readline\n",
    "input = open(\"input.txt\", \"rt\").readline\n",
    "\n",
    "N = int(input().strip())ㅁ\n",
    "data = set()\n",
    "\n",
    "for _ in range(N):\n",
    "    w_temp = input().strip()\n",
    "    data.add(w_temp)\n",
    "\n",
    "# 데이터를 길이와 사전순으로 정렬\n",
    "sorted_data = sorted(data, key=lambda x: (len(x), x))\n",
    "\n",
    "for word in sorted_data:\n",
    "    print(word)"
   ]
  },
  {
   "cell_type": "code",
   "execution_count": null,
   "metadata": {},
   "outputs": [],
   "source": [
    "# 1등 코드 숏코딩 형태인듯\n",
    "import os\n",
    "os.write(1,b\"\\n\".join(sorted(sorted(set(os.read(0,os.fstat(0).st_size).strip(b\"0123456789\").split())),key=len)))"
   ]
  },
  {
   "cell_type": "code",
   "execution_count": null,
   "metadata": {},
   "outputs": [],
   "source": [
    "# 1등 코드 뤼튼보고 풀어서 써달라고 한 것\n",
    "import os\n",
    "\n",
    "# 표준 입력으로부터 데이터 읽기\n",
    "input_data = os.read(0, os.fstat(0).st_size)\n",
    "\n",
    "# 숫자를 제거하고 공백을 기준으로 분할하여 단어 리스트 생성\n",
    "words = input_data.strip(b\"0123456789\").split()\n",
    "\n",
    "# 중복 제거\n",
    "unique_words = set(words)\n",
    "\n",
    "# 사전순으로 정렬\n",
    "sorted_words = sorted(unique_words)\n",
    "\n",
    "# 길이 기준으로 다시 정렬\n",
    "sorted_by_length = sorted(sorted_words, key=len)\n",
    "\n",
    "# 정렬된 단어들을 줄바꿈으로 연결\n",
    "output_data = b\"\\n\".join(sorted_by_length)\n",
    "\n",
    "# 표준 출력으로 출력\n",
    "os.write(1, output_data)"
   ]
  },
  {
   "cell_type": "code",
   "execution_count": null,
   "metadata": {},
   "outputs": [],
   "source": [
    "# 5등 코드 정렬은 크게 오래 안걸리는 건가 싶음\n",
    "# 단어 정렬\n",
    "import sys\n",
    "input = sys.stdin.readline\n",
    "\n",
    "# 집합 51개를 가지는 리스트 생성\n",
    "word_set_list = [set() for _ in range(51)]\n",
    "\n",
    "# 입력\n",
    "n = int(input())\n",
    "for _ in range(n):\n",
    "    word = input().rstrip()\n",
    "    word_set_list[len(word)].add(word)\n",
    "\n",
    "# 정렬 & 출력\n",
    "for word_set in word_set_list:\n",
    "    if len(word_set) == 0:\n",
    "        continue\n",
    "    word_set = sorted(word_set)\n",
    "    print('\\n'.join(word_set))"
   ]
  },
  {
   "cell_type": "code",
   "execution_count": null,
   "metadata": {},
   "outputs": [],
   "source": [
    "# 6등 코드 5등 코드와 비슷\n",
    "import sys\n",
    "\n",
    "n = int(sys.stdin.readline())\n",
    "words = [sys.stdin.readline().rstrip() for i in range(n)]\n",
    "words = list(set(words))\n",
    "words.sort()\n",
    "words.sort(key=len)\n",
    "\n",
    "print('\\n'.join(words))"
   ]
  },
  {
   "cell_type": "code",
   "execution_count": null,
   "metadata": {},
   "outputs": [],
   "source": [
    "# 뤼튼에게 개선해달라고 하면서 알게된 것 sorted의 key인자를 활용하면 한번에 여러기준으로 정렬 바로 가능함\n",
    "# 추가로 출력방식 변경 -> 아까보단 빨라지긴 했는데 그래도 다른 것들보다 느림\n",
    "import sys\n",
    "input = sys.stdin.readline\n",
    "\n",
    "N = int(input().strip())\n",
    "data = set()\n",
    "\n",
    "for _ in range(N):\n",
    "    w_temp = input().strip()\n",
    "    data.add(w_temp)\n",
    "\n",
    "# 데이터를 길이와 사전순으로 정렬\n",
    "sorted_data = sorted(data, key=lambda x: (len(x), x))\n",
    "\n",
    "print('\\n'.join(sorted_data))"
   ]
  }
 ],
 "metadata": {
  "kernelspec": {
   "display_name": "Python 3",
   "language": "python",
   "name": "python3"
  },
  "language_info": {
   "codemirror_mode": {
    "name": "ipython",
    "version": 3
   },
   "file_extension": ".py",
   "mimetype": "text/x-python",
   "name": "python",
   "nbconvert_exporter": "python",
   "pygments_lexer": "ipython3",
   "version": "3.8.6"
  }
 },
 "nbformat": 4,
 "nbformat_minor": 2
}
