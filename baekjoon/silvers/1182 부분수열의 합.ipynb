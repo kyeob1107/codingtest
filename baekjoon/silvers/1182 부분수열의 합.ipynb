{
 "cells": [
  {
   "cell_type": "markdown",
   "metadata": {},
   "source": [
    "https://www.acmicpc.net/problem/1182"
   ]
  },
  {
   "cell_type": "markdown",
   "metadata": {},
   "source": [
    "# tc"
   ]
  },
  {
   "cell_type": "markdown",
   "metadata": {},
   "source": [
    "5 0\n",
    "-7 -3 -2 5 8"
   ]
  },
  {
   "cell_type": "markdown",
   "metadata": {},
   "source": [
    "# 코드"
   ]
  },
  {
   "cell_type": "code",
   "execution_count": 2,
   "metadata": {},
   "outputs": [
    {
     "name": "stdout",
     "output_type": "stream",
     "text": [
      "1\n"
     ]
    }
   ],
   "source": [
    "import sys\n",
    "import itertools\n",
    "\n",
    "def get_subsequences(seq):\n",
    "    subsequences = []\n",
    "    for r in range(len(seq) + 1):\n",
    "        subsequences.extend(itertools.combinations(seq, r))\n",
    "    return subsequences\n",
    "\n",
    "# input = sys.stdin.readline\n",
    "input = open(\"input.txt\", \"rt\").readline\n",
    "\n",
    "N, S = map(int, input().split())\n",
    "numbers = list(map(int, input().split()))\n",
    "print(sum(1 for s in get_subsequences(numbers) if len(s)!=0 and sum(s) == S))"
   ]
  },
  {
   "cell_type": "code",
   "execution_count": 1,
   "metadata": {},
   "outputs": [
    {
     "name": "stdout",
     "output_type": "stream",
     "text": [
      "[]\n",
      "[3]\n",
      "[2]\n",
      "[2, 3]\n",
      "[1]\n",
      "[1, 3]\n",
      "[1, 2]\n",
      "[1, 2, 3]\n"
     ]
    }
   ],
   "source": [
    "def get_subsequences(seq):\n",
    "    # 부분수열을 저장할 리스트\n",
    "    subsequences = []\n",
    "    \n",
    "    # 재귀 함수 정의\n",
    "    def subsequence_helper(current, index):\n",
    "        if index == len(seq):\n",
    "            subsequences.append(current)\n",
    "            return\n",
    "        # 현재 원소를 포함하지 않는 경우\n",
    "        subsequence_helper(current, index + 1)\n",
    "        # 현재 원소를 포함하는 경우\n",
    "        subsequence_helper(current + [seq[index]], index + 1)\n",
    "    \n",
    "    # 재귀 함수 호출\n",
    "    subsequence_helper([], 0)\n",
    "    \n",
    "    return subsequences\n",
    "\n",
    "# 예시 리스트\n",
    "sequence = [1, 2, 3]\n",
    "\n",
    "# 부분수열 생성\n",
    "subsequences = get_subsequences(sequence)\n",
    "\n",
    "# 결과 출력\n",
    "for subseq in subsequences:\n",
    "    print(subseq)"
   ]
  },
  {
   "cell_type": "code",
   "execution_count": 1,
   "metadata": {},
   "outputs": [
    {
     "name": "stdout",
     "output_type": "stream",
     "text": [
      "1\n"
     ]
    }
   ],
   "source": [
    "import sys\n",
    "import itertools\n",
    "\n",
    "def get_subsequences(seq):\n",
    "    for r in range(1, len(seq) + 1):\n",
    "        yield from itertools.combinations(seq, r)\n",
    "\n",
    "# input = sys.stdin.readline\n",
    "input = open(\"input.txt\", \"rt\").readline\n",
    "\n",
    "N, S = map(int, input().split())\n",
    "numbers = list(map(int, input().split()))\n",
    "\n",
    "# 부분수열의 합이 S인 경우의 수를 계산\n",
    "count = sum(1 for s in get_subsequences(numbers) if sum(s) == S)\n",
    "\n",
    "print(count)"
   ]
  },
  {
   "cell_type": "code",
   "execution_count": null,
   "metadata": {},
   "outputs": [],
   "source": [
    "# 1등 코드\n",
    "import sys\n",
    "input = sys.stdin.readline\n",
    "\n",
    "def main():\n",
    "    N, S = map(int, input().split())\n",
    "    *arr, = map(int, input().split())\n",
    "    l, r, m = {}, {}, N//2\n",
    "\n",
    "    def f(li, s, a, d):\n",
    "        d[s] =  d.get(s, 0) + 1\n",
    "        for i in range(a, len(li)):\n",
    "            f(li, s + li[i], i+1, d)\n",
    "\n",
    "    f(arr[:m], 0, 0, l)\n",
    "    f(arr[m:], 0, 0, r)\n",
    "    c = 0\n",
    "    if not S: c = -1\n",
    "\n",
    "    for lk in l:\n",
    "        if (rk:=S-lk) in r:\n",
    "            c += l[lk] * r[rk]\n",
    "    print(c)\n",
    "\n",
    "if __name__ == \"__main__\":\n",
    "    main()"
   ]
  },
  {
   "cell_type": "code",
   "execution_count": 1,
   "metadata": {},
   "outputs": [
    {
     "name": "stdout",
     "output_type": "stream",
     "text": [
      "{0: 1, -7: 1, -10: 1, -3: 1}\n",
      "{0: 1, -2: 1, 3: 1, 11: 1, 6: 1, 5: 1, 13: 1, 8: 1}\n",
      "1\n"
     ]
    }
   ],
   "source": [
    "# 1등 코드 이해용?\n",
    "import sys\n",
    "# input = sys.stdin.readline\n",
    "input = open(\"input.txt\", \"rt\").readline\n",
    "N, S = map(int, input().split())\n",
    "*arr, = map(int, input().split())\n",
    "l, r, m = {}, {}, N//2\n",
    "\n",
    "def f(li, s, a, d):\n",
    "    d[s] =  d.get(s, 0) + 1\n",
    "    for i in range(a, len(li)):\n",
    "        f(li, s + li[i], i+1, d)\n",
    "\n",
    "f(arr[:m], 0, 0, l)\n",
    "f(arr[m:], 0, 0, r)\n",
    "c = 0\n",
    "if not S: c = -1\n",
    "\n",
    "for lk in l:\n",
    "    if (rk:=S-lk) in r:\n",
    "        c += l[lk] * r[rk]\n",
    "print(l)\n",
    "print(r)\n",
    "print(c)"
   ]
  },
  {
   "cell_type": "code",
   "execution_count": null,
   "metadata": {},
   "outputs": [],
   "source": [
    "# 3등 코드\n",
    "N, S = map(int, input().split())\n",
    "data = list(map(int, input().split()))\n",
    "\n",
    "# N: 1 ~ 40\n",
    "# 2 ^ 40 불가능\n",
    "# 20 / 20 으로 나눠서 구하기 -> 2 ^ 20 = 1,000,000\n",
    "M = N // 2\n",
    "def filldict(data):\n",
    "    resdict = {}\n",
    "    size = len(data)\n",
    "    bitmask = 1\n",
    "    while bitmask < 1 << size:\n",
    "        key = 0\n",
    "        for i in range(size):\n",
    "            if bitmask & (1 << i):\n",
    "                key += data[i]\n",
    "        if key in resdict:\n",
    "            resdict[key] += 1  \n",
    "        else:\n",
    "            resdict[key] = 1\n",
    "        bitmask += 1\n",
    "    return resdict\n",
    "\n",
    "leftsums = filldict(data[:M])\n",
    "rightsums = filldict(data[M:])\n",
    "cnt = 0\n",
    "for lkey, lvalue in leftsums.items():\n",
    "    if S - lkey in rightsums:\n",
    "        cnt += lvalue * rightsums[S - lkey]\n",
    "if S in leftsums:\n",
    "    cnt += leftsums[S]\n",
    "if S in rightsums:\n",
    "    cnt += rightsums[S]\n",
    "print(cnt)"
   ]
  },
  {
   "cell_type": "code",
   "execution_count": null,
   "metadata": {},
   "outputs": [],
   "source": [
    "# 4등 코드\n",
    "from sys import stdin\n",
    "from itertools import combinations\n",
    "input = stdin.readline\n",
    "N,S = map(int,input().split())\n",
    "seq = [*map(int,input().split())]\n",
    "seq1 = seq[:N//2]\n",
    "seq2 = seq[N//2:]\n",
    "sum1 = []\n",
    "sum2 = []\n",
    "for i in range(len(seq1)+1):\n",
    "    for com in combinations(seq1,i):\n",
    "        sum1.append(sum(com))\n",
    "sum1.sort()\n",
    "sum1len = len(sum1)\n",
    "for i in range(len(seq2)+1):\n",
    "    for com in combinations(seq2,i):\n",
    "        sum2.append(sum(com))\n",
    "sum2.sort(reverse=True)\n",
    "sum2len = len(sum2)\n",
    "res = 0\n",
    "lt,rt = 0, 0\n",
    "while lt < sum1len and rt < sum2len:\n",
    "    lp, rp = sum1[lt],sum2[rt]\n",
    "    t_sum = lp+rp\n",
    "    if t_sum == S:\n",
    "        tlt,trt = lt, rt\n",
    "        while tlt < sum1len and sum1[tlt] == lp:\n",
    "            tlt+=1\n",
    "        while trt < sum2len and sum2[trt] == rp:\n",
    "            trt+=1\n",
    "        res += (tlt-lt)*(trt-rt)\n",
    "        lt,rt = tlt,trt\n",
    "    elif t_sum >S:\n",
    "        rt+=1\n",
    "    else:\n",
    "        lt+=1\n",
    "if S==0:\n",
    "    print(res-1)\n",
    "else:\n",
    "    print(res)"
   ]
  }
 ],
 "metadata": {
  "kernelspec": {
   "display_name": "Python 3",
   "language": "python",
   "name": "python3"
  },
  "language_info": {
   "codemirror_mode": {
    "name": "ipython",
    "version": 3
   },
   "file_extension": ".py",
   "mimetype": "text/x-python",
   "name": "python",
   "nbconvert_exporter": "python",
   "pygments_lexer": "ipython3",
   "version": "3.8.6"
  }
 },
 "nbformat": 4,
 "nbformat_minor": 2
}
