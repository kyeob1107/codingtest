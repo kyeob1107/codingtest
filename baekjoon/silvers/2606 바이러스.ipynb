{
 "cells": [
  {
   "attachments": {
    "image.png": {
     "image/png": "[encoded data removed]"
    }
   },
   "cell_type": "markdown",
   "metadata": {},
   "source": [
    "https://www.acmicpc.net/problem/2606    \n",
    "신종 바이러스인 웜 바이러스는 네트워크를 통해 전파된다. 한 컴퓨터가 웜 바이러스에 걸리면 그 컴퓨터와 네트워크 상에서 연결되어 있는 모든 컴퓨터는 웜 바이러스에 걸리게 된다.\n",
    "\n",
    "예를 들어 7대의 컴퓨터가 <그림 1>과 같이 네트워크 상에서 연결되어 있다고 하자. 1번 컴퓨터가 웜 바이러스에 걸리면 웜 바이러스는 2번과 5번 컴퓨터를 거쳐 3번과 6번 컴퓨터까지 전파되어 2, 3, 5, 6 네 대의 컴퓨터는 웜 바이러스에 걸리게 된다. 하지만 4번과 7번 컴퓨터는 1번 컴퓨터와 네트워크상에서 연결되어 있지 않기 때문에 영향을 받지 않는다.     \n",
    "![image.png](attachment:image.png)      \n",
    "어느 날 1번 컴퓨터가 웜 바이러스에 걸렸다. 컴퓨터의 수와 네트워크 상에서 서로 연결되어 있는 정보가 주어질 때, 1번 컴퓨터를 통해 웜 바이러스에 걸리게 되는 컴퓨터의 수를 출력하는 프로그램을 작성하시오. \n",
    "\n",
    "입력:   \n",
    "첫째 줄에는 컴퓨터의 수가 주어진다. 컴퓨터의 수는 100 이하인 양의 정수이고 각 컴퓨터에는 1번 부터 차례대로 번호가 매겨진다. 둘째 줄에는 네트워크 상에서 직접 연결되어 있는 컴퓨터 쌍의 수가 주어진다. 이어서 그 수만큼 한 줄에 한 쌍씩 네트워크 상에서 직접 연결되어 있는 컴퓨터의 번호 쌍이 주어진다.  \n",
    "\n",
    "출력:   \n",
    "1번 컴퓨터가 웜 바이러스에 걸렸을 때, 1번 컴퓨터를 통해 웜 바이러스에 걸리게 되는 컴퓨터의 수를 첫째 줄에 출력한다."
   ]
  },
  {
   "cell_type": "markdown",
   "metadata": {},
   "source": [
    "7\n",
    "6\n",
    "1 2\n",
    "2 3\n",
    "1 5\n",
    "5 2\n",
    "5 6\n",
    "4 7"
   ]
  },
  {
   "cell_type": "code",
   "execution_count": 11,
   "metadata": {},
   "outputs": [
    {
     "name": "stdout",
     "output_type": "stream",
     "text": [
      "[[2, 5], [1, 3, 5], [2], [7], [1, 2, 6], [5], [4]]\n",
      "[2, 5, 3, 6]\n",
      "4\n"
     ]
    }
   ],
   "source": [
    "#bfs\n",
    "\n",
    "from collections import deque\n",
    "from sys import stdin\n",
    "\n",
    "# input = stdin.readline\n",
    "input = open(\"input2606.txt\",\"rt\").readline\n",
    "\n",
    "N = int(input())\n",
    "M = int(input())\n",
    "\n",
    "infection_list = []\n",
    "visited = [False] * N\n",
    "adj_list =[[] for _ in range(N)]\n",
    "\n",
    "\n",
    "for _ in range(M):\n",
    "    a, b = map(int, input().split())\n",
    "    adj_list[a - 1].append(b)\n",
    "    adj_list[b - 1].append(a)\n",
    "\n",
    "print(adj_list)\n",
    "queue = deque([1])\n",
    "visited[0] = True\n",
    "\n",
    "while queue:\n",
    "    V = queue.popleft()\n",
    "    if V != 1:\n",
    "        infection_list.append(V)\n",
    "    for c in adj_list[V-1]:\n",
    "        if not visited[c-1]:\n",
    "            visited[c-1] = True\n",
    "            queue.append(c)\n",
    "            \n",
    "print(len(infection_list))"
   ]
  },
  {
   "cell_type": "code",
   "execution_count": 17,
   "metadata": {},
   "outputs": [
    {
     "name": "stdout",
     "output_type": "stream",
     "text": [
      "[1, 2, 3, 5, 6]\n",
      "4\n"
     ]
    }
   ],
   "source": [
    "# dfs (2등꺼 참고)\n",
    "from sys import stdin\n",
    "\n",
    "# input = stdin.readline\n",
    "input = open(\"input2606.txt\",\"rt\").readline\n",
    "\n",
    "def dfs(s):\n",
    "    visited[s-1] = True\n",
    "    infection_list.append(s)\n",
    "    for com in adj_list[s-1]:\n",
    "        if not visited[com-1]:\n",
    "            dfs(com)\n",
    "        \n",
    "\n",
    "N = int(input())\n",
    "M = int(input())\n",
    "\n",
    "infection_list = []\n",
    "visited = [False] * N\n",
    "adj_list =[[] for _ in range(N)]\n",
    "\n",
    "\n",
    "for _ in range(M):\n",
    "    a, b = map(int, input().split())\n",
    "    adj_list[a - 1].append(b)\n",
    "    adj_list[b - 1].append(a)\n",
    "\n",
    "dfs(1)\n",
    "print(infection_list)\n",
    "print(len(infection_list)-1)\n"
   ]
  },
  {
   "cell_type": "code",
   "execution_count": null,
   "metadata": {},
   "outputs": [],
   "source": [
    "# 1등 코드 - 좀 별로 쩐다 이런게 안느껴짐\n",
    "\n",
    "import sys\n",
    "\n",
    "input = sys.stdin.readline\n",
    "\n",
    "a = int(input())\n",
    "\n",
    "b = int(input())\n",
    "\n",
    "b_lst = []\n",
    "\n",
    "result = set()\n",
    "for i in range(b) :\n",
    "    num = list(map(int,input().split()))\n",
    "    if 1 in num :\n",
    "        result.add(num[0])\n",
    "        result.add(num[1])\n",
    "    else :\n",
    "        b_lst.append(num)\n",
    "    \n",
    "while True :\n",
    "    for i in b_lst :\n",
    "        if i[0] in result :\n",
    "            result.add(i[1])\n",
    "            b_lst.remove(i)\n",
    "            break\n",
    "        elif i[1] in result :\n",
    "            result.add(i[0])\n",
    "            b_lst.remove(i)\n",
    "            break\n",
    "    else :\n",
    "        break\n",
    "\n",
    "\n",
    "print(len(result) - 1 )"
   ]
  },
  {
   "cell_type": "code",
   "execution_count": null,
   "metadata": {},
   "outputs": [],
   "source": [
    "# 2등 코드\n",
    "import sys\n",
    "input = sys.stdin.readline\n",
    "\n",
    "def dfs(n):\n",
    "\tvisited[n] = True\n",
    "\tanswer.append(n)\n",
    "\tfor n_num in graph[n]:\n",
    "\t\tif not visited[n_num]:\n",
    "\t\t\tdfs(n_num)\n",
    "\treturn\n",
    "\n",
    "n = int(input())\n",
    "p = int(input())\n",
    "\n",
    "answer = []\n",
    "visited = [False] * (n+1)\n",
    "graph = [[]*(n+1) for _ in range(n+1)]\n",
    "for _ in range(p):\n",
    "    \n",
    "\ta, b  = map(int, input().split())\n",
    "\t\n",
    "\tgraph[a].append(b)\n",
    "\tgraph[b].append(a)\n",
    "\n",
    "dfs(1)\n",
    "print(len(answer[1:]))"
   ]
  },
  {
   "cell_type": "code",
   "execution_count": null,
   "metadata": {},
   "outputs": [],
   "source": [
    "# 몇등인지는 모르겠고 그냥 우연히 눌렀는데 신박한 방식\n",
    "import sys\n",
    "readline = sys.stdin.readline\n",
    "num_of_com = int(readline())\n",
    "visited = [False for _ in range(num_of_com + 1)]\n",
    "graph = dict()\n",
    "for _ in range(int(readline())):\n",
    "    a,b = map(int,readline().split())\n",
    "    if a in graph: graph[a].add(b)\n",
    "    else: graph[a] = {b}\n",
    "    if b in graph: graph[b].add(a)\n",
    "    else: graph[b] = {a}\n",
    "#dfs\n",
    "sys.setrecursionlimit(1000000)\n",
    "def spred(parent):\n",
    "    global visited, graph\n",
    "    children = graph[parent]\n",
    "    visited[parent] = True\n",
    "    for child in children:\n",
    "        if not visited[child]: spred(child)\n",
    "spred(1)\n",
    "print(visited.count(True) - 1)"
   ]
  }
 ],
 "metadata": {
  "kernelspec": {
   "display_name": "Python 3",
   "language": "python",
   "name": "python3"
  },
  "language_info": {
   "codemirror_mode": {
    "name": "ipython",
    "version": 3
   },
   "file_extension": ".py",
   "mimetype": "text/x-python",
   "name": "python",
   "nbconvert_exporter": "python",
   "pygments_lexer": "ipython3",
   "version": "3.8.6"
  }
 },
 "nbformat": 4,
 "nbformat_minor": 2
}
