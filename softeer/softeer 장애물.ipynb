{
 "cells": [
  {
   "cell_type": "markdown",
   "metadata": {},
   "source": [
    "https://softeer.ai/practice/6282"
   ]
  },
  {
   "cell_type": "markdown",
   "metadata": {},
   "source": [
    "7\n",
    "1110111\n",
    "0110101\n",
    "0110101\n",
    "0000100\n",
    "0110000\n",
    "0111110\n",
    "0110000"
   ]
  },
  {
   "cell_type": "markdown",
   "metadata": {},
   "source": [
    "12\n",
    "000000000000\n",
    "000000000001\n",
    "000000000001\n",
    "000000000001\n",
    "000000000001\n",
    "000000000001\n",
    "000000000001\n",
    "000000000001\n",
    "000000000001\n",
    "000000000001\n",
    "000000000001\n",
    "011111111111"
   ]
  },
  {
   "cell_type": "markdown",
   "metadata": {},
   "source": [
    "5\n",
    "01100\n",
    "10001\n",
    "10001\n",
    "01001\n",
    "01111"
   ]
  },
  {
   "cell_type": "markdown",
   "metadata": {},
   "source": [
    "5\n",
    "00001\n",
    "00011\n",
    "00110\n",
    "01100\n",
    "11000"
   ]
  },
  {
   "cell_type": "code",
   "execution_count": 35,
   "metadata": {},
   "outputs": [
    {
     "name": "stdout",
     "output_type": "stream",
     "text": [
      "1\n",
      "9\n"
     ]
    }
   ],
   "source": [
    "#dfs 재귀\n",
    "import sys\n",
    "# N = int(sys.stdin.readline())\n",
    "input = open(\"장애물.txt\",\"rt\").readline\n",
    "N = int(input())\n",
    "map = []\n",
    "block_name = 1\n",
    "block_sep = False\n",
    "block_cnt = dict()\n",
    "visited = [[False]*N for _ in range(N)]\n",
    "\n",
    "def scan(i, j):\n",
    "    global block_name, block_sep\n",
    "    visited[i][j] = True\n",
    "    \n",
    "    if map[i][j] == 1:\n",
    "        if not block_sep:\n",
    "            block_sep = True   \n",
    "            \n",
    "        if j + 1 < N and map[i][j] == map[i][j+1] and not visited[i][j+1]:\n",
    "            scan(i, j+1)\n",
    "    \n",
    "        if i + 1 < N and map[i][j] == map[i+1][j] and not visited[i+1][j]:\n",
    "            scan(i+1, j)\n",
    "        \n",
    "        if j - 1 >= 0 and map[i][j] == map[i][j-1] and not visited[i][j-1]:\n",
    "            scan(i, j-1)    \n",
    "    \n",
    "        if i - 1 >= 0 and map[i][j] == map[i-1][j] and not visited[i-1][j]:\n",
    "            scan(i-1, j)\n",
    "        # for c in map:\n",
    "        #     print(c)\n",
    "        # print(\"\")\n",
    "        map[i][j] = block_name\n",
    "        if block_name not in block_cnt:\n",
    "            block_cnt[block_name] = 1\n",
    "        else:\n",
    "            block_cnt[block_name] += 1\n",
    "    else:\n",
    "        if block_sep:\n",
    "            block_sep = False\n",
    "            block_name += 1\n",
    "\n",
    "\n",
    "for _ in range(N):\n",
    "    # row = sys.stdin.readline().strip()\n",
    "    row = input().strip()\n",
    "    map.append([int(s) for s in row])\n",
    "\n",
    "for i in range(N):\n",
    "    for j in range(N):\n",
    "        if not visited[i][j]:\n",
    "            scan(i, j)\n",
    "\n",
    "print(len(block_cnt.keys()))\n",
    "for i in sorted(block_cnt.values()):\n",
    "    print(i)"
   ]
  },
  {
   "cell_type": "code",
   "execution_count": 36,
   "metadata": {},
   "outputs": [
    {
     "name": "stdout",
     "output_type": "stream",
     "text": [
      "[0, 0, 0, 0, 1]\n",
      "[0, 0, 0, 1, 1]\n",
      "[0, 0, 1, 1, 0]\n",
      "[0, 1, 1, 0, 0]\n",
      "[1, 1, 0, 0, 0]\n"
     ]
    }
   ],
   "source": [
    "for i in map:\n",
    "    print(i)"
   ]
  },
  {
   "cell_type": "code",
   "execution_count": 37,
   "metadata": {},
   "outputs": [
    {
     "name": "stdout",
     "output_type": "stream",
     "text": [
      "1\n",
      "9\n"
     ]
    }
   ],
   "source": [
    "#bfs\n",
    "import sys\n",
    "from collections import deque\n",
    "# N = int(sys.stdin.readline())\n",
    "input = open(\"장애물.txt\",\"rt\").readline\n",
    "N = int(input())\n",
    "map = []\n",
    "block_name = 1\n",
    "block_sep = False\n",
    "block_cnt = dict()\n",
    "visited = [[False]*N for _ in range(N)]\n",
    "\n",
    "directions = [(-1, 0), (1, 0), (0, -1), (0, 1)]\n",
    "\n",
    "def bfs(i, j, block_name):\n",
    "    queue = deque([(i, j)])\n",
    "    visited[i][j] = True\n",
    "    count = 0\n",
    "    while queue:\n",
    "        y, x = queue.popleft()\n",
    "        count += 1\n",
    "        map[y][x] = block_name\n",
    "        \n",
    "        for dy, dx in directions:\n",
    "            ny, nx = y + dy, x + dx\n",
    "            if 0 <= ny < N and 0 <= nx < N and map[ny][nx] == 1 and not visited[ny][nx]:\n",
    "                visited[ny][nx] = True\n",
    "                queue.append((ny, nx))\n",
    "\n",
    "    return count\n",
    "    \n",
    "for _ in range(N):\n",
    "    # row = sys.stdin.readline().strip()\n",
    "    row = input().strip()\n",
    "    map.append([int(s) for s in row])\n",
    "\n",
    "for i in range(N):\n",
    "    for j in range(N):\n",
    "        if map[i][j] == 1 and not visited[i][j]:\n",
    "            block_cnt[block_name] = bfs(i, j, block_name)\n",
    "            block_name += 1\n",
    "\n",
    "print(len(block_cnt.keys()))\n",
    "for i in sorted(block_cnt.values()):\n",
    "    print(i)"
   ]
  }
 ],
 "metadata": {
  "kernelspec": {
   "display_name": "Python 3",
   "language": "python",
   "name": "python3"
  },
  "language_info": {
   "codemirror_mode": {
    "name": "ipython",
    "version": 3
   },
   "file_extension": ".py",
   "mimetype": "text/x-python",
   "name": "python",
   "nbconvert_exporter": "python",
   "pygments_lexer": "ipython3",
   "version": "3.8.6"
  }
 },
 "nbformat": 4,
 "nbformat_minor": 2
}
