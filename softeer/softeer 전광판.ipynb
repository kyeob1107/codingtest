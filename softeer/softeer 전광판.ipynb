{
 "cells": [
  {
   "cell_type": "markdown",
   "metadata": {},
   "source": [
    "2\n",
    "1 2\n",
    "9881 10724"
   ]
  },
  {
   "cell_type": "markdown",
   "metadata": {},
   "source": [
    "2\n",
    "111 11\n",
    "11 11111"
   ]
  },
  {
   "cell_type": "code",
   "execution_count": 9,
   "metadata": {},
   "outputs": [
    {
     "name": "stdout",
     "output_type": "stream",
     "text": [
      "[1] [2]\n",
      "[False, False, True, False, False, True, False]\n",
      "[False, False, False, False, False, False, False]\n",
      "[False, False, False, False, False, False, False]\n",
      "[False, False, False, False, False, False, False]\n",
      "[False, False, False, False, False, False, False]\n",
      "--\n",
      "[True, False, True, True, True, False, True]\n",
      "[False, False, False, False, False, False, False]\n",
      "[False, False, False, False, False, False, False]\n",
      "[False, False, False, False, False, False, False]\n",
      "[False, False, False, False, False, False, False]\n",
      "5\n",
      "===============\n",
      "[9, 8, 8, 1] [1, 0, 7, 2, 4]\n",
      "[False, False, True, False, False, True, False]\n",
      "[True, True, True, True, True, True, True]\n",
      "[True, True, True, True, True, True, True]\n",
      "[True, True, True, True, False, True, False]\n",
      "[False, False, False, False, False, False, False]\n",
      "--\n",
      "[False, True, True, True, False, True, False]\n",
      "[True, False, True, True, True, False, True]\n",
      "[True, True, True, False, False, True, False]\n",
      "[True, True, True, False, True, True, True]\n",
      "[False, False, True, False, False, True, False]\n",
      "12\n",
      "===============\n"
     ]
    }
   ],
   "source": [
    "import sys\n",
    "input = open(\"전광판.txt\",\"rt\").readline\n",
    "# T = int(sys.stdin.readline())\n",
    "T = int(input())\n",
    "num_info = {0:[True, True, True, False, True, True, True], \n",
    "            1:[False, False, True, False, False, True, False], \n",
    "            2:[True, False, True, True, True, False, True], \n",
    "            3:[True, False, True, True, False, True, True], \n",
    "            4:[False, True, True, True, False, True, False], \n",
    "            5:[True, True, False, True, False, True, True], \n",
    "            6:[True, True, False, True, True, True, True], \n",
    "            7:[True, True, True, False, False, True, False], \n",
    "            8:[True, True, True, True, True, True, True], \n",
    "            9:[True, True, True, True, False, True, True]\n",
    "           }\n",
    "for _ in range(T):\n",
    "    state_a = [[False] * 7 for _ in range(5)]\n",
    "    state_b = [[False] * 7 for _ in range(5)]\n",
    "    # a, b = sys.stdin.readline().split()\n",
    "    a, b = input().split()\n",
    "    # a, b = list(map(int, list(a))), list(map(int, list(b)))\n",
    "    a, b = [int(c) for c in a], [int(c) for c in b]\n",
    "    print(a, b)\n",
    "    len_a = len(a)\n",
    "    len_b = len(b)\n",
    "    for n in range(len_a):\n",
    "        state_a[n] = num_info[a[-1 * (n + 1)]]\n",
    "        # print()\n",
    "    for n in range(len_b):\n",
    "        state_b[n] = num_info[b[-1 * (n + 1)]]\n",
    "    \n",
    "    length = max(len_a, len_b)\n",
    "    cnt = 0\n",
    "    for c_n in range(length):\n",
    "        for c_nm in range(7):\n",
    "            if state_a[c_n][c_nm] != state_b[c_n][c_nm]:\n",
    "                cnt += 1\n",
    "    for p in state_a:\n",
    "        print(p)\n",
    "    print(\"--\")\n",
    "    for p in state_b:\n",
    "        print(p)\n",
    "    print(cnt)\n",
    "    print(\"===============\")"
   ]
  }
 ],
 "metadata": {
  "kernelspec": {
   "display_name": "Python 3",
   "language": "python",
   "name": "python3"
  },
  "language_info": {
   "codemirror_mode": {
    "name": "ipython",
    "version": 3
   },
   "file_extension": ".py",
   "mimetype": "text/x-python",
   "name": "python",
   "nbconvert_exporter": "python",
   "pygments_lexer": "ipython3",
   "version": "3.8.6"
  }
 },
 "nbformat": 4,
 "nbformat_minor": 2
}
