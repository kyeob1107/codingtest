{
 "cells": [
  {
   "cell_type": "markdown",
   "metadata": {},
   "source": [
    "https://softeer.ai/practice/7727"
   ]
  },
  {
   "cell_type": "code",
   "execution_count": null,
   "metadata": {},
   "outputs": [],
   "source": [
    "import sys\n",
    "N = int(sys.stdin.readline())"
   ]
  },
  {
   "cell_type": "code",
   "execution_count": 1,
   "metadata": {},
   "outputs": [
    {
     "name": "stdout",
     "output_type": "stream",
     "text": [
      "가장 많은 원소: 4, 갯수: 4\n"
     ]
    }
   ],
   "source": [
    "from collections import Counter\n",
    "\n",
    "# 예시 리스트\n",
    "my_list = [1, 2, 2, 3, 3, 3, 4, 4, 4, 4]\n",
    "# my_list = [1,2,3,4]\n",
    "\n",
    "# 원소들의 갯수 세기\n",
    "counter = Counter(my_list)\n",
    "\n",
    "# 가장 많은 원소 찾기\n",
    "most_common_element = counter.most_common(1)\n",
    "\n",
    "# 결과 출력\n",
    "print(f\"가장 많은 원소: {most_common_element[0][0]}, 갯수: {most_common_element[0][1]}\")"
   ]
  },
  {
   "cell_type": "code",
   "execution_count": 2,
   "metadata": {},
   "outputs": [
    {
     "name": "stdout",
     "output_type": "stream",
     "text": [
      "Counter({1: 1, 2: 1, 3: 1, 4: 1})\n"
     ]
    }
   ],
   "source": [
    "print(counter)"
   ]
  },
  {
   "cell_type": "code",
   "execution_count": 5,
   "metadata": {},
   "outputs": [
    {
     "data": {
      "text/plain": [
       "[(4, 4), (3, 3), (2, 2), (1, 1)]"
      ]
     },
     "execution_count": 5,
     "metadata": {},
     "output_type": "execute_result"
    }
   ],
   "source": [
    "counter.most_common()"
   ]
  },
  {
   "cell_type": "code",
   "execution_count": 1,
   "metadata": {},
   "outputs": [
    {
     "name": "stdout",
     "output_type": "stream",
     "text": [
      "True\n"
     ]
    }
   ],
   "source": [
    "\n",
    "from itertools import tee, islice\n",
    "\n",
    "def is_sublist(sub, main):\n",
    "    sub_len = len(sub)\n",
    "    main_len = len(main)\n",
    "    if sub_len > main_len:\n",
    "        return False\n",
    "    \n",
    "    iters = tee(main, sub_len)\n",
    "    slices = zip(*(islice(it, i, None) for i, it in enumerate(iters)))\n",
    "    \n",
    "    return any(tuple(slice) == tuple(sub) for slice in slices)\n",
    "\n",
    "# 예제\n",
    "list_a = [2, 3, 4]\n",
    "list_b = [1, 2, 3, 4, 5]\n",
    "\n",
    "print(is_sublist(list_a, list_b))  # 출력: True"
   ]
  },
  {
   "cell_type": "code",
   "execution_count": 26,
   "metadata": {},
   "outputs": [
    {
     "name": "stdout",
     "output_type": "stream",
     "text": [
      "=====================\n",
      "1 2 3 4 5 6\n",
      "2 3 4 5 6\n",
      "3 4 5 6\n",
      "---------------------\n",
      "(1, 2, 3) (2, 3, 4) (3, 4, 5) (4, 5, 6)\n"
     ]
    }
   ],
   "source": [
    "sub = [2, 3, 4]\n",
    "main = [1, 2, 3, 4, 5, 6]\n",
    "sub_len = len(sub)\n",
    "iters1, iters2 = tee(main, sub_len), tee(main, sub_len)\n",
    "slices = zip(*(islice(it, i, None) for i, it in enumerate(iters1)))\n",
    "\n",
    "print(\"=====================\")\n",
    "for j in (islice(it, i, None) for i, it in enumerate(iters2)):\n",
    "    print(*j)\n",
    "print(\"---------------------\")\n",
    "# print(islice(it, i, None) for i, it in enumerate(iters))\n",
    "# for k in slices:\n",
    "#     print(k)\n",
    "print(*slices)\n"
   ]
  },
  {
   "cell_type": "code",
   "execution_count": 3,
   "metadata": {},
   "outputs": [
    {
     "data": {
      "text/plain": [
       "[0, 1, 0, 0, 1, 0, 1, 0]"
      ]
     },
     "execution_count": 3,
     "metadata": {},
     "output_type": "execute_result"
    }
   ],
   "source": [
    "def build_lps1(pattern):\n",
    "    lps = [0] * len(pattern)  # LPS 테이블 초기화\n",
    "    j = 0  # 패턴의 접두사를 나타내는 인덱스\n",
    "    i = 1  # 패턴의 현재 위치\n",
    "\n",
    "    while i < len(pattern):\n",
    "        if pattern[i] == pattern[j]:\n",
    "            j += 1\n",
    "            lps[i] = j\n",
    "            i += 1\n",
    "        else:\n",
    "            if j != 0:\n",
    "                j = lps[j - 1]\n",
    "            else:\n",
    "                lps[i] = 0\n",
    "                i += 1\n",
    "\n",
    "    return lps\n",
    "\n",
    "build_lps1('aabcabae')"
   ]
  },
  {
   "cell_type": "code",
   "execution_count": 19,
   "metadata": {},
   "outputs": [
    {
     "data": {
      "text/plain": [
       "[0, 0, 1, 1, 2, 0]"
      ]
     },
     "execution_count": 19,
     "metadata": {},
     "output_type": "execute_result"
    }
   ],
   "source": [
    "build_lps1('abaabc')"
   ]
  },
  {
   "cell_type": "code",
   "execution_count": null,
   "metadata": {},
   "outputs": [],
   "source": []
  },
  {
   "cell_type": "code",
   "execution_count": 20,
   "metadata": {},
   "outputs": [
    {
     "name": "stdout",
     "output_type": "stream",
     "text": [
      "0 0\n",
      "같군!\n",
      "1 1\n",
      "같군!\n",
      "2 2\n",
      "같군!\n",
      "3 3\n",
      "같군!\n",
      "4 4\n",
      "같군!\n",
      "5 5\n",
      "다른데 sub의 처음은 아냐\n",
      "5 2\n",
      "같군!\n",
      "6 3\n",
      "다른데 sub의 처음은 아냐\n",
      "6 1\n",
      "같군!\n",
      "7 2\n",
      "같군!\n",
      "8 3\n",
      "같군!\n",
      "9 4\n",
      "같군!\n",
      "10 5\n",
      "같군!\n",
      "끝!\n"
     ]
    },
    {
     "data": {
      "text/plain": [
       "True"
      ]
     },
     "execution_count": 20,
     "metadata": {},
     "output_type": "execute_result"
    }
   ],
   "source": [
    "def kmp_search(sub, main):\n",
    "    def build_lps(pattern):\n",
    "        lps = [0] * len(pattern)\n",
    "        j = 0\n",
    "        i = 1\n",
    "        while i < len(pattern):\n",
    "            if pattern[i] == pattern[j]:\n",
    "                j += 1\n",
    "                lps[i] = j\n",
    "                i += 1\n",
    "            else:\n",
    "                if j != 0:\n",
    "                    j = lps[j - 1]\n",
    "                else:\n",
    "                    lps[i] = 0\n",
    "                    i += 1\n",
    "        return lps\n",
    "\n",
    "    if not sub:\n",
    "        return True\n",
    "    if len(sub) > len(main):\n",
    "        return False\n",
    "\n",
    "    lps = build_lps(sub)\n",
    "    i = j = 0\n",
    "\n",
    "    while i < len(main):\n",
    "        print(i, j)\n",
    "        if sub[j] == main[i]:\n",
    "            print(\"같군!\")\n",
    "            i += 1\n",
    "            j += 1\n",
    "            \n",
    "        if j == len(sub):\n",
    "            print(\"끝!\")\n",
    "            return True\n",
    "        elif i < len(main) and sub[j] != main[i]:\n",
    "            print(i, j)\n",
    "            if j != 0:\n",
    "                print(\"다른데 sub의 처음은 아냐\")\n",
    "                j = lps[j - 1]\n",
    "                \n",
    "            else:\n",
    "                print(\"다른데 sub의 처음이야\")\n",
    "                i += 1\n",
    "    return False"
   ]
  },
  {
   "cell_type": "code",
   "execution_count": null,
   "metadata": {},
   "outputs": [],
   "source": [
    "def kmp_search(sub, main):\n",
    "    def build_lps(pattern):\n",
    "        lps = [0] * len(pattern)\n",
    "        j = 0\n",
    "        i = 1\n",
    "        while i < len(pattern):\n",
    "            if pattern[i] == pattern[j]:\n",
    "                j += 1\n",
    "                lps[i] = j\n",
    "                i += 1\n",
    "            else:\n",
    "                if j != 0:\n",
    "                    j = lps[j - 1]\n",
    "                else:\n",
    "                    lps[i] = 0\n",
    "                    i += 1\n",
    "        return lps\n",
    "\n",
    "    if not sub:\n",
    "        return True\n",
    "    if len(sub) > len(main):\n",
    "        return False\n",
    "\n",
    "    lps = build_lps(sub)\n",
    "    i = j = 0\n",
    "\n",
    "    while i < len(main):\n",
    "        print(i, j)\n",
    "        if sub[j] == main[i]:\n",
    "            print(\"같군!\")\n",
    "            i += 1\n",
    "            j += 1\n",
    "            \n",
    "            if j == len(sub):\n",
    "                print(\"끝!\")\n",
    "                return True\n",
    "        elif i < len(main):\n",
    "            print(i, j)\n",
    "            if j != 0:\n",
    "                print(\"다른데 sub의 처음은 아냐\")\n",
    "                j = lps[j - 1]\n",
    "                \n",
    "            else:\n",
    "                print(\"다른데 sub의 처음이야\")\n",
    "                i += 1\n",
    "    return False"
   ]
  },
  {
   "cell_type": "code",
   "execution_count": 9,
   "metadata": {},
   "outputs": [
    {
     "name": "stdout",
     "output_type": "stream",
     "text": [
      "Pattern occurs at index 32\n"
     ]
    },
    {
     "data": {
      "text/plain": [
       "-1"
      ]
     },
     "execution_count": 9,
     "metadata": {},
     "output_type": "execute_result"
    }
   ],
   "source": [
    "def boyer_moore_search(text, pattern):\n",
    "    def build_bad_char_table(pattern):\n",
    "        bad_char_table = {}\n",
    "        for i in range(len(pattern)):\n",
    "            bad_char_table[pattern[i]] = i\n",
    "        return bad_char_table\n",
    "\n",
    "    def build_good_suffix_table(pattern):\n",
    "        m = len(pattern)\n",
    "        good_suffix_table = [0] * m\n",
    "        z = [0] * m\n",
    "        z[m-1] = m\n",
    "        r, l = m - 1, m - 1\n",
    "        for i in range(m-2, -1, -1):\n",
    "            if i > l and z[i + m - 1 - r] < i - l:\n",
    "                z[i] = z[i + m - 1 - r]\n",
    "            else:\n",
    "                if i < l:\n",
    "                    l = i\n",
    "                r = i\n",
    "                while l >= 0 and pattern[l] == pattern[l + m - 1 - r]:\n",
    "                    l -= 1\n",
    "                z[i] = r - l\n",
    "        for j in range(m-1):\n",
    "            good_suffix_table[m - z[j] - 1] = j + 1\n",
    "        return good_suffix_table\n",
    "\n",
    "    if len(pattern) == 0:\n",
    "        return 0\n",
    "\n",
    "    bad_char_table = build_bad_char_table(pattern)\n",
    "    good_suffix_table = build_good_suffix_table(pattern)\n",
    "\n",
    "    n, m = len(text), len(pattern)\n",
    "    s = 0\n",
    "\n",
    "    while s <= n - m:\n",
    "        j = m - 1\n",
    "\n",
    "        while j >= 0 and pattern[j] == text[s + j]:\n",
    "            j -= 1\n",
    "\n",
    "        if j < 0:\n",
    "            print(f\"Pattern occurs at index {s}\")\n",
    "            s += good_suffix_table[0] if s + m < n else 1\n",
    "        else:\n",
    "            bad_char_shift = j - bad_char_table.get(text[s + j], -1)\n",
    "            good_suffix_shift = good_suffix_table[j] if j < m - 1 else 1\n",
    "            s += max(bad_char_shift, good_suffix_shift)\n",
    "\n",
    "    return -1\n",
    "\n",
    "# 테스트 예제\n",
    "text = \"HERE IS A SIMPLE XXXXXXX AGADFE EXAMPLE\"\n",
    "pattern = \"EXAMPLE\"\n",
    "boyer_moore_search(text, pattern)"
   ]
  },
  {
   "cell_type": "code",
   "execution_count": 24,
   "metadata": {},
   "outputs": [
    {
     "data": {
      "text/plain": [
       "{'E': 6, 'X': 1, 'A': 2, 'M': 3, 'P': 4, 'L': 5}"
      ]
     },
     "execution_count": 24,
     "metadata": {},
     "output_type": "execute_result"
    }
   ],
   "source": [
    "def build_bad_char_table(pattern):\n",
    "        bad_char_table = {}\n",
    "        for i in range(len(pattern)):\n",
    "            bad_char_table[pattern[i]] = i\n",
    "        return bad_char_table\n",
    "build_bad_char_table(\"EXAMPLE\")"
   ]
  },
  {
   "cell_type": "code",
   "execution_count": 10,
   "metadata": {},
   "outputs": [
    {
     "data": {
      "text/plain": [
       "[0, 0, 0, 0, 0, 1, 6]"
      ]
     },
     "execution_count": 10,
     "metadata": {},
     "output_type": "execute_result"
    }
   ],
   "source": [
    "def build_good_suffix_table(pattern):\n",
    "        m = len(pattern)\n",
    "        good_suffix_table = [0] * m\n",
    "        z = [0] * m\n",
    "        z[m-1] = m\n",
    "        r, l = m - 1, m - 1\n",
    "        for i in range(m-2, -1, -1):\n",
    "            if i > l and z[i + m - 1 - r] < i - l:\n",
    "                z[i] = z[i + m - 1 - r]\n",
    "            else:\n",
    "                if i < l:\n",
    "                    l = i\n",
    "                r = i\n",
    "                while l >= 0 and pattern[l] == pattern[l + m - 1 - r]:\n",
    "                    l -= 1\n",
    "                z[i] = r - l\n",
    "        for j in range(m-1):\n",
    "            good_suffix_table[m - z[j] - 1] = j + 1\n",
    "        return good_suffix_table\n",
    "\n",
    "build_good_suffix_table(\"EXAMPLE\")"
   ]
  },
  {
   "cell_type": "code",
   "execution_count": 1,
   "metadata": {},
   "outputs": [
    {
     "name": "stdout",
     "output_type": "stream",
     "text": [
      "0 4\n",
      "1 2\n",
      "2 8\n"
     ]
    }
   ],
   "source": [
    "a = [4, 2, 8]\n",
    "for i, n in enumerate(a):\n",
    "    print(i, n)"
   ]
  }
 ],
 "metadata": {
  "kernelspec": {
   "display_name": "Python 3",
   "language": "python",
   "name": "python3"
  },
  "language_info": {
   "codemirror_mode": {
    "name": "ipython",
    "version": 3
   },
   "file_extension": ".py",
   "mimetype": "text/x-python",
   "name": "python",
   "nbconvert_exporter": "python",
   "pygments_lexer": "ipython3",
   "version": "3.8.6"
  }
 },
 "nbformat": 4,
 "nbformat_minor": 2
}
