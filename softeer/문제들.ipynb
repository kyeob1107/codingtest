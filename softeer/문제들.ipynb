{
 "cells": [
  {
   "cell_type": "markdown",
   "metadata": {},
   "source": [
    "# 1\n",
    "https://softeer.ai/practice/7703"
   ]
  },
  {
   "cell_type": "code",
   "execution_count": 17,
   "metadata": {},
   "outputs": [
    {
     "name": "stdout",
     "output_type": "stream",
     "text": [
      "10THHCPC\n"
     ]
    }
   ],
   "source": [
    "input = open(\"X mark.txt\",\"rt\").readline\n",
    "\n",
    "N = int(input())\n",
    "answer = []\n",
    "for _ in range(N):\n",
    "    text = input().split()\n",
    "    if text[0].find('X') != -1:\n",
    "        pos = text[0].find('X')\n",
    "    elif text[0].find('x') != -1:\n",
    "        pos = text[0].find('x')\n",
    "    answer.append(text[1][pos].upper())\n",
    "print(''.join(answer))"
   ]
  },
  {
   "cell_type": "markdown",
   "metadata": {},
   "source": [
    "# 2\n",
    "https://softeer.ai/practice/7628"
   ]
  },
  {
   "cell_type": "code",
   "execution_count": null,
   "metadata": {},
   "outputs": [],
   "source": []
  }
 ],
 "metadata": {
  "kernelspec": {
   "display_name": "Python 3",
   "language": "python",
   "name": "python3"
  },
  "language_info": {
   "codemirror_mode": {
    "name": "ipython",
    "version": 3
   },
   "file_extension": ".py",
   "mimetype": "text/x-python",
   "name": "python",
   "nbconvert_exporter": "python",
   "pygments_lexer": "ipython3",
   "version": "3.8.6"
  }
 },
 "nbformat": 4,
 "nbformat_minor": 2
}
